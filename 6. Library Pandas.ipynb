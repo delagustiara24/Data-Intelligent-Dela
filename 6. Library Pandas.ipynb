{
 "cells": [
  {
   "cell_type": "markdown",
   "metadata": {},
   "source": [
    "# Package Pandas  \n",
    "\n",
    "Digunakan untuk pengolahan data yang berkaitan dengan data frame. "
   ]
  },
  {
   "cell_type": "code",
   "execution_count": 1,
   "metadata": {},
   "outputs": [],
   "source": [
    "# Lakukan import pandas sebagai pd\n",
    "import pandas as pd"
   ]
  },
  {
   "cell_type": "code",
   "execution_count": 2,
   "metadata": {},
   "outputs": [],
   "source": [
    "# Lakukan import numpy sebagai np\n",
    "import numpy as np"
   ]
  },
  {
   "cell_type": "markdown",
   "metadata": {},
   "source": [
    "## 1. Membuat dataframe\n",
    "\n",
    "Untuk membuat data frame, digunakan sintaks berikut: `pandas.DataFrame( data, index, columns, dtype, copy)`  \n",
    "1. index merupakan label untuk baris   \n",
    "2. columns merupakan label untuk kolom\n",
    "3. dtype merupakan tipe data perkolom\n",
    "4. copy digunakan untuk menyalin data, defaultnya False"
   ]
  },
  {
   "cell_type": "code",
   "execution_count": 3,
   "metadata": {},
   "outputs": [
    {
     "name": "stdout",
     "output_type": "stream",
     "text": [
      "DatetimeIndex(['2020-09-30', '2020-10-31', '2020-11-30', '2020-12-31',\n",
      "               '2021-01-31', '2021-02-28', '2021-03-31', '2021-04-30',\n",
      "               '2021-05-31'],\n",
      "              dtype='datetime64[ns]', freq='M')\n"
     ]
    }
   ],
   "source": [
    "# Membuat rentang waktu\n",
    "tanggal = pd.date_range(\"20200901\", freq=\"M\", periods=9)\n",
    "print(tanggal)"
   ]
  },
  {
   "cell_type": "code",
   "execution_count": 4,
   "metadata": {},
   "outputs": [
    {
     "data": {
      "text/html": [
       "<div>\n",
       "<style scoped>\n",
       "    .dataframe tbody tr th:only-of-type {\n",
       "        vertical-align: middle;\n",
       "    }\n",
       "\n",
       "    .dataframe tbody tr th {\n",
       "        vertical-align: top;\n",
       "    }\n",
       "\n",
       "    .dataframe thead th {\n",
       "        text-align: right;\n",
       "    }\n",
       "</style>\n",
       "<table border=\"1\" class=\"dataframe\">\n",
       "  <thead>\n",
       "    <tr style=\"text-align: right;\">\n",
       "      <th></th>\n",
       "      <th>A</th>\n",
       "      <th>B</th>\n",
       "      <th>C</th>\n",
       "      <th>D</th>\n",
       "    </tr>\n",
       "  </thead>\n",
       "  <tbody>\n",
       "    <tr>\n",
       "      <th>2020-09-30</th>\n",
       "      <td>-0.067267</td>\n",
       "      <td>-0.709860</td>\n",
       "      <td>0.387654</td>\n",
       "      <td>0.677074</td>\n",
       "    </tr>\n",
       "    <tr>\n",
       "      <th>2020-10-31</th>\n",
       "      <td>0.201267</td>\n",
       "      <td>-1.136603</td>\n",
       "      <td>-0.767407</td>\n",
       "      <td>-0.189269</td>\n",
       "    </tr>\n",
       "    <tr>\n",
       "      <th>2020-11-30</th>\n",
       "      <td>1.092486</td>\n",
       "      <td>0.368111</td>\n",
       "      <td>0.700373</td>\n",
       "      <td>-0.603299</td>\n",
       "    </tr>\n",
       "    <tr>\n",
       "      <th>2020-12-31</th>\n",
       "      <td>-1.372058</td>\n",
       "      <td>-1.261350</td>\n",
       "      <td>1.185856</td>\n",
       "      <td>0.234144</td>\n",
       "    </tr>\n",
       "    <tr>\n",
       "      <th>2021-01-31</th>\n",
       "      <td>0.836012</td>\n",
       "      <td>-0.770147</td>\n",
       "      <td>-0.769220</td>\n",
       "      <td>-0.338956</td>\n",
       "    </tr>\n",
       "    <tr>\n",
       "      <th>2021-02-28</th>\n",
       "      <td>1.872806</td>\n",
       "      <td>0.038028</td>\n",
       "      <td>-2.707070</td>\n",
       "      <td>-0.683642</td>\n",
       "    </tr>\n",
       "    <tr>\n",
       "      <th>2021-03-31</th>\n",
       "      <td>0.835834</td>\n",
       "      <td>1.236048</td>\n",
       "      <td>-0.344895</td>\n",
       "      <td>-0.345168</td>\n",
       "    </tr>\n",
       "    <tr>\n",
       "      <th>2021-04-30</th>\n",
       "      <td>-0.788410</td>\n",
       "      <td>-1.108857</td>\n",
       "      <td>0.676523</td>\n",
       "      <td>-0.085311</td>\n",
       "    </tr>\n",
       "    <tr>\n",
       "      <th>2021-05-31</th>\n",
       "      <td>0.852753</td>\n",
       "      <td>-0.426726</td>\n",
       "      <td>1.421790</td>\n",
       "      <td>-0.410002</td>\n",
       "    </tr>\n",
       "  </tbody>\n",
       "</table>\n",
       "</div>"
      ],
      "text/plain": [
       "                   A         B         C         D\n",
       "2020-09-30 -0.067267 -0.709860  0.387654  0.677074\n",
       "2020-10-31  0.201267 -1.136603 -0.767407 -0.189269\n",
       "2020-11-30  1.092486  0.368111  0.700373 -0.603299\n",
       "2020-12-31 -1.372058 -1.261350  1.185856  0.234144\n",
       "2021-01-31  0.836012 -0.770147 -0.769220 -0.338956\n",
       "2021-02-28  1.872806  0.038028 -2.707070 -0.683642\n",
       "2021-03-31  0.835834  1.236048 -0.344895 -0.345168\n",
       "2021-04-30 -0.788410 -1.108857  0.676523 -0.085311\n",
       "2021-05-31  0.852753 -0.426726  1.421790 -0.410002"
      ]
     },
     "execution_count": 4,
     "metadata": {},
     "output_type": "execute_result"
    }
   ],
   "source": [
    "# Membuat data frame dengan data random ukuran 9x4, serta label baris adalah tanggal dan label kolom A, B, C, D\n",
    "contoh1 = pd.DataFrame(np.random.randn(9,4), index=tanggal, columns=(\"A\",\"B\",\"C\",\"D\"))\n",
    "contoh1"
   ]
  },
  {
   "cell_type": "code",
   "execution_count": 5,
   "metadata": {},
   "outputs": [
    {
     "data": {
      "text/html": [
       "<div>\n",
       "<style scoped>\n",
       "    .dataframe tbody tr th:only-of-type {\n",
       "        vertical-align: middle;\n",
       "    }\n",
       "\n",
       "    .dataframe tbody tr th {\n",
       "        vertical-align: top;\n",
       "    }\n",
       "\n",
       "    .dataframe thead th {\n",
       "        text-align: right;\n",
       "    }\n",
       "</style>\n",
       "<table border=\"1\" class=\"dataframe\">\n",
       "  <thead>\n",
       "    <tr style=\"text-align: right;\">\n",
       "      <th></th>\n",
       "      <th>A</th>\n",
       "      <th>B</th>\n",
       "      <th>C</th>\n",
       "      <th>D</th>\n",
       "      <th>E</th>\n",
       "    </tr>\n",
       "  </thead>\n",
       "  <tbody>\n",
       "    <tr>\n",
       "      <th>satu</th>\n",
       "      <td>1.0</td>\n",
       "      <td>2018-09-25</td>\n",
       "      <td>3</td>\n",
       "      <td>test</td>\n",
       "      <td>1</td>\n",
       "    </tr>\n",
       "    <tr>\n",
       "      <th>dua</th>\n",
       "      <td>1.0</td>\n",
       "      <td>2018-09-25</td>\n",
       "      <td>3</td>\n",
       "      <td>train</td>\n",
       "      <td>12</td>\n",
       "    </tr>\n",
       "    <tr>\n",
       "      <th>tiga</th>\n",
       "      <td>1.0</td>\n",
       "      <td>2018-09-25</td>\n",
       "      <td>3</td>\n",
       "      <td>test</td>\n",
       "      <td>32</td>\n",
       "    </tr>\n",
       "    <tr>\n",
       "      <th>empat</th>\n",
       "      <td>1.0</td>\n",
       "      <td>2018-09-25</td>\n",
       "      <td>3</td>\n",
       "      <td>train</td>\n",
       "      <td>14</td>\n",
       "    </tr>\n",
       "  </tbody>\n",
       "</table>\n",
       "</div>"
      ],
      "text/plain": [
       "         A          B  C      D   E\n",
       "satu   1.0 2018-09-25  3   test   1\n",
       "dua    1.0 2018-09-25  3  train  12\n",
       "tiga   1.0 2018-09-25  3   test  32\n",
       "empat  1.0 2018-09-25  3  train  14"
      ]
     },
     "execution_count": 5,
     "metadata": {},
     "output_type": "execute_result"
    }
   ],
   "source": [
    "# Membuat dataframe dengan daftar anggota\n",
    "contoh2 = pd.DataFrame({\"A\": 1.,\n",
    "                       \"B\": pd.Timestamp(\"20180925\"),\n",
    "                       \"C\": np.array([3]*4, dtype=\"int32\"),\n",
    "                       \"D\": pd.Categorical([\"test\",\"train\"]*2),\n",
    "                       \"E\": np.array([1,12,32,14])}, index=[\"satu\",\"dua\",\"tiga\",\"empat\"])\n",
    "contoh2"
   ]
  },
  {
   "cell_type": "markdown",
   "metadata": {},
   "source": [
    "## 2. Menambah, menghapus, dan menyeleksi kolom data frame\n",
    "\n",
    "Menghapus kolom dengan fungsi:  \n",
    "1. `del(data_frame[\"kolom\"])` \n",
    "2. `.pop(\"kolom\")`\n",
    "3. `.drop(\"kolom\", axis=1)`; axis=1 berarti menghapus sepanjang kolom yang dimaksud\n",
    "\n",
    "Menambahkan kolom baru dengan operasi matematis \"+\""
   ]
  },
  {
   "cell_type": "code",
   "execution_count": 6,
   "metadata": {},
   "outputs": [
    {
     "name": "stdout",
     "output_type": "stream",
     "text": [
      "         A          B  C      D   E   F\n",
      "satu   1.0 2018-09-25  3   test   1   4\n",
      "dua    1.0 2018-09-25  3  train  12  15\n",
      "tiga   1.0 2018-09-25  3   test  32  35\n",
      "empat  1.0 2018-09-25  3  train  14  17\n"
     ]
    }
   ],
   "source": [
    "# Menambahkan kolom baru dengan nama \"F\", dengan operasi penambahan kolom \"C\" dan \"E\"\n",
    "contoh2[\"F\"]=contoh2[\"C\"]+contoh2[\"E\"]\n",
    "print(contoh2)"
   ]
  },
  {
   "cell_type": "code",
   "execution_count": 7,
   "metadata": {},
   "outputs": [
    {
     "name": "stdout",
     "output_type": "stream",
     "text": [
      "         A          B  C      D   E   F     G\n",
      "satu   1.0 2018-09-25  3   test   1   4  10.0\n",
      "dua    1.0 2018-09-25  3  train  12  15   NaN\n",
      "tiga   1.0 2018-09-25  3   test  32  35  20.0\n",
      "empat  1.0 2018-09-25  3  train  14  17  30.0\n"
     ]
    }
   ],
   "source": [
    "# Menambahkan kolom baru dengan nama \"G\", pada index satu, tiga, empat \n",
    "contoh2[\"G\"]=pd.Series([10,20,30], index=[\"satu\", \"tiga\", \"empat\"])\n",
    "print(contoh2)"
   ]
  },
  {
   "cell_type": "code",
   "execution_count": 8,
   "metadata": {},
   "outputs": [
    {
     "data": {
      "text/html": [
       "<div>\n",
       "<style scoped>\n",
       "    .dataframe tbody tr th:only-of-type {\n",
       "        vertical-align: middle;\n",
       "    }\n",
       "\n",
       "    .dataframe tbody tr th {\n",
       "        vertical-align: top;\n",
       "    }\n",
       "\n",
       "    .dataframe thead th {\n",
       "        text-align: right;\n",
       "    }\n",
       "</style>\n",
       "<table border=\"1\" class=\"dataframe\">\n",
       "  <thead>\n",
       "    <tr style=\"text-align: right;\">\n",
       "      <th></th>\n",
       "      <th>A</th>\n",
       "      <th>C</th>\n",
       "      <th>D</th>\n",
       "      <th>E</th>\n",
       "      <th>F</th>\n",
       "      <th>G</th>\n",
       "    </tr>\n",
       "  </thead>\n",
       "  <tbody>\n",
       "    <tr>\n",
       "      <th>satu</th>\n",
       "      <td>1.0</td>\n",
       "      <td>3</td>\n",
       "      <td>test</td>\n",
       "      <td>1</td>\n",
       "      <td>4</td>\n",
       "      <td>10.0</td>\n",
       "    </tr>\n",
       "    <tr>\n",
       "      <th>dua</th>\n",
       "      <td>1.0</td>\n",
       "      <td>3</td>\n",
       "      <td>train</td>\n",
       "      <td>12</td>\n",
       "      <td>15</td>\n",
       "      <td>NaN</td>\n",
       "    </tr>\n",
       "    <tr>\n",
       "      <th>tiga</th>\n",
       "      <td>1.0</td>\n",
       "      <td>3</td>\n",
       "      <td>test</td>\n",
       "      <td>32</td>\n",
       "      <td>35</td>\n",
       "      <td>20.0</td>\n",
       "    </tr>\n",
       "    <tr>\n",
       "      <th>empat</th>\n",
       "      <td>1.0</td>\n",
       "      <td>3</td>\n",
       "      <td>train</td>\n",
       "      <td>14</td>\n",
       "      <td>17</td>\n",
       "      <td>30.0</td>\n",
       "    </tr>\n",
       "  </tbody>\n",
       "</table>\n",
       "</div>"
      ],
      "text/plain": [
       "         A  C      D   E   F     G\n",
       "satu   1.0  3   test   1   4  10.0\n",
       "dua    1.0  3  train  12  15   NaN\n",
       "tiga   1.0  3   test  32  35  20.0\n",
       "empat  1.0  3  train  14  17  30.0"
      ]
     },
     "execution_count": 8,
     "metadata": {},
     "output_type": "execute_result"
    }
   ],
   "source": [
    "# Menghapus kolom \"B\" dengan fungsi del\n",
    "del(contoh2[\"B\"])\n",
    "contoh2"
   ]
  },
  {
   "cell_type": "code",
   "execution_count": 9,
   "metadata": {},
   "outputs": [
    {
     "data": {
      "text/html": [
       "<div>\n",
       "<style scoped>\n",
       "    .dataframe tbody tr th:only-of-type {\n",
       "        vertical-align: middle;\n",
       "    }\n",
       "\n",
       "    .dataframe tbody tr th {\n",
       "        vertical-align: top;\n",
       "    }\n",
       "\n",
       "    .dataframe thead th {\n",
       "        text-align: right;\n",
       "    }\n",
       "</style>\n",
       "<table border=\"1\" class=\"dataframe\">\n",
       "  <thead>\n",
       "    <tr style=\"text-align: right;\">\n",
       "      <th></th>\n",
       "      <th>A</th>\n",
       "      <th>D</th>\n",
       "      <th>E</th>\n",
       "      <th>F</th>\n",
       "      <th>G</th>\n",
       "    </tr>\n",
       "  </thead>\n",
       "  <tbody>\n",
       "    <tr>\n",
       "      <th>satu</th>\n",
       "      <td>1.0</td>\n",
       "      <td>test</td>\n",
       "      <td>1</td>\n",
       "      <td>4</td>\n",
       "      <td>10.0</td>\n",
       "    </tr>\n",
       "    <tr>\n",
       "      <th>dua</th>\n",
       "      <td>1.0</td>\n",
       "      <td>train</td>\n",
       "      <td>12</td>\n",
       "      <td>15</td>\n",
       "      <td>NaN</td>\n",
       "    </tr>\n",
       "    <tr>\n",
       "      <th>tiga</th>\n",
       "      <td>1.0</td>\n",
       "      <td>test</td>\n",
       "      <td>32</td>\n",
       "      <td>35</td>\n",
       "      <td>20.0</td>\n",
       "    </tr>\n",
       "    <tr>\n",
       "      <th>empat</th>\n",
       "      <td>1.0</td>\n",
       "      <td>train</td>\n",
       "      <td>14</td>\n",
       "      <td>17</td>\n",
       "      <td>30.0</td>\n",
       "    </tr>\n",
       "  </tbody>\n",
       "</table>\n",
       "</div>"
      ],
      "text/plain": [
       "         A      D   E   F     G\n",
       "satu   1.0   test   1   4  10.0\n",
       "dua    1.0  train  12  15   NaN\n",
       "tiga   1.0   test  32  35  20.0\n",
       "empat  1.0  train  14  17  30.0"
      ]
     },
     "execution_count": 9,
     "metadata": {},
     "output_type": "execute_result"
    }
   ],
   "source": [
    "# Menghapus kolom \"C\" dengan pop\n",
    "contoh2.pop(\"C\")\n",
    "contoh2"
   ]
  },
  {
   "cell_type": "code",
   "execution_count": 10,
   "metadata": {},
   "outputs": [
    {
     "data": {
      "text/plain": [
       "satu     1.0\n",
       "dua      1.0\n",
       "tiga     1.0\n",
       "empat    1.0\n",
       "Name: A, dtype: float64"
      ]
     },
     "execution_count": 10,
     "metadata": {},
     "output_type": "execute_result"
    }
   ],
   "source": [
    "# Menyeleksi kolom \"A\"\n",
    "kolomA = contoh2[\"A\"]\n",
    "kolomA"
   ]
  },
  {
   "cell_type": "code",
   "execution_count": 11,
   "metadata": {},
   "outputs": [
    {
     "data": {
      "text/html": [
       "<div>\n",
       "<style scoped>\n",
       "    .dataframe tbody tr th:only-of-type {\n",
       "        vertical-align: middle;\n",
       "    }\n",
       "\n",
       "    .dataframe tbody tr th {\n",
       "        vertical-align: top;\n",
       "    }\n",
       "\n",
       "    .dataframe thead th {\n",
       "        text-align: right;\n",
       "    }\n",
       "</style>\n",
       "<table border=\"1\" class=\"dataframe\">\n",
       "  <thead>\n",
       "    <tr style=\"text-align: right;\">\n",
       "      <th></th>\n",
       "      <th>D</th>\n",
       "      <th>E</th>\n",
       "      <th>F</th>\n",
       "      <th>G</th>\n",
       "    </tr>\n",
       "  </thead>\n",
       "  <tbody>\n",
       "    <tr>\n",
       "      <th>satu</th>\n",
       "      <td>test</td>\n",
       "      <td>1</td>\n",
       "      <td>4</td>\n",
       "      <td>10.0</td>\n",
       "    </tr>\n",
       "    <tr>\n",
       "      <th>dua</th>\n",
       "      <td>train</td>\n",
       "      <td>12</td>\n",
       "      <td>15</td>\n",
       "      <td>NaN</td>\n",
       "    </tr>\n",
       "    <tr>\n",
       "      <th>tiga</th>\n",
       "      <td>test</td>\n",
       "      <td>32</td>\n",
       "      <td>35</td>\n",
       "      <td>20.0</td>\n",
       "    </tr>\n",
       "    <tr>\n",
       "      <th>empat</th>\n",
       "      <td>train</td>\n",
       "      <td>14</td>\n",
       "      <td>17</td>\n",
       "      <td>30.0</td>\n",
       "    </tr>\n",
       "  </tbody>\n",
       "</table>\n",
       "</div>"
      ],
      "text/plain": [
       "           D   E   F     G\n",
       "satu    test   1   4  10.0\n",
       "dua    train  12  15   NaN\n",
       "tiga    test  32  35  20.0\n",
       "empat  train  14  17  30.0"
      ]
     },
     "execution_count": 11,
     "metadata": {},
     "output_type": "execute_result"
    }
   ],
   "source": [
    "# Menghapus kolom \"A\" dengan fungsi drop\n",
    "contoh2_hapus = contoh2.drop(\"A\", axis = 1)\n",
    "contoh2_hapus.head()"
   ]
  },
  {
   "cell_type": "markdown",
   "metadata": {},
   "source": [
    "## 3. Menambah, mengurang, dan menyeleksi baris pada data frame\n",
    "\n",
    "Menyeleksi/mengiris data frame dengan fungsi:\n",
    "1. `loc`: untuk seleksi dengan menggunakan indeks/bilangan bulat\n",
    "2. `iloc`: untuk seleksi dengan menggunakan bilangan bulat\n",
    "\n",
    "Menambah baris dengan fungsi: `.append()`\n",
    "\n",
    "Menghapus baris dengan fungsi: `.del(\"index\", axis=0)`, axis=0 berarti menghapus sepanjang baris."
   ]
  },
  {
   "cell_type": "code",
   "execution_count": 12,
   "metadata": {},
   "outputs": [
    {
     "data": {
      "text/html": [
       "<div>\n",
       "<style scoped>\n",
       "    .dataframe tbody tr th:only-of-type {\n",
       "        vertical-align: middle;\n",
       "    }\n",
       "\n",
       "    .dataframe tbody tr th {\n",
       "        vertical-align: top;\n",
       "    }\n",
       "\n",
       "    .dataframe thead th {\n",
       "        text-align: right;\n",
       "    }\n",
       "</style>\n",
       "<table border=\"1\" class=\"dataframe\">\n",
       "  <thead>\n",
       "    <tr style=\"text-align: right;\">\n",
       "      <th></th>\n",
       "      <th>A</th>\n",
       "      <th>D</th>\n",
       "      <th>E</th>\n",
       "      <th>F</th>\n",
       "      <th>G</th>\n",
       "    </tr>\n",
       "  </thead>\n",
       "  <tbody>\n",
       "    <tr>\n",
       "      <th>satu</th>\n",
       "      <td>1.0</td>\n",
       "      <td>test</td>\n",
       "      <td>1</td>\n",
       "      <td>4</td>\n",
       "      <td>10.0</td>\n",
       "    </tr>\n",
       "    <tr>\n",
       "      <th>dua</th>\n",
       "      <td>1.0</td>\n",
       "      <td>train</td>\n",
       "      <td>12</td>\n",
       "      <td>15</td>\n",
       "      <td>NaN</td>\n",
       "    </tr>\n",
       "    <tr>\n",
       "      <th>tiga</th>\n",
       "      <td>1.0</td>\n",
       "      <td>test</td>\n",
       "      <td>32</td>\n",
       "      <td>35</td>\n",
       "      <td>20.0</td>\n",
       "    </tr>\n",
       "    <tr>\n",
       "      <th>empat</th>\n",
       "      <td>1.0</td>\n",
       "      <td>train</td>\n",
       "      <td>14</td>\n",
       "      <td>17</td>\n",
       "      <td>30.0</td>\n",
       "    </tr>\n",
       "    <tr>\n",
       "      <th>0</th>\n",
       "      <td>1.0</td>\n",
       "      <td>train</td>\n",
       "      <td>4</td>\n",
       "      <td>5</td>\n",
       "      <td>6.0</td>\n",
       "    </tr>\n",
       "    <tr>\n",
       "      <th>1</th>\n",
       "      <td>2.0</td>\n",
       "      <td>test</td>\n",
       "      <td>7</td>\n",
       "      <td>12</td>\n",
       "      <td>34.0</td>\n",
       "    </tr>\n",
       "  </tbody>\n",
       "</table>\n",
       "</div>"
      ],
      "text/plain": [
       "         A      D   E   F     G\n",
       "satu   1.0   test   1   4  10.0\n",
       "dua    1.0  train  12  15   NaN\n",
       "tiga   1.0   test  32  35  20.0\n",
       "empat  1.0  train  14  17  30.0\n",
       "0      1.0  train   4   5   6.0\n",
       "1      2.0   test   7  12  34.0"
      ]
     },
     "execution_count": 12,
     "metadata": {},
     "output_type": "execute_result"
    }
   ],
   "source": [
    "# Menambah baris menggunakan fungsi append\n",
    "contoh3 = pd.DataFrame([[1,\"train\",4,5,6.0], [2,\"test\",7,12,34]], columns=[\"A\",\"D\",\"E\",\"F\",\"G\"])\n",
    "contoh3\n",
    "\n",
    "contoh4 = contoh2.append(contoh3)\n",
    "contoh4"
   ]
  },
  {
   "cell_type": "code",
   "execution_count": 13,
   "metadata": {},
   "outputs": [
    {
     "data": {
      "text/plain": [
       "A       1\n",
       "D    test\n",
       "E      32\n",
       "F      35\n",
       "G      20\n",
       "Name: tiga, dtype: object"
      ]
     },
     "execution_count": 13,
     "metadata": {},
     "output_type": "execute_result"
    }
   ],
   "source": [
    "# Menyeleksi indeks \"tiga\" pada baris\n",
    "contoh4.loc[\"tiga\"]"
   ]
  },
  {
   "cell_type": "code",
   "execution_count": 14,
   "metadata": {},
   "outputs": [
    {
     "data": {
      "text/html": [
       "<div>\n",
       "<style scoped>\n",
       "    .dataframe tbody tr th:only-of-type {\n",
       "        vertical-align: middle;\n",
       "    }\n",
       "\n",
       "    .dataframe tbody tr th {\n",
       "        vertical-align: top;\n",
       "    }\n",
       "\n",
       "    .dataframe thead th {\n",
       "        text-align: right;\n",
       "    }\n",
       "</style>\n",
       "<table border=\"1\" class=\"dataframe\">\n",
       "  <thead>\n",
       "    <tr style=\"text-align: right;\">\n",
       "      <th></th>\n",
       "      <th>A</th>\n",
       "      <th>D</th>\n",
       "      <th>E</th>\n",
       "      <th>F</th>\n",
       "      <th>G</th>\n",
       "    </tr>\n",
       "  </thead>\n",
       "  <tbody>\n",
       "    <tr>\n",
       "      <th>dua</th>\n",
       "      <td>1.0</td>\n",
       "      <td>train</td>\n",
       "      <td>12</td>\n",
       "      <td>15</td>\n",
       "      <td>NaN</td>\n",
       "    </tr>\n",
       "    <tr>\n",
       "      <th>tiga</th>\n",
       "      <td>1.0</td>\n",
       "      <td>test</td>\n",
       "      <td>32</td>\n",
       "      <td>35</td>\n",
       "      <td>20.0</td>\n",
       "    </tr>\n",
       "  </tbody>\n",
       "</table>\n",
       "</div>"
      ],
      "text/plain": [
       "        A      D   E   F     G\n",
       "dua   1.0  train  12  15   NaN\n",
       "tiga  1.0   test  32  35  20.0"
      ]
     },
     "execution_count": 14,
     "metadata": {},
     "output_type": "execute_result"
    }
   ],
   "source": [
    "# Menyeleksi baris ke 2 dan 3, dengan menyebut urutannya, kemudian mengcopy hasilnya\n",
    "contoh5=contoh4.iloc[1:3].copy()\n",
    "contoh5"
   ]
  },
  {
   "cell_type": "code",
   "execution_count": 15,
   "metadata": {},
   "outputs": [
    {
     "data": {
      "text/html": [
       "<div>\n",
       "<style scoped>\n",
       "    .dataframe tbody tr th:only-of-type {\n",
       "        vertical-align: middle;\n",
       "    }\n",
       "\n",
       "    .dataframe tbody tr th {\n",
       "        vertical-align: top;\n",
       "    }\n",
       "\n",
       "    .dataframe thead th {\n",
       "        text-align: right;\n",
       "    }\n",
       "</style>\n",
       "<table border=\"1\" class=\"dataframe\">\n",
       "  <thead>\n",
       "    <tr style=\"text-align: right;\">\n",
       "      <th></th>\n",
       "      <th>A</th>\n",
       "      <th>D</th>\n",
       "      <th>E</th>\n",
       "      <th>F</th>\n",
       "      <th>G</th>\n",
       "    </tr>\n",
       "  </thead>\n",
       "  <tbody>\n",
       "    <tr>\n",
       "      <th>dua</th>\n",
       "      <td>1.0</td>\n",
       "      <td>train</td>\n",
       "      <td>12</td>\n",
       "      <td>15</td>\n",
       "      <td>NaN</td>\n",
       "    </tr>\n",
       "  </tbody>\n",
       "</table>\n",
       "</div>"
      ],
      "text/plain": [
       "       A      D   E   F   G\n",
       "dua  1.0  train  12  15 NaN"
      ]
     },
     "execution_count": 15,
     "metadata": {},
     "output_type": "execute_result"
    }
   ],
   "source": [
    "# Menghapus baris dengan indeks \"tiga\". Simpan variabel dengan nama \"contoh5_hapus\"\n",
    "contoh5_hapus = contoh5.drop(\"tiga\", axis=0)\n",
    "contoh5_hapus"
   ]
  },
  {
   "cell_type": "markdown",
   "metadata": {},
   "source": [
    "## 4. Menyeleksi/megiris data frame berdasar baris dan kolom\n",
    "\n"
   ]
  },
  {
   "cell_type": "code",
   "execution_count": 16,
   "metadata": {},
   "outputs": [
    {
     "data": {
      "text/html": [
       "<div>\n",
       "<style scoped>\n",
       "    .dataframe tbody tr th:only-of-type {\n",
       "        vertical-align: middle;\n",
       "    }\n",
       "\n",
       "    .dataframe tbody tr th {\n",
       "        vertical-align: top;\n",
       "    }\n",
       "\n",
       "    .dataframe thead th {\n",
       "        text-align: right;\n",
       "    }\n",
       "</style>\n",
       "<table border=\"1\" class=\"dataframe\">\n",
       "  <thead>\n",
       "    <tr style=\"text-align: right;\">\n",
       "      <th></th>\n",
       "      <th>A</th>\n",
       "      <th>D</th>\n",
       "      <th>E</th>\n",
       "      <th>F</th>\n",
       "      <th>G</th>\n",
       "    </tr>\n",
       "  </thead>\n",
       "  <tbody>\n",
       "    <tr>\n",
       "      <th>satu</th>\n",
       "      <td>1.0</td>\n",
       "      <td>test</td>\n",
       "      <td>1</td>\n",
       "      <td>4</td>\n",
       "      <td>10.0</td>\n",
       "    </tr>\n",
       "    <tr>\n",
       "      <th>dua</th>\n",
       "      <td>1.0</td>\n",
       "      <td>train</td>\n",
       "      <td>12</td>\n",
       "      <td>15</td>\n",
       "      <td>NaN</td>\n",
       "    </tr>\n",
       "    <tr>\n",
       "      <th>tiga</th>\n",
       "      <td>1.0</td>\n",
       "      <td>test</td>\n",
       "      <td>32</td>\n",
       "      <td>35</td>\n",
       "      <td>20.0</td>\n",
       "    </tr>\n",
       "    <tr>\n",
       "      <th>empat</th>\n",
       "      <td>1.0</td>\n",
       "      <td>train</td>\n",
       "      <td>14</td>\n",
       "      <td>17</td>\n",
       "      <td>30.0</td>\n",
       "    </tr>\n",
       "  </tbody>\n",
       "</table>\n",
       "</div>"
      ],
      "text/plain": [
       "         A      D   E   F     G\n",
       "satu   1.0   test   1   4  10.0\n",
       "dua    1.0  train  12  15   NaN\n",
       "tiga   1.0   test  32  35  20.0\n",
       "empat  1.0  train  14  17  30.0"
      ]
     },
     "execution_count": 16,
     "metadata": {},
     "output_type": "execute_result"
    }
   ],
   "source": [
    "contoh2"
   ]
  },
  {
   "cell_type": "code",
   "execution_count": 17,
   "metadata": {},
   "outputs": [
    {
     "data": {
      "text/html": [
       "<div>\n",
       "<style scoped>\n",
       "    .dataframe tbody tr th:only-of-type {\n",
       "        vertical-align: middle;\n",
       "    }\n",
       "\n",
       "    .dataframe tbody tr th {\n",
       "        vertical-align: top;\n",
       "    }\n",
       "\n",
       "    .dataframe thead th {\n",
       "        text-align: right;\n",
       "    }\n",
       "</style>\n",
       "<table border=\"1\" class=\"dataframe\">\n",
       "  <thead>\n",
       "    <tr style=\"text-align: right;\">\n",
       "      <th></th>\n",
       "      <th>E</th>\n",
       "      <th>F</th>\n",
       "      <th>G</th>\n",
       "    </tr>\n",
       "  </thead>\n",
       "  <tbody>\n",
       "    <tr>\n",
       "      <th>dua</th>\n",
       "      <td>12</td>\n",
       "      <td>15</td>\n",
       "      <td>NaN</td>\n",
       "    </tr>\n",
       "    <tr>\n",
       "      <th>tiga</th>\n",
       "      <td>32</td>\n",
       "      <td>35</td>\n",
       "      <td>20.0</td>\n",
       "    </tr>\n",
       "  </tbody>\n",
       "</table>\n",
       "</div>"
      ],
      "text/plain": [
       "       E   F     G\n",
       "dua   12  15   NaN\n",
       "tiga  32  35  20.0"
      ]
     },
     "execution_count": 17,
     "metadata": {},
     "output_type": "execute_result"
    }
   ],
   "source": [
    "# mengiris data baris dan kolom\n",
    "contoh2.iloc[1:3, 2:5]"
   ]
  },
  {
   "cell_type": "code",
   "execution_count": 18,
   "metadata": {},
   "outputs": [
    {
     "name": "stdout",
     "output_type": "stream",
     "text": [
      "<class 'pandas.core.frame.DataFrame'>\n",
      "Index: 4 entries, satu to empat\n",
      "Data columns (total 5 columns):\n",
      " #   Column  Non-Null Count  Dtype   \n",
      "---  ------  --------------  -----   \n",
      " 0   A       4 non-null      float64 \n",
      " 1   D       4 non-null      category\n",
      " 2   E       4 non-null      int32   \n",
      " 3   F       4 non-null      int32   \n",
      " 4   G       3 non-null      float64 \n",
      "dtypes: category(1), float64(2), int32(2)\n",
      "memory usage: 388.0+ bytes\n"
     ]
    }
   ],
   "source": [
    "# Menampilkan informasi pada data frame\n",
    "contoh2.info()"
   ]
  },
  {
   "cell_type": "markdown",
   "metadata": {},
   "source": [
    "### Fungsi dasar untuk series  \n",
    "\n",
    "\n",
    "Berikut fungsi dasar untuk series (deret)  \n",
    "\n",
    "No   | Fungsi   | Deskripsi\n",
    ":---:|:---      |:---   \n",
    "1    | axes     | Daftar label baris dan kolom |\n",
    "2    | dtypes   | Daftar tipe data setiap kolom |\n",
    "3    | empty    | Akan bernilai True jika deret ada yang kosong |\n",
    "4    | size     | Ukuran dari data |\n",
    "5    | values   | Mengubah deret menjadi ndarray (n dimensional array) |\n",
    "6    | head()   | Menampilkan n data pertama |\n",
    "7    | tail()   | Menampilkan n data terakhir |"
   ]
  },
  {
   "cell_type": "code",
   "execution_count": null,
   "metadata": {},
   "outputs": [],
   "source": [
    "# cobalah fungsi axes, dtypes, empty, size, head, tail untuk contoh2"
   ]
  },
  {
   "cell_type": "markdown",
   "metadata": {},
   "source": [
    "## 5. Mengimport atau membaca file (csv, xls)"
   ]
  },
  {
   "cell_type": "code",
   "execution_count": 1,
   "metadata": {},
   "outputs": [
    {
     "ename": "NameError",
     "evalue": "name 'pd' is not defined",
     "output_type": "error",
     "traceback": [
      "\u001b[1;31m---------------------------------------------------------------------------\u001b[0m",
      "\u001b[1;31mNameError\u001b[0m                                 Traceback (most recent call last)",
      "\u001b[1;32m<ipython-input-1-f54880095daf>\u001b[0m in \u001b[0;36m<module>\u001b[1;34m\u001b[0m\n\u001b[0;32m      1\u001b[0m \u001b[1;31m# Membaca file xls. File terletak dalam satu folder dengan notebook jupyter\u001b[0m\u001b[1;33m\u001b[0m\u001b[1;33m\u001b[0m\u001b[1;33m\u001b[0m\u001b[0m\n\u001b[1;32m----> 2\u001b[1;33m \u001b[0msuperstore\u001b[0m \u001b[1;33m=\u001b[0m \u001b[0mpd\u001b[0m\u001b[1;33m.\u001b[0m\u001b[0mread_excel\u001b[0m\u001b[1;33m(\u001b[0m\u001b[1;34m\"Superstore.xls\"\u001b[0m\u001b[1;33m)\u001b[0m\u001b[1;33m\u001b[0m\u001b[1;33m\u001b[0m\u001b[0m\n\u001b[0m\u001b[0;32m      3\u001b[0m \u001b[0msuperstore\u001b[0m\u001b[1;33m.\u001b[0m\u001b[0mhead\u001b[0m\u001b[1;33m(\u001b[0m\u001b[1;33m)\u001b[0m\u001b[1;33m\u001b[0m\u001b[1;33m\u001b[0m\u001b[0m\n",
      "\u001b[1;31mNameError\u001b[0m: name 'pd' is not defined"
     ]
    }
   ],
   "source": [
    "# Membaca file xls. File terletak dalam satu folder dengan notebook jupyter\n",
    "superstore = pd.read_excel(\"Superstore.xls\")\n",
    "superstore.head()"
   ]
  },
  {
   "cell_type": "code",
   "execution_count": null,
   "metadata": {},
   "outputs": [],
   "source": [
    "# Gunakan fungsi dasar untuk series, untuk melihat informasi tabel\n",
    "superstore.empty"
   ]
  },
  {
   "cell_type": "code",
   "execution_count": null,
   "metadata": {},
   "outputs": [],
   "source": [
    "superstore.dtypes"
   ]
  },
  {
   "cell_type": "code",
   "execution_count": null,
   "metadata": {},
   "outputs": [],
   "source": [
    "# Ukuran data frame (baris, kolom)\n",
    "superstore.shape"
   ]
  },
  {
   "cell_type": "code",
   "execution_count": null,
   "metadata": {},
   "outputs": [],
   "source": [
    "# Ukuran data frame \n",
    "superstore.size"
   ]
  },
  {
   "cell_type": "code",
   "execution_count": null,
   "metadata": {},
   "outputs": [],
   "source": [
    "# apakah tipe data superstore? Gunakan fungsi type\n",
    "type(superstore)"
   ]
  },
  {
   "cell_type": "code",
   "execution_count": null,
   "metadata": {},
   "outputs": [],
   "source": [
    "# Gunakan fungsi .info() untuk mengetahui gambaran data superstore\n",
    "superstore.info()"
   ]
  },
  {
   "cell_type": "code",
   "execution_count": null,
   "metadata": {},
   "outputs": [],
   "source": [
    "# Pilih kolom \"Product Name\", dan simpan dalam variabel produk\n",
    "\n",
    "produk = superstore['Product Name']\n",
    "produk.head(10)"
   ]
  },
  {
   "cell_type": "code",
   "execution_count": null,
   "metadata": {},
   "outputs": [],
   "source": [
    "# Menjadikan series ke array dengan .values\n",
    "produk.values"
   ]
  },
  {
   "cell_type": "code",
   "execution_count": null,
   "metadata": {},
   "outputs": [],
   "source": [
    "# Memilih baris kelipatan 3, dengan semua kolom. Kemudian tampilkan 10 data pertama\n",
    "superstore.iloc[::3,:].head(10)"
   ]
  },
  {
   "cell_type": "code",
   "execution_count": null,
   "metadata": {},
   "outputs": [],
   "source": [
    "# Menyeleksi data dengan Kota adalah \"Semarang\". Kemudian tampilkan 5 data pertama\n",
    "semarang = superstore[superstore.Kota == \"Semarang\"]\n",
    "semarang.head(5)"
   ]
  },
  {
   "cell_type": "markdown",
   "metadata": {},
   "source": [
    "## 6. Menambahkan kolom baru pada data frame"
   ]
  },
  {
   "cell_type": "code",
   "execution_count": null,
   "metadata": {},
   "outputs": [],
   "source": [
    "# Tambahkan kolom \"Garansi\", dan isikan semua baris dengan \"Tidak Bergaransi\"\n",
    "superstore[\"Garansi\"] = \"Tidak bergaransi\"\n",
    "superstore.head(3)"
   ]
  },
  {
   "cell_type": "code",
   "execution_count": null,
   "metadata": {},
   "outputs": [],
   "source": [
    "# Seleksi kolom Customer ID, Kota, Sub-Category, dan Profit. Simpan dalam variabel superstore2\n",
    "superstore2 = superstore[[\"Customer ID\", \"Kota\", \"Sub-Category\", \"Profit\"]]\n",
    "superstore2.head(5)"
   ]
  },
  {
   "cell_type": "code",
   "execution_count": null,
   "metadata": {},
   "outputs": [],
   "source": [
    "# Seleksi superstore2, yang Kota adalah Semarang, memiliki Profit lebih dari 20. Simpan dalam superstore2_filter. \n",
    "superstore2_filter = superstore2[(superstore2.Kota == \"Semarang\") & (superstore2.Profit > 20)] \n",
    "superstore2_filter.head()"
   ]
  },
  {
   "cell_type": "code",
   "execution_count": null,
   "metadata": {},
   "outputs": [],
   "source": [
    "# Berapakah data yang sesuai dengan kondisi setelah dilakukan filtering? \n",
    "superstore2_filter.count()"
   ]
  }
 ],
 "metadata": {
  "celltoolbar": "Slideshow",
  "interpreter": {
   "hash": "770021e68aae5e5bc49f7a3b6edb919a4a251fef8e7696fd47196c25263b13c4"
  },
  "kernelspec": {
   "display_name": "Python 3.8.5 64-bit ('base': conda)",
   "name": "python3"
  },
  "language_info": {
   "codemirror_mode": {
    "name": "ipython",
    "version": 3
   },
   "file_extension": ".py",
   "mimetype": "text/x-python",
   "name": "python",
   "nbconvert_exporter": "python",
   "pygments_lexer": "ipython3",
   "version": "3.8.5"
  }
 },
 "nbformat": 4,
 "nbformat_minor": 2
}
