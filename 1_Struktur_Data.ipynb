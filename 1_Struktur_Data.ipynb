{
  "cells": [
    {
      "cell_type": "markdown",
      "metadata": {
        "id": "u3rzbXArqyIv"
      },
      "source": [
        "# Python Data Structure   \n",
        "\n",
        "The most basic data structure in Python is the sequence. Each element of a sequence is assigned a number - its position or index. The first index is zero, the second index is one, and so forth. Python offers a number of data structures:    \n",
        "1. Tuples to group objects of different types\n",
        "2. List to group objects of the same types\n",
        "3. Arrays to work with numerical data. (There is also matrix, but some scientific function do not accept input data in matrix)\n",
        "4. Dictionaries for named, structured data sets\n",
        "5. DataFrames for statistical data analysis"
      ]
    },
    {
      "cell_type": "markdown",
      "metadata": {
        "id": "RyFw83uRqyI2"
      },
      "source": [
        "## Tuples   \n",
        "\n",
        "`Tuple()` a collection of different things. Tuples are \"immutable\", that is they cannot be modified after creation. Creating a tuple is as simple as putting different comma-separated values. Optionally, these comma-separated values can be put between parentheses also. "
      ]
    },
    {
      "cell_type": "code",
      "execution_count": 1,
      "metadata": {
        "id": "MHcWtvDgqyI2"
      },
      "outputs": [],
      "source": [
        "# Contoh\n",
        "\n",
        "tup1 = (\"PSBB\", \"Jakarta\", \"diperpanjang\", \"Oktober\", 2019, 11)\n",
        "tup2 = \"PSBB\", \"Jakarta\", \"diperpanjang\", \"Oktober\", 2019, 11"
      ]
    },
    {
      "cell_type": "code",
      "execution_count": 7,
      "metadata": {
        "colab": {
          "base_uri": "https://localhost:8080/"
        },
        "id": "2SlfWfTxqyI4",
        "outputId": "ea2b56cb-bbc0-4bcd-d19c-54343fd33a34"
      },
      "outputs": [
        {
          "data": {
            "text/plain": [
              "('PSBB', 'Jakarta', 'diperpanjang', 'Oktober', 2019, 11)"
            ]
          },
          "execution_count": 7,
          "metadata": {},
          "output_type": "execute_result"
        }
      ],
      "source": [
        "# Memanggil tup1\n",
        "tup1"
      ]
    },
    {
      "cell_type": "code",
      "execution_count": 8,
      "metadata": {
        "colab": {
          "base_uri": "https://localhost:8080/"
        },
        "id": "RvVoaXSAqyI4",
        "outputId": "804b1e99-f2df-4350-8c21-39bb30404ffc"
      },
      "outputs": [
        {
          "data": {
            "text/plain": [
              "('PSBB', 'Jakarta', 'diperpanjang', 'Oktober', 2019, 11)"
            ]
          },
          "execution_count": 8,
          "metadata": {},
          "output_type": "execute_result"
        }
      ],
      "source": [
        "tup2"
      ]
    },
    {
      "cell_type": "code",
      "execution_count": 9,
      "metadata": {
        "colab": {
          "base_uri": "https://localhost:8080/",
          "height": 35
        },
        "id": "kW49n5xMqyI4",
        "outputId": "aad40d78-a971-4747-fc83-ee2e413fb293"
      },
      "outputs": [
        {
          "data": {
            "text/plain": [
              "'diperpanjang'"
            ]
          },
          "execution_count": 9,
          "metadata": {},
          "output_type": "execute_result"
        }
      ],
      "source": [
        "# Memanggil elemen ke-3 (urutan ketiga) pada tup1; ingat urutan python dari indeks 0\n",
        "tup1[2]"
      ]
    },
    {
      "cell_type": "code",
      "execution_count": 10,
      "metadata": {
        "colab": {
          "base_uri": "https://localhost:8080/"
        },
        "id": "06LxtP5_qyI5",
        "outputId": "8a80b19c-04ee-463e-cc96-8874a68a2852"
      },
      "outputs": [
        {
          "data": {
            "text/plain": [
              "11"
            ]
          },
          "execution_count": 10,
          "metadata": {},
          "output_type": "execute_result"
        }
      ],
      "source": [
        "# Memanggil elemen pertama dari belakang pada tup2\n",
        "tup2[-1]"
      ]
    },
    {
      "cell_type": "code",
      "execution_count": 12,
      "metadata": {
        "colab": {
          "base_uri": "https://localhost:8080/",
          "height": 182
        },
        "id": "h1u8yXwUqyI5",
        "outputId": "06e2bcf9-180e-49d8-9df1-64bc2b97f6e3"
      },
      "outputs": [
        {
          "ename": "TypeError",
          "evalue": "'tuple' object does not support item assignment",
          "output_type": "error",
          "traceback": [
            "\u001b[1;31m---------------------------------------------------------------------------\u001b[0m",
            "\u001b[1;31mTypeError\u001b[0m                                 Traceback (most recent call last)",
            "\u001b[1;32m<ipython-input-12-64f4d898f8f4>\u001b[0m in \u001b[0;36m<module>\u001b[1;34m\u001b[0m\n\u001b[0;32m      1\u001b[0m \u001b[1;31m# Elemen dalam tuple tidak bisa diganti; akan menyebabkan error\u001b[0m\u001b[1;33m\u001b[0m\u001b[1;33m\u001b[0m\u001b[1;33m\u001b[0m\u001b[0m\n\u001b[1;32m----> 2\u001b[1;33m \u001b[0mtup1\u001b[0m\u001b[1;33m[\u001b[0m\u001b[1;36m0\u001b[0m\u001b[1;33m]\u001b[0m \u001b[1;33m=\u001b[0m \u001b[1;36m2\u001b[0m\u001b[1;33m\u001b[0m\u001b[1;33m\u001b[0m\u001b[0m\n\u001b[0m",
            "\u001b[1;31mTypeError\u001b[0m: 'tuple' object does not support item assignment"
          ]
        }
      ],
      "source": [
        "# Elemen dalam tuple tidak bisa diganti; akan menyebabkan error\n",
        "tup1[0] = 2"
      ]
    },
    {
      "cell_type": "code",
      "execution_count": 13,
      "metadata": {
        "colab": {
          "base_uri": "https://localhost:8080/"
        },
        "id": "OiI9LJ2YqyI6",
        "outputId": "67c08925-2a5c-40fc-87a8-3ab3ef1f321d"
      },
      "outputs": [
        {
          "data": {
            "text/plain": [
              "('PSBB',\n",
              " 'Jakarta',\n",
              " 'diperpanjang',\n",
              " 'Oktober',\n",
              " 2019,\n",
              " 11,\n",
              " 'PSBB',\n",
              " 'Jakarta',\n",
              " 'diperpanjang',\n",
              " 'Oktober',\n",
              " 2019,\n",
              " 11)"
            ]
          },
          "execution_count": 13,
          "metadata": {},
          "output_type": "execute_result"
        }
      ],
      "source": [
        "# Penjumlahan tuple\n",
        "\n",
        "tup1 + tup2"
      ]
    },
    {
      "cell_type": "code",
      "execution_count": null,
      "metadata": {
        "id": "GdRJDDaKodWm"
      },
      "outputs": [],
      "source": []
    },
    {
      "cell_type": "code",
      "execution_count": 21,
      "metadata": {
        "colab": {
          "base_uri": "https://localhost:8080/"
        },
        "id": "miBipi05qyI7",
        "outputId": "bc4f6415-e99d-4e9d-ff20-334c24113ee6"
      },
      "outputs": [
        {
          "data": {
            "text/plain": [
              "6"
            ]
          },
          "execution_count": 21,
          "metadata": {},
          "output_type": "execute_result"
        }
      ],
      "source": [
        "# Panjang tuple\n",
        "\n",
        "len(tup1)"
      ]
    },
    {
      "cell_type": "markdown",
      "metadata": {
        "id": "gRetFhlfqyI7"
      },
      "source": [
        "## List   \n",
        "\n",
        "List are \"mutable\", that is their elements can be modified. Therefore lists are tipically used to collect items of the same types. Note that \"+\" concatenates list. List which can be written as a list of comma-separated values (items) between square brackets."
      ]
    },
    {
      "cell_type": "code",
      "execution_count": 28,
      "metadata": {
        "id": "GNQ5SBNxqyI8"
      },
      "outputs": [],
      "source": [
        "list1 = [\"Kasus\", \"Covid-19\", \"Indonesia\", \"lewati\", \"290,000\"]\n",
        "list2 = [1, 10, 2020, 290000, 4174]"
      ]
    },
    {
      "cell_type": "code",
      "execution_count": 29,
      "metadata": {
        "colab": {
          "base_uri": "https://localhost:8080/",
          "height": 35
        },
        "id": "mGN8dr5tqyI8",
        "outputId": "d46d77cf-d28e-4c4c-8fec-d74c4fbbbb5d"
      },
      "outputs": [
        {
          "data": {
            "text/plain": [
              "'Covid-19'"
            ]
          },
          "execution_count": 29,
          "metadata": {},
          "output_type": "execute_result"
        }
      ],
      "source": [
        "# Panggil elemen kedua dari list1; ingat indeks python dimulai dari 0\n",
        "list1[1]"
      ]
    },
    {
      "cell_type": "code",
      "execution_count": 30,
      "metadata": {
        "colab": {
          "base_uri": "https://localhost:8080/"
        },
        "id": "LbEbMb76qyI8",
        "outputId": "6d84f016-d4ab-4c31-86d5-dcf7f691985f"
      },
      "outputs": [
        {
          "data": {
            "text/plain": [
              "['Kasus', 'coronavirus disease', 'Indonesia', 'lewati', '290,000']"
            ]
          },
          "execution_count": 30,
          "metadata": {},
          "output_type": "execute_result"
        }
      ],
      "source": [
        "# Ganti elemen tersebut dengan string \"passed away\"\n",
        "list1[1] = \"coronavirus disease\"\n",
        "list1"
      ]
    },
    {
      "cell_type": "code",
      "execution_count": 31,
      "metadata": {
        "colab": {
          "base_uri": "https://localhost:8080/"
        },
        "id": "M2OWv5wkqyI9",
        "outputId": "4570bd17-c9a6-4c27-8726-1ea04f71bc2e"
      },
      "outputs": [
        {
          "data": {
            "text/plain": [
              "[10, 2020, 290000]"
            ]
          },
          "execution_count": 31,
          "metadata": {},
          "output_type": "execute_result"
        }
      ],
      "source": [
        "# Menampilkan elemen pertama hingga ketiga pada list2\n",
        "list2[1:4]"
      ]
    },
    {
      "cell_type": "code",
      "execution_count": 32,
      "metadata": {
        "id": "sjByR16bsZB_"
      },
      "outputs": [],
      "source": [
        "tuple1 = (\"Kasus\", \"Covid-19\", \"Indonesia\", \"lewati\", \"290,000\")"
      ]
    },
    {
      "cell_type": "code",
      "execution_count": 34,
      "metadata": {
        "colab": {
          "base_uri": "https://localhost:8080/",
          "height": 166
        },
        "id": "JTa5Kz66sdds",
        "outputId": "4ee0b89e-6ed7-400b-afb7-8de360de3093"
      },
      "outputs": [
        {
          "ename": "TypeError",
          "evalue": "'tuple' object does not support item assignment",
          "output_type": "error",
          "traceback": [
            "\u001b[1;31m---------------------------------------------------------------------------\u001b[0m",
            "\u001b[1;31mTypeError\u001b[0m                                 Traceback (most recent call last)",
            "\u001b[1;32m<ipython-input-34-734553e1fa97>\u001b[0m in \u001b[0;36m<module>\u001b[1;34m\u001b[0m\n\u001b[1;32m----> 1\u001b[1;33m \u001b[0mtuple1\u001b[0m\u001b[1;33m[\u001b[0m\u001b[1;36m1\u001b[0m\u001b[1;33m]\u001b[0m \u001b[1;33m=\u001b[0m \u001b[1;34m\"corona\"\u001b[0m\u001b[1;33m\u001b[0m\u001b[1;33m\u001b[0m\u001b[0m\n\u001b[0m",
            "\u001b[1;31mTypeError\u001b[0m: 'tuple' object does not support item assignment"
          ]
        }
      ],
      "source": [
        "tuple1[1] = \"corona\""
      ]
    },
    {
      "cell_type": "markdown",
      "metadata": {
        "id": "F9Efq8QRp0VI"
      },
      "source": [
        "**catatan:** ..."
      ]
    },
    {
      "cell_type": "markdown",
      "metadata": {
        "id": "qMBwIsv7qyI9"
      },
      "source": [
        "**Note**: Perhatikan bahwa ketika kita menginginkan menampilkan data pertama hingga ketiga, kita tuliskan indeksnya 1:4. Artinya, elemen indeks keempat tidak ikut untuk ditampilkan. Data yang tampil adalah indeks ke-1, ke-2, dan ke-3. "
      ]
    },
    {
      "cell_type": "markdown",
      "metadata": {
        "id": "9aIonP_HqyI-"
      },
      "source": [
        "## Python includes following list methods:\n",
        "\n",
        "1. list.count(obj) Returns count of how many times obj occurs in list\n",
        "3. list.remove(obj) Removes object obj from list\n",
        "4. list.reverse() Reverses objects of list in place\n",
        "5. list.sort([func]) Sorts objects of list, use compare func if given"
      ]
    },
    {
      "cell_type": "code",
      "execution_count": 35,
      "metadata": {
        "id": "ucE0Y3JBqyI-"
      },
      "outputs": [
        {
          "data": {
            "text/plain": [
              "1"
            ]
          },
          "execution_count": 35,
          "metadata": {},
          "output_type": "execute_result"
        }
      ],
      "source": [
        "# Menghitung banyaknya elemen \"10\" pada list2\n",
        "list2.count(10)"
      ]
    },
    {
      "cell_type": "code",
      "execution_count": 36,
      "metadata": {
        "id": "W4UrqPURqyI-"
      },
      "outputs": [
        {
          "ename": "NameError",
          "evalue": "name 'count' is not defined",
          "output_type": "error",
          "traceback": [
            "\u001b[1;31m---------------------------------------------------------------------------\u001b[0m",
            "\u001b[1;31mNameError\u001b[0m                                 Traceback (most recent call last)",
            "\u001b[1;32m<ipython-input-36-a725dde76468>\u001b[0m in \u001b[0;36m<module>\u001b[1;34m\u001b[0m\n\u001b[1;32m----> 1\u001b[1;33m \u001b[0mcount\u001b[0m\u001b[1;33m(\u001b[0m\u001b[0mlist2\u001b[0m\u001b[1;33m,\u001b[0m \u001b[1;36m10\u001b[0m\u001b[1;33m)\u001b[0m \u001b[1;31m# salah\u001b[0m\u001b[1;33m\u001b[0m\u001b[1;33m\u001b[0m\u001b[0m\n\u001b[0m",
            "\u001b[1;31mNameError\u001b[0m: name 'count' is not defined"
          ]
        }
      ],
      "source": [
        "count(list2, 10) # salah"
      ]
    },
    {
      "cell_type": "markdown",
      "metadata": {
        "id": "qbMROsqcqyI_"
      },
      "source": [
        "**Note**: terdapat dua cara untuk memanggil fungsi dalam python yaitu\n",
        "1. Dengan menggunakan tanda titik, contoh: `list2.count(10)` artinya kita mengenakan fungsi count() ke obyek list2;\n",
        "2. Dengan menggunakan tanda kurung, contoh: `len(list2)` artinya kita menggunakan fungsi len() pada obyek list2;"
      ]
    },
    {
      "cell_type": "code",
      "execution_count": 37,
      "metadata": {
        "colab": {
          "base_uri": "https://localhost:8080/",
          "height": 200
        },
        "id": "cKAggkHXqyJA",
        "outputId": "ec3be26c-0b81-496f-ca20-9db74e8c9d2c"
      },
      "outputs": [
        {
          "data": {
            "text/plain": [
              "[1, 10, 290000, 4174]"
            ]
          },
          "execution_count": 37,
          "metadata": {},
          "output_type": "execute_result"
        }
      ],
      "source": [
        "# 2\n",
        "list2.remove(2020)\n",
        "list2"
      ]
    },
    {
      "cell_type": "code",
      "execution_count": 38,
      "metadata": {
        "colab": {
          "base_uri": "https://localhost:8080/",
          "height": 200
        },
        "id": "Dl9J_l6QqyJA",
        "outputId": "d5d56809-01d4-425b-86da-ea8ab692ca26"
      },
      "outputs": [
        {
          "data": {
            "text/plain": [
              "[4174, 290000, 10, 1]"
            ]
          },
          "execution_count": 38,
          "metadata": {},
          "output_type": "execute_result"
        }
      ],
      "source": [
        "# 3\n",
        "list2.reverse()\n",
        "list2"
      ]
    },
    {
      "cell_type": "code",
      "execution_count": null,
      "metadata": {
        "id": "Z0LoranIqyJA"
      },
      "outputs": [],
      "source": [
        "# 4\n",
        "list2.sort()\n",
        "list2"
      ]
    },
    {
      "cell_type": "markdown",
      "metadata": {
        "id": "TbISfPUbqyJB"
      },
      "source": [
        "## Dictionary\n",
        "\n",
        "Python dictionary (kamus) adalah koleksi yang tidak diurutkan, dapat diubah, dan diindeks. Dictionary (kamus) ditulis dengan awal dan akhiran kurung kurawal `{}`, serta memiliki kata kunci dan nilai [1]. Setiap kata kunci dan nilainya dipisahkan dengan tanda titik dua (:). Kamus kosong, dituliskan dengan kurung kurawal saja `{}`.\n",
        "\n",
        "Kata kunci bersifat tunggal dalam suatu kamus, sedangkan nilainya bisa tidak bersifat tunggal. Nilai kamus dapat berupa tipe data apapun. Namun, kata kunci merupakan tipe data yang tidak dapat diubah misalnya string, angka, atau tuple. "
      ]
    },
    {
      "cell_type": "code",
      "execution_count": 39,
      "metadata": {
        "id": "3Dt_BDbOqyJC"
      },
      "outputs": [],
      "source": [
        "import datetime"
      ]
    },
    {
      "cell_type": "code",
      "execution_count": 40,
      "metadata": {
        "colab": {
          "background_save": true,
          "base_uri": "https://localhost:8080/"
        },
        "id": "eSn9SOEjqyJC",
        "outputId": "cc58ab5b-49d6-46ae-debd-6581df1cebfb"
      },
      "outputs": [
        {
          "name": "stdout",
          "output_type": "stream",
          "text": [
            "{'Nama': 'Bima Sakti', 'NIK': '3507051210810001', 'Tempat lahir': 'Malang', 'Tanggal lahir': datetime.datetime(1981, 10, 12, 0, 0), 'Pekerjaan': 'Karyawan BUMN'}\n"
          ]
        }
      ],
      "source": [
        "# Membuat dan menampilkan kamus\n",
        "\n",
        "ktp1 = {\n",
        "    \"Nama\": \"Bima Sakti\",\n",
        "    \"NIK\": \"3507051210810001\",\n",
        "    \"Tempat lahir\": \"Malang\",\n",
        "    \"Tanggal lahir\": datetime.datetime(1981, 10, 12),\n",
        "    \"Pekerjaan\": \"Karyawan BUMN\"\n",
        "}\n",
        "print(ktp1)"
      ]
    },
    {
      "cell_type": "markdown",
      "metadata": {
        "id": "O1c5CgrWqyJC"
      },
      "source": [
        "### Mengakses kamus\n",
        "\n",
        "Mengakses kamus dengan cara:\n",
        "1. Menyebutkan kata kunci untuk mengetahui nilai di dalam kata kunci;\n",
        "2. Menggunakan `get`\n"
      ]
    },
    {
      "cell_type": "code",
      "execution_count": 41,
      "metadata": {
        "colab": {
          "base_uri": "https://localhost:8080/",
          "height": 35
        },
        "id": "S40Ygv04qyJC",
        "outputId": "4e1653c1-8a5d-4268-9955-667846ec9e0b"
      },
      "outputs": [
        {
          "data": {
            "text/plain": [
              "'3507051210810001'"
            ]
          },
          "execution_count": 41,
          "metadata": {},
          "output_type": "execute_result"
        }
      ],
      "source": [
        "x = ktp1[\"NIK\"]\n",
        "x"
      ]
    },
    {
      "cell_type": "code",
      "execution_count": 42,
      "metadata": {
        "colab": {
          "base_uri": "https://localhost:8080/",
          "height": 35
        },
        "id": "0Q6NaGZ7qyJC",
        "outputId": "3bc97e9b-502d-4ec9-8d9c-8ed61ff19285"
      },
      "outputs": [
        {
          "data": {
            "text/plain": [
              "'3507051210810001'"
            ]
          },
          "execution_count": 42,
          "metadata": {},
          "output_type": "execute_result"
        }
      ],
      "source": [
        "x = ktp1.get(\"NIK\")\n",
        "x"
      ]
    },
    {
      "cell_type": "code",
      "execution_count": 43,
      "metadata": {
        "id": "WhZ7zhJEqyJD"
      },
      "outputs": [],
      "source": [
        "# Mengubah tempat lahir\n",
        "ktp1[\"Tempat lahir\"] = \"Surabaya\""
      ]
    },
    {
      "cell_type": "code",
      "execution_count": 44,
      "metadata": {
        "id": "vZnPL04oqyJD"
      },
      "outputs": [
        {
          "data": {
            "text/plain": [
              "'Surabaya'"
            ]
          },
          "execution_count": 44,
          "metadata": {},
          "output_type": "execute_result"
        }
      ],
      "source": [
        "# Mengecek nilai yang sudah diubah\n",
        "ktp1[\"Tempat lahir\"]"
      ]
    },
    {
      "cell_type": "code",
      "execution_count": 45,
      "metadata": {
        "id": "yw8P40yrqyJD"
      },
      "outputs": [
        {
          "data": {
            "text/plain": [
              "{'Nama': 'Bima Sakti',\n",
              " 'NIK': '3507051210810001',\n",
              " 'Tempat lahir': 'Surabaya',\n",
              " 'Tanggal lahir': datetime.datetime(1981, 10, 12, 0, 0),\n",
              " 'Pekerjaan': 'Karyawan BUMN',\n",
              " 'Kewarganegaraan': 'WNI'}"
            ]
          },
          "execution_count": 45,
          "metadata": {},
          "output_type": "execute_result"
        }
      ],
      "source": [
        "# Menambahkan suatu data, \"Kewarganegaraan: WNI\"\n",
        "ktp1[\"Kewarganegaraan\"] = \"WNI\"\n",
        "ktp1"
      ]
    },
    {
      "cell_type": "code",
      "execution_count": 46,
      "metadata": {
        "id": "xDbdbUBCqyJD"
      },
      "outputs": [
        {
          "data": {
            "text/plain": [
              "datetime.datetime(1981, 10, 12, 0, 0)"
            ]
          },
          "execution_count": 46,
          "metadata": {},
          "output_type": "execute_result"
        }
      ],
      "source": [
        "# Menghapus Tanggal Lahir\n",
        "ktp1.pop(\"Tanggal lahir\")"
      ]
    },
    {
      "cell_type": "markdown",
      "metadata": {
        "id": "Ble5C61SqyJE"
      },
      "source": [
        "Beberapa fungsi yang dapat digunakan dalam kamus:\n",
        " - kamus.copy()  \n",
        " - kamus.get() \n",
        " - kamus.keys()\n",
        " - kamus.items()\n",
        " - kamus.pop()\n"
      ]
    },
    {
      "cell_type": "markdown",
      "metadata": {
        "id": "MrX25DACqyJE"
      },
      "source": [
        "## Set\n",
        "\n",
        "A set is a collection which is unordered and unindexed. In Python sets are written with curly brackets. contoh: fruits = {apple, banana, orange, grape}"
      ]
    },
    {
      "cell_type": "code",
      "execution_count": 47,
      "metadata": {
        "id": "B7XPWhjMqyJE"
      },
      "outputs": [],
      "source": [
        "# Contoh set\n",
        "fruits = {\"apple\", \"banana\", \"orange\", \"grape\"}"
      ]
    },
    {
      "cell_type": "code",
      "execution_count": 48,
      "metadata": {
        "colab": {
          "base_uri": "https://localhost:8080/",
          "height": 181
        },
        "id": "CsOAyu3eqyJE",
        "outputId": "5930877b-d803-400c-ed76-31a4d5de3da9"
      },
      "outputs": [
        {
          "ename": "TypeError",
          "evalue": "'set' object is not subscriptable",
          "output_type": "error",
          "traceback": [
            "\u001b[1;31m---------------------------------------------------------------------------\u001b[0m",
            "\u001b[1;31mTypeError\u001b[0m                                 Traceback (most recent call last)",
            "\u001b[1;32m<ipython-input-48-184420611961>\u001b[0m in \u001b[0;36m<module>\u001b[1;34m\u001b[0m\n\u001b[0;32m      1\u001b[0m \u001b[1;31m# Set tidak dapat dipanggil elemennya; akan menyebabkan error. Ingat, set tidak berindeks\u001b[0m\u001b[1;33m\u001b[0m\u001b[1;33m\u001b[0m\u001b[1;33m\u001b[0m\u001b[0m\n\u001b[1;32m----> 2\u001b[1;33m \u001b[0mfruits\u001b[0m\u001b[1;33m[\u001b[0m\u001b[1;36m2\u001b[0m\u001b[1;33m]\u001b[0m\u001b[1;33m\u001b[0m\u001b[1;33m\u001b[0m\u001b[0m\n\u001b[0m",
            "\u001b[1;31mTypeError\u001b[0m: 'set' object is not subscriptable"
          ]
        }
      ],
      "source": [
        "# Set tidak dapat dipanggil elemennya; akan menyebabkan error. Ingat, set tidak berindeks\n",
        "fruits[2]"
      ]
    },
    {
      "cell_type": "markdown",
      "metadata": {
        "id": "sNT-e3r-qyJE"
      },
      "source": [
        "## Array   \n",
        "\n",
        "vectors and matrices, for numerical data manipulation. Defined in numpy. Note that vectors and 1-d arrays are different: vectors CANNOT be transposed! With arrays, “+” adds the corresponding elements; and the array- method .dot performs a scalar multiplication of two arrays. (From Python 3.5 onward, this can also be achieved with the “@” operator.). \n",
        "\n",
        "Package numpy is used to manipulate array. "
      ]
    },
    {
      "cell_type": "markdown",
      "metadata": {
        "id": "o1btUV6aqyJF"
      },
      "source": [
        "## DataFrame \n",
        "\n",
        "Data structure optimized for working with named, statistical data. Defined in pandas."
      ]
    },
    {
      "cell_type": "markdown",
      "metadata": {
        "id": "8K3KHTGYqyJF"
      },
      "source": [
        "## Reference \n",
        "\n",
        "1. Haslwanter, Thomas. 2016. An Introduction to Statistics with Python. Springer.   \n",
        "2. [tutorialspoint: list](https://www.tutorialspoint.com/python/python_lists.htm)\n",
        "3. [tutorialspoint: tuples](https://www.tutorialspoint.com/python/python_tuples.htm)"
      ]
    },
    {
      "cell_type": "code",
      "execution_count": 49,
      "metadata": {
        "id": "jwnAtqKXqyJF"
      },
      "outputs": [
        {
          "name": "stdout",
          "output_type": "stream",
          "text": [
            "Object ` list.sort()` not found.\n"
          ]
        }
      ],
      "source": [
        "? list.sort()"
      ]
    }
  ],
  "metadata": {
    "colab": {
      "collapsed_sections": [],
      "name": "1. Struktur Data.ipynb",
      "provenance": []
    },
    "interpreter": {
      "hash": "770021e68aae5e5bc49f7a3b6edb919a4a251fef8e7696fd47196c25263b13c4"
    },
    "kernelspec": {
      "display_name": "Python 3.8.5 64-bit ('base': conda)",
      "name": "python3"
    },
    "language_info": {
      "codemirror_mode": {
        "name": "ipython",
        "version": 3
      },
      "file_extension": ".py",
      "mimetype": "text/x-python",
      "name": "python",
      "nbconvert_exporter": "python",
      "pygments_lexer": "ipython3",
      "version": "3.8.5"
    }
  },
  "nbformat": 4,
  "nbformat_minor": 2
}
