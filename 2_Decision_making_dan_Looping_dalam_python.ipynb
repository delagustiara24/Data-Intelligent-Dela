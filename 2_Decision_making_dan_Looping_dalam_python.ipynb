{
  "cells": [
    {
      "cell_type": "markdown",
      "metadata": {
        "id": "kQIAAQU6gYLU"
      },
      "source": [
        "# Desicion Making\n",
        "\n",
        "\n",
        "Desicion making dengan menggunakan if...else\n",
        "\n",
        "```\n",
        "\n",
        " if expression:   \n",
        "  statement(s)   \n",
        " else:   \n",
        "  statement(s)   \n",
        "\n",
        "```"
      ]
    },
    {
      "cell_type": "code",
      "execution_count": 1,
      "metadata": {
        "colab": {
          "base_uri": "https://localhost:8080/"
        },
        "id": "O8txyJc9gYLZ",
        "outputId": "ba24072b-5648-4087-bc34-50b6c595e7f8"
      },
      "outputs": [
        {
          "name": "stdout",
          "output_type": "stream",
          "text": [
            "Belajar pemrograman database juga\n",
            "2\n"
          ]
        }
      ],
      "source": [
        "var1 = 2\n",
        "if var1 > 100:\n",
        "   print (\"Ayo kita belajar bahasa pemrograman python\")\n",
        "   print (var1)\n",
        "else:\n",
        "   print (\"Belajar pemrograman database juga\")\n",
        "   print (var1)"
      ]
    },
    {
      "cell_type": "markdown",
      "metadata": {
        "id": "_kwI0cmxgYLa"
      },
      "source": [
        "\n",
        "## Desision making bertingkat if...elif...else\n",
        "\n",
        "```\n",
        "if expression1:\n",
        "   statement(s)\n",
        "elif expression3:\n",
        "    statement(s)\n",
        "elif expression4:\n",
        "    statement(s)\n",
        "else:\n",
        "    statement(s)\n",
        "```"
      ]
    },
    {
      "cell_type": "markdown",
      "metadata": {
        "id": "3rxFjoupgYLb"
      },
      "source": [
        "## Desision making tersarang dengan if...elif...else\n",
        "\n",
        "```\n",
        "if expression1:\n",
        "   statement(s)\n",
        "   if expression2:\n",
        "      statement(s)\n",
        "   elif expression3:\n",
        "      statement(s)\n",
        "   elif expression4:\n",
        "      statement(s)\n",
        "   else:\n",
        "      statement(s)\n",
        "else:\n",
        "   statement(s)\n",
        "```"
      ]
    },
    {
      "cell_type": "code",
      "execution_count": 2,
      "metadata": {
        "colab": {
          "base_uri": "https://localhost:8080/"
        },
        "id": "pIo-f2jxgYLb",
        "outputId": "dd3a4b6c-c37d-43fb-fc7a-9dbd03142968"
      },
      "outputs": [
        {
          "name": "stdout",
          "output_type": "stream",
          "text": [
            "Bukan kategori\n"
          ]
        }
      ],
      "source": [
        "var = 9\n",
        "\n",
        "if var == 1:\n",
        "    print(\"Nilainya tertinggi, kategori: \" + str(var))\n",
        "elif var == 2:\n",
        "    print(\"Nilainya sedang, kategori: \" + str(var))\n",
        "elif var == 3:\n",
        "    print(\"Nilainya rendah, kategori: \"+str(var))\n",
        "else:\n",
        "    print(\"Bukan kategori\")"
      ]
    },
    {
      "cell_type": "markdown",
      "metadata": {
        "id": "hu7MtMOWgYLd"
      },
      "source": [
        "### Contoh 1 desicion making\n",
        "\n",
        "Buatlah desicion making dengan kondisi berikut:  \n",
        "\n",
        "| Interval Nilai | Perintah   \n",
        "|:----------------|:------------\n",
        "| besar >= 200.00 | Data proses sangat tinggi: besar MB    \n",
        "| 150.00 <= besar < 199.99 | Data proses tinggi: besar MB  \n",
        "| 100.00 <= besar < 149.99 | Data proses sedang: besar MB\n",
        "| besar < 99.99 | Data proses rendah: besar MB  \n"
      ]
    },
    {
      "cell_type": "code",
      "execution_count": 3,
      "metadata": {
        "colab": {
          "base_uri": "https://localhost:8080/"
        },
        "id": "6piWph2SgYLf",
        "outputId": "7a9a6856-8f17-475f-e995-607a7eb5c710"
      },
      "outputs": [
        {
          "name": "stdout",
          "output_type": "stream",
          "text": [
            "Data proses tinggi: 151 MB\n"
          ]
        }
      ],
      "source": [
        "# Penyelesaian dengan menggunakan batas atas\n",
        "besar = 151\n",
        "\n",
        "if besar<99.99:\n",
        "    print(\"Data proses rendah: \" + str(besar)+\" MB\")\n",
        "elif besar<149.99:\n",
        "    print(\"Data proses sedang: \"+str(besar)+\" MB\")\n",
        "elif besar<199.99:\n",
        "    print(\"Data proses tinggi: \"+str(besar)+\" MB\")\n",
        "else:\n",
        "    print(\"Data proses sangat tinggi: \"+str(besar)+\" MB\" )"
      ]
    },
    {
      "cell_type": "markdown",
      "metadata": {
        "id": "08fPdehWgYLg"
      },
      "source": [
        "### Latihan\n",
        "\n",
        "Gunakan perintah pada contoh 1, tetapi dengan ekspresi if menggunakan batas bawah. Dengan input sama yaitu \"besar = 151\" harus menghasilkan kelas \"Data proses tinggi: 151 MB\"."
      ]
    },
    {
      "cell_type": "code",
      "execution_count": 4,
      "metadata": {
        "colab": {
          "base_uri": "https://localhost:8080/"
        },
        "id": "pGRJylDugYLg",
        "outputId": "327bba0e-bd48-4e7d-f081-ee34f003dfee"
      },
      "outputs": [
        {
          "name": "stdout",
          "output_type": "stream",
          "text": [
            "Data proses tinggi: 151 MB\n"
          ]
        }
      ],
      "source": [
        "# Penyelesaian dengan batas bawah\n",
        "besar = 151\n",
        "\n",
        "if besar>200.000:\n",
        "    print(\"Data proses sangat tinggi: \" + str(besar)+\" MB\")\n",
        "elif besar>150.000:\n",
        "    print(\"Data proses tinggi: \"+str(besar)+\" MB\")\n",
        "elif besar>100.00:\n",
        "    print(\"Data proses besar: \"+str(besar)+\" MB\")\n",
        "else:\n",
        "    print(\"Data proses rendah: \"+str(besar)+\" MB\" )\n"
      ]
    },
    {
      "cell_type": "markdown",
      "metadata": {
        "id": "PD_doUsKgYLh"
      },
      "source": [
        "# Looping While\n",
        "\n",
        "Pengulangan while mirip dengan sebuah if: mengeksekusi code di dalamnya jika kondisi yang diberikan bernilai True. Perbedaannya adalah di while code di dalamnya akan terus berulang terus selama kondisinya benar. \n",
        "\n",
        "```\n",
        "while expression:\n",
        "   statement(s)\n",
        "```\n",
        "\n",
        "Pada `while` membutuhkan increament yaitu nilai yang akan memperbaharui nilai sebelumnya, sehingga akan menyebabkan kondisi pada ekspresi while tidak terpenuhi. Ketika kondisi tersebut tidak terpenuhi, looping while akan berhenti. "
      ]
    },
    {
      "cell_type": "code",
      "execution_count": 5,
      "metadata": {
        "colab": {
          "base_uri": "https://localhost:8080/"
        },
        "id": "eGk9g-qYgYLh",
        "outputId": "def0c508-519a-42e3-a5ff-54fe9e37241c"
      },
      "outputs": [
        {
          "name": "stdout",
          "output_type": "stream",
          "text": [
            "if, nilai angka sekarang: 8\n",
            "while, nilai angka sekarang: 8\n",
            "while, nilai angka sekarang: 7\n",
            "while, nilai angka sekarang: 6\n",
            "while, nilai angka sekarang: 5\n",
            "while, nilai angka sekarang: 4\n",
            "while, nilai angka sekarang: 3\n"
          ]
        }
      ],
      "source": [
        "# Jalankan code\n",
        "angka = 8\n",
        "\n",
        "if angka > 2:\n",
        "  print(\"if, nilai angka sekarang: \" + str(angka))\n",
        "\n",
        "while angka > 2:\n",
        "  print (\"while, nilai angka sekarang: \" + str(angka))\n",
        "  angka = angka - 1"
      ]
    },
    {
      "cell_type": "markdown",
      "metadata": {
        "id": "4aXw6G_6gYLi"
      },
      "source": [
        "### Latihan looping while:\n",
        "Print angka 0 - 100 tp dengan kelipatan 3"
      ]
    },
    {
      "cell_type": "code",
      "execution_count": 6,
      "metadata": {
        "id": "jxupdU5rgYLi"
      },
      "outputs": [
        {
          "name": "stdout",
          "output_type": "stream",
          "text": [
            "99\n",
            "96\n",
            "93\n",
            "90\n",
            "87\n",
            "84\n",
            "81\n",
            "78\n",
            "75\n",
            "72\n",
            "69\n",
            "66\n",
            "63\n",
            "60\n",
            "57\n",
            "54\n",
            "51\n",
            "48\n",
            "45\n",
            "42\n",
            "39\n",
            "36\n",
            "33\n",
            "30\n",
            "27\n",
            "24\n",
            "21\n",
            "18\n",
            "15\n",
            "12\n",
            "9\n",
            "6\n",
            "3\n",
            "0\n"
          ]
        }
      ],
      "source": [
        "angka = 100\n",
        "\n",
        "while angka >= 0:\n",
        "    if angka%3 == 0: ##cara menuliskan modulo menggunakan %\n",
        "        print(angka)\n",
        "    angka = angka - 1 #penerapan sisa modulo(sisa hasil bagi), \n",
        "    #contoh modulo\n",
        "    #10 dibagi 3,dapat 3, sisa = 1 ===> 10 mod 3 =1"
      ]
    },
    {
      "cell_type": "code",
      "execution_count": 7,
      "metadata": {
        "id": "1IQck4KZgYLj"
      },
      "outputs": [
        {
          "name": "stdout",
          "output_type": "stream",
          "text": [
            "0\n",
            "3\n",
            "6\n",
            "9\n",
            "12\n",
            "15\n",
            "18\n",
            "21\n",
            "24\n",
            "27\n",
            "30\n",
            "33\n",
            "36\n",
            "39\n",
            "42\n",
            "45\n",
            "48\n",
            "51\n",
            "54\n",
            "57\n",
            "60\n",
            "63\n",
            "66\n",
            "69\n",
            "72\n",
            "75\n",
            "78\n",
            "81\n",
            "84\n",
            "87\n",
            "90\n",
            "93\n",
            "96\n",
            "99\n"
          ]
        }
      ],
      "source": [
        "angka = 0\n",
        "\n",
        "while angka < 100:\n",
        "    if angka%3 == 0: \n",
        "        print(angka)\n",
        "    angka = angka + 1 "
      ]
    },
    {
      "cell_type": "markdown",
      "metadata": {
        "id": "tkWgs1nMgYLj"
      },
      "source": [
        "## Looping while bertingkat"
      ]
    },
    {
      "cell_type": "code",
      "execution_count": 8,
      "metadata": {
        "colab": {
          "base_uri": "https://localhost:8080/"
        },
        "id": "vFRzyScigYLk",
        "outputId": "3aa55b50-4046-49f9-8c6e-dc695ec42690"
      },
      "outputs": [
        {
          "name": "stdout",
          "output_type": "stream",
          "text": [
            "*\n",
            "**\n",
            "***\n",
            "****\n",
            "*****\n",
            "\n"
          ]
        }
      ],
      "source": [
        "angka1 = 1\n",
        "string = \"\"\n",
        "\n",
        "while angka1 <= 5: \n",
        "  angka2 = angka1\n",
        "  \n",
        "  while angka2 > 0:\n",
        "    string = string + \"*\"\n",
        "    angka2 = angka2 - 1\n",
        "    \n",
        "  string = string + \"\\n\"#tanda \"/n\" berarti enter atau new line\n",
        "  angka1 = angka1 + 1 \n",
        "  \n",
        "print (string)"
      ]
    },
    {
      "cell_type": "markdown",
      "metadata": {
        "collapsed": true,
        "id": "94sHzkfVgYLk"
      },
      "source": [
        "### Latihan while bertingkat:\n",
        "Ubah code berikut menjadi terbalik\n",
        "```\n",
        "*****\n",
        "****\n",
        "***\n",
        "**\n",
        "*\n",
        "```"
      ]
    },
    {
      "cell_type": "code",
      "execution_count": 9,
      "metadata": {
        "colab": {
          "base_uri": "https://localhost:8080/"
        },
        "id": "2WT2AUEGwzTy",
        "outputId": "62b1ac65-fa8e-444b-92a9-31e70394670a"
      },
      "outputs": [
        {
          "name": "stdout",
          "output_type": "stream",
          "text": [
            "*****\n",
            "****\n",
            "***\n",
            "**\n",
            "*\n",
            "\n"
          ]
        }
      ],
      "source": [
        "angka1 = 5\n",
        "string = \"\"\n",
        "\n",
        "while angka1 >= 1: \n",
        "  angka2 = angka1\n",
        "  \n",
        "  while angka2 > 0:\n",
        "    string = string + \"*\"\n",
        "    angka2 = angka2 - 1\n",
        "    \n",
        "  string = string + \"\\n\"\n",
        "  angka1 = angka1 - 1 \n",
        "  \n",
        "print (string)"
      ]
    },
    {
      "cell_type": "markdown",
      "metadata": {
        "collapsed": true,
        "id": "9SSlvr5lgYLk"
      },
      "source": [
        "## Looping Break\n",
        "\n",
        "Break dapat digunakan untuk berhenti/keluar dari loop. "
      ]
    },
    {
      "cell_type": "code",
      "execution_count": 10,
      "metadata": {
        "id": "IDCrQk2sgYLk"
      },
      "outputs": [
        {
          "name": "stdout",
          "output_type": "stream",
          "text": [
            "0\n",
            "1\n",
            "2\n",
            "3\n",
            "4\n",
            "5\n"
          ]
        }
      ],
      "source": [
        "# Jika tidak diberhentikan, code akan jalan terus\n",
        "angka = 0\n",
        "\n",
        "while True:\n",
        "    print (angka)\n",
        "    angka = angka + 1\n",
        "    if angka >= 5:\n",
        "        print (angka)\n",
        "        break"
      ]
    },
    {
      "cell_type": "code",
      "execution_count": 28,
      "metadata": {
        "id": "wpuAHGp_gYLl"
      },
      "outputs": [
        {
          "name": "stdout",
          "output_type": "stream",
          "text": [
            "0 buntut\n",
            "1 buntut\n",
            "2 kepala 1\n",
            "3 kepala 2\n",
            "4 buntut\n",
            "5 kepala 1\n",
            "6 buntut\n",
            "7 kepala 1\n",
            "8 buntut\n",
            "9 kepala 1\n",
            "10 buntut\n",
            "11 buntut\n",
            "12 kepala 1\n",
            "13 buntut\n",
            "14 buntut\n",
            "15 kepala 1\n",
            "16 buntut\n",
            "17 buntut\n",
            "18 kepala 1\n",
            "19 kepala 2\n",
            "20 buntut\n",
            "21 kepala 1\n",
            "22 kepala 2\n",
            "23 kepala 3\n",
            "Muncul kepala 3 kali berturut-turut.\n"
          ]
        }
      ],
      "source": [
        "# akan berhenti jika jumlah kepala muncul 3 kali berturut turut\n",
        "from random import randint\n",
        "\n",
        "hitung_kepala = 0\n",
        "hitung_total = 0\n",
        "\n",
        "while True:\n",
        "  \n",
        "  # angka integer acak: 0 atau 1\n",
        "  putar  = randint(0,1)\n",
        "  \n",
        "  if putar:\n",
        "    hitung_kepala  = hitung_kepala + 1\n",
        "    print (str(hitung_total) + \" kepala \" + str(hitung_kepala))\n",
        "  else:\n",
        "    hitung_kepala = 0\n",
        "    print (str(hitung_total) + \" buntut\")\n",
        "    \n",
        "  hitung_total = hitung_total + 1\n",
        "\n",
        "  if (hitung_kepala >= 3 or hitung_total >= 100): \n",
        "    # if not (hitung_kepala < 3 and hitung_total < 100):\n",
        "    break\n",
        "\n",
        "print (\"Muncul kepala \" + str(hitung_kepala) + \" kali berturut-turut.\")"
      ]
    },
    {
      "cell_type": "markdown",
      "metadata": {
        "id": "KNwtrvdpgYLl"
      },
      "source": [
        "## Looping For\n",
        "\n",
        "```\n",
        "for iterating_var in sequence:\n",
        "   statements(s)\n",
        "```"
      ]
    },
    {
      "cell_type": "code",
      "execution_count": 12,
      "metadata": {
        "id": "2qFULS-BgYLm"
      },
      "outputs": [
        {
          "name": "stdout",
          "output_type": "stream",
          "text": [
            "Berhitung..\n",
            "0\n",
            "1\n",
            "2\n",
            "3\n",
            "4\n",
            "Boom..!!\n"
          ]
        }
      ],
      "source": [
        "print (\"Berhitung..\")\n",
        "\n",
        "for i in range(5):\n",
        "    print(i)\n",
        "\n",
        "print (\"Boom..!!\")"
      ]
    },
    {
      "cell_type": "markdown",
      "metadata": {
        "id": "7fk9TvJQgYLm"
      },
      "source": [
        "### Latihan looping for\n",
        "\n",
        "Print range yang terbalik kelipatan 3 dari 99"
      ]
    },
    {
      "cell_type": "code",
      "execution_count": 13,
      "metadata": {
        "id": "-qBP1tRHgYLm"
      },
      "outputs": [
        {
          "name": "stdout",
          "output_type": "stream",
          "text": [
            "99\n",
            "96\n",
            "93\n",
            "90\n",
            "87\n",
            "84\n",
            "81\n",
            "78\n",
            "75\n",
            "72\n",
            "69\n",
            "66\n",
            "63\n",
            "60\n",
            "57\n",
            "54\n",
            "51\n",
            "48\n",
            "45\n",
            "42\n",
            "39\n",
            "36\n",
            "33\n",
            "30\n",
            "27\n",
            "24\n",
            "21\n",
            "18\n",
            "15\n",
            "12\n",
            "9\n",
            "6\n",
            "3\n"
          ]
        }
      ],
      "source": [
        "for i in range(99,0,-3):\n",
        "    print(i)"
      ]
    },
    {
      "cell_type": "markdown",
      "metadata": {
        "id": "lTM8vCZSgYLm"
      },
      "source": [
        "## Iterate over a list in Python"
      ]
    },
    {
      "cell_type": "markdown",
      "metadata": {
        "id": "glwIOzAmgYLn"
      },
      "source": [
        "### Method #1: Using For loop "
      ]
    },
    {
      "cell_type": "code",
      "execution_count": 14,
      "metadata": {
        "id": "k8h-E8WZgYLn",
        "outputId": "ec112335-9272-4766-fb35-4f4b5fe7f2ac"
      },
      "outputs": [
        {
          "name": "stdout",
          "output_type": "stream",
          "text": [
            "1\n",
            "3\n",
            "5\n",
            "7\n",
            "9\n"
          ]
        }
      ],
      "source": [
        "# Python3 code to iterate over a list\n",
        "list = [1, 3, 5, 7, 9]\n",
        "\n",
        "# Using for loop\n",
        "for i in list:\n",
        "\tprint(i)\n"
      ]
    },
    {
      "cell_type": "markdown",
      "metadata": {
        "id": "py3ZxLffgYLn"
      },
      "source": [
        "### Method #2: For loop and range()\n",
        "In case we want to use the traditional for loop which iterates from number x to number y. "
      ]
    },
    {
      "cell_type": "code",
      "execution_count": 15,
      "metadata": {
        "id": "AxBWUO0hgYLn",
        "outputId": "f94caae7-9b86-46d3-afdb-5fc31c0193f3"
      },
      "outputs": [
        {
          "name": "stdout",
          "output_type": "stream",
          "text": [
            "1\n",
            "3\n",
            "5\n",
            "7\n",
            "9\n"
          ]
        }
      ],
      "source": [
        "# Python3 code to iterate over a list\n",
        "list = [1, 3, 5, 7, 9]\n",
        "\n",
        "# getting length of list\n",
        "length = len(list)\n",
        "\n",
        "# Iterating the index\n",
        "# same as 'for i in range(len(list))'\n",
        "for i in range(length):\n",
        "\tprint(list[i])\n"
      ]
    },
    {
      "cell_type": "markdown",
      "metadata": {
        "id": "CpN-B65XgYLo"
      },
      "source": [
        "### Method #3: Using while loop "
      ]
    },
    {
      "cell_type": "code",
      "execution_count": 16,
      "metadata": {
        "id": "QnaIuhkpgYLo",
        "outputId": "832ec6d0-48c8-497c-b2f4-7e010bf60a87"
      },
      "outputs": [
        {
          "name": "stdout",
          "output_type": "stream",
          "text": [
            "1\n",
            "3\n",
            "5\n",
            "7\n",
            "9\n"
          ]
        }
      ],
      "source": [
        "# Python3 code to iterate over a list\n",
        "list = [1, 3, 5, 7, 9]\n",
        "\n",
        "# Getting length of list\n",
        "length = len(list)\n",
        "i = 0\n",
        "\n",
        "# Iterating using while loop\n",
        "while i < length:\n",
        "\tprint(list[i])\n",
        "\ti += 1\n"
      ]
    },
    {
      "cell_type": "markdown",
      "metadata": {
        "id": "O-0sueqCgYLo"
      },
      "source": [
        "### Method #4: Using list comprehension (Possibly the most concrete way). "
      ]
    },
    {
      "cell_type": "code",
      "execution_count": 17,
      "metadata": {
        "id": "jW8C_-TVgYLo",
        "outputId": "f7c5d693-b697-4ece-e66f-e64c4f7b5119"
      },
      "outputs": [
        {
          "name": "stdout",
          "output_type": "stream",
          "text": [
            "1\n",
            "3\n",
            "5\n",
            "7\n",
            "9\n"
          ]
        },
        {
          "data": {
            "text/plain": [
              "[None, None, None, None, None]"
            ]
          },
          "execution_count": 17,
          "metadata": {},
          "output_type": "execute_result"
        }
      ],
      "source": [
        "# Python3 code to iterate over a list\n",
        "list = [1, 3, 5, 7, 9]\n",
        "\n",
        "# Using list comprehension\n",
        "[print(i) for i in list]\n"
      ]
    },
    {
      "cell_type": "markdown",
      "metadata": {
        "id": "-7M0XyjEgYLp"
      },
      "source": [
        "### Method #5: Using enumerate()\n",
        "If we want to convert the list into an iterable list of tuples (or get the index based on a condition check, for example in linear search you might need to save the index of minimum element), you can use the enumerate() function. "
      ]
    },
    {
      "cell_type": "code",
      "execution_count": 18,
      "metadata": {
        "id": "3vnd-uMYgYLp",
        "outputId": "d36dd4b4-656e-412a-9f20-d253eb040566"
      },
      "outputs": [
        {
          "name": "stdout",
          "output_type": "stream",
          "text": [
            "0 , 1\n",
            "1 , 3\n",
            "2 , 5\n",
            "3 , 7\n",
            "4 , 9\n"
          ]
        }
      ],
      "source": [
        "# Python3 code to iterate over a list\n",
        "list = [1, 3, 5, 7, 9]\n",
        "\n",
        "# Using enumerate()\n",
        "for i, val in enumerate(list):\n",
        "\tprint (i, \",\",val)\n"
      ]
    },
    {
      "cell_type": "markdown",
      "metadata": {
        "id": "uFPY-QQCgYLq"
      },
      "source": [
        "Note: Even method #2 can be used to find the index, but method #1 can’t (Unless an extra variable is incremented every iteration) and method #5 gives a concise representation of this indexing. \n",
        "  "
      ]
    },
    {
      "cell_type": "markdown",
      "metadata": {
        "id": "FYiriY9rgYLq"
      },
      "source": [
        "### Method #6: Using Numpy\n",
        "For very large n-dimensional lists (for example an image array), it is sometimes better to use an external library such as numpy. "
      ]
    },
    {
      "cell_type": "code",
      "execution_count": 19,
      "metadata": {
        "id": "E9HKfqz1gYLq",
        "outputId": "018e5525-0f46-4426-8451-ce5fd147de72"
      },
      "outputs": [
        {
          "name": "stdout",
          "output_type": "stream",
          "text": [
            "0\n",
            "1\n",
            "2\n",
            "3\n",
            "4\n",
            "5\n",
            "6\n",
            "7\n",
            "8\n"
          ]
        }
      ],
      "source": [
        "# Python program for\n",
        "# iterating over array\n",
        "import numpy as geek\n",
        "\n",
        "# creating an array using\n",
        "# arrange method\n",
        "a = geek.arange(9)\n",
        "\n",
        "# shape array with 3 rows\n",
        "# and 4 columns\n",
        "a = a.reshape(3, 3)\n",
        "\n",
        "# iterating an array\n",
        "for x in geek.nditer(a):\n",
        "\tprint(x)\n"
      ]
    },
    {
      "cell_type": "markdown",
      "metadata": {
        "id": "_1rkNGK3gYLr"
      },
      "source": [
        "## Iterate in Dictionary"
      ]
    },
    {
      "cell_type": "markdown",
      "metadata": {
        "id": "ubsX5nhSgYLr"
      },
      "source": [
        "You can loop through a dictionary by using a for loop.\n",
        "\n",
        "When looping through a dictionary, the return value are the keys of the dictionary, but there are methods to return the values as well."
      ]
    },
    {
      "cell_type": "code",
      "execution_count": 20,
      "metadata": {
        "id": "TG3_2ZVEgYLr",
        "outputId": "5fc81f9c-491e-4e9a-91a4-b5de9fefe447"
      },
      "outputs": [
        {
          "name": "stdout",
          "output_type": "stream",
          "text": [
            "{'Nama': 'Bima Sakti', 'NIK': '3507051210810001', 'Tempat lahir': 'Malang', 'Tanggal lahir': datetime.datetime(1981, 10, 12, 0, 0), 'Pekerjaan': 'Karyawan BUMN'}\n"
          ]
        }
      ],
      "source": [
        "import datetime\n",
        "\n",
        "thisdict = {\n",
        "    \"Nama\": \"Bima Sakti\",\n",
        "    \"NIK\": \"3507051210810001\",\n",
        "    \"Tempat lahir\": \"Malang\",\n",
        "    \"Tanggal lahir\": datetime.datetime(1981, 10, 12),\n",
        "    \"Pekerjaan\": \"Karyawan BUMN\"\n",
        "}\n",
        "print(thisdict)"
      ]
    },
    {
      "cell_type": "code",
      "execution_count": 21,
      "metadata": {
        "id": "grKDPB5fgYLr",
        "outputId": "8faeb8a3-0aa6-4421-fd1f-84fb84118c2e"
      },
      "outputs": [
        {
          "name": "stdout",
          "output_type": "stream",
          "text": [
            "Nama\n",
            "NIK\n",
            "Tempat lahir\n",
            "Tanggal lahir\n",
            "Pekerjaan\n"
          ]
        }
      ],
      "source": [
        "# print all names\n",
        "for x in thisdict:\n",
        "  print(x)"
      ]
    },
    {
      "cell_type": "code",
      "execution_count": 22,
      "metadata": {
        "id": "8M2YD_c1gYLs",
        "outputId": "20249683-0799-4ff4-cedb-95d9556dcaa8"
      },
      "outputs": [
        {
          "name": "stdout",
          "output_type": "stream",
          "text": [
            "Bima Sakti\n",
            "3507051210810001\n",
            "Malang\n",
            "1981-10-12 00:00:00\n",
            "Karyawan BUMN\n"
          ]
        }
      ],
      "source": [
        "# print all values\n",
        "for x in thisdict:\n",
        "  print(thisdict[x])"
      ]
    },
    {
      "cell_type": "code",
      "execution_count": 23,
      "metadata": {
        "id": "mY_zLO3bgYLs",
        "outputId": "e84692a1-9833-4164-c065-9212db06647a"
      },
      "outputs": [
        {
          "name": "stdout",
          "output_type": "stream",
          "text": [
            "Bima Sakti\n",
            "3507051210810001\n",
            "Malang\n",
            "1981-10-12 00:00:00\n",
            "Karyawan BUMN\n"
          ]
        }
      ],
      "source": [
        "# You can also use the values() function to return values of a dictionary:\n",
        "for x in thisdict.values():\n",
        "  print(x)"
      ]
    },
    {
      "cell_type": "code",
      "execution_count": 24,
      "metadata": {
        "id": "mKpVbgQegYLs",
        "outputId": "f07343b1-07f8-4c9b-dc11-5cf547b5ce90"
      },
      "outputs": [
        {
          "name": "stdout",
          "output_type": "stream",
          "text": [
            "Nama Bima Sakti\n",
            "NIK 3507051210810001\n",
            "Tempat lahir Malang\n",
            "Tanggal lahir 1981-10-12 00:00:00\n",
            "Pekerjaan Karyawan BUMN\n"
          ]
        }
      ],
      "source": [
        "# Loop through both keys and values, by using the items() function:\n",
        "for x, y in thisdict.items():\n",
        "  print(x, y)"
      ]
    },
    {
      "cell_type": "markdown",
      "metadata": {
        "id": "QSNiXGNRgYLs"
      },
      "source": [
        "## Latihan\n",
        "\n",
        "Berikut disajikan kategori dari suatu klasifikasi clickbait. Di akhir prediksi, machine learning hanya mengeluarkan prediksi dalam bentuk numerik sebagai notasi dari masing-masing kelas. Ubahlah numerik tersebut dalam kategorinya. \n",
        "\n",
        "Kategori: \n",
        "\"1\" : \"Clickbait-severe\",\n",
        "\"2\" : \"clickbait-moderate\",\n",
        "\"3\" : \"Clickbait-mild\",\n",
        "\"4\" : \"No Clickbait\"\n",
        "\n",
        "Hasil prediksi machine learning: \n",
        "pred = [1, 3, 4, 4, 4, 4, 4, 3, 1, 2, 1, 1, 2, 3, 3, 2, 4]\n",
        "\n",
        "ubahlah menjadi ['Clickbait-severe', 'Clickbait-mild', 'No Clickbait', dll]"
      ]
    },
    {
      "cell_type": "code",
      "execution_count": 25,
      "metadata": {
        "id": "c_9DuF46gYLt"
      },
      "outputs": [],
      "source": [
        "# dictionary \n",
        "\n",
        "# dictionary\n",
        "\n",
        "kategori = {\n",
        "    \"1\" : \"Clickbait-severe\",\n",
        "    \"2\" : \"clickbait-moderate\",\n",
        "    \"3\" : \"Clickbait-mild\",\n",
        "    \"4\" : \"No Clickbait\"\n",
        "}\n"
      ]
    },
    {
      "cell_type": "code",
      "execution_count": 26,
      "metadata": {
        "id": "n_2qLRnG3VO3"
      },
      "outputs": [
        {
          "data": {
            "text/plain": [
              "'Clickbait-mild'"
            ]
          },
          "execution_count": 26,
          "metadata": {},
          "output_type": "execute_result"
        }
      ],
      "source": [
        "kategori[\"3\"]"
      ]
    },
    {
      "cell_type": "code",
      "execution_count": 1,
      "metadata": {
        "id": "3KiD0v9-3E99"
      },
      "outputs": [
        {
          "ename": "NameError",
          "evalue": "name 'kategori' is not defined",
          "output_type": "error",
          "traceback": [
            "\u001b[1;31m---------------------------------------------------------------------------\u001b[0m",
            "\u001b[1;31mNameError\u001b[0m                                 Traceback (most recent call last)",
            "\u001b[1;32m<ipython-input-1-85cba399ce8f>\u001b[0m in \u001b[0;36m<module>\u001b[1;34m\u001b[0m\n\u001b[0;32m      3\u001b[0m \u001b[0mpred_new\u001b[0m \u001b[1;33m=\u001b[0m \u001b[1;33m[\u001b[0m\u001b[1;33m]\u001b[0m\u001b[1;33m\u001b[0m\u001b[1;33m\u001b[0m\u001b[0m\n\u001b[0;32m      4\u001b[0m \u001b[1;32mfor\u001b[0m \u001b[0mi\u001b[0m \u001b[1;32min\u001b[0m \u001b[0mpred\u001b[0m\u001b[1;33m:\u001b[0m\u001b[1;33m\u001b[0m\u001b[1;33m\u001b[0m\u001b[0m\n\u001b[1;32m----> 5\u001b[1;33m     \u001b[0ma\u001b[0m \u001b[1;33m=\u001b[0m \u001b[0mkategori\u001b[0m\u001b[1;33m[\u001b[0m\u001b[0mstr\u001b[0m\u001b[1;33m(\u001b[0m\u001b[0mi\u001b[0m\u001b[1;33m)\u001b[0m\u001b[1;33m]\u001b[0m\u001b[1;33m\u001b[0m\u001b[1;33m\u001b[0m\u001b[0m\n\u001b[0m\u001b[0;32m      6\u001b[0m     \u001b[0mpred_new\u001b[0m\u001b[1;33m.\u001b[0m\u001b[0mappend\u001b[0m\u001b[1;33m(\u001b[0m\u001b[0ma\u001b[0m\u001b[1;33m)\u001b[0m \u001b[1;31m#hasilnya saling bersambung membutuhkan (append)\u001b[0m\u001b[1;33m\u001b[0m\u001b[1;33m\u001b[0m\u001b[0m\n\u001b[0;32m      7\u001b[0m \u001b[1;33m\u001b[0m\u001b[0m\n",
            "\u001b[1;31mNameError\u001b[0m: name 'kategori' is not defined"
          ]
        }
      ],
      "source": [
        "pred = [1, 3, 4, 4, 4, 4, 4, 3, 1, 2, 1, 1, 2, 3, 3, 2, 4]\n",
        "\n",
        "pred_new = []\n",
        "for i in pred:\n",
        "    a = kategori[str(i)]\n",
        "    pred_new.append(a) #hasilnya saling bersambung membutuhkan (append)\n",
        "\n",
        "print(pred_new)\n"
      ]
    },
    {
      "cell_type": "code",
      "execution_count": 2,
      "metadata": {},
      "outputs": [],
      "source": [
        "kategori = []\n",
        "def dataproses(besar):\n",
        "    for i in besar:\n",
        "        if i<99.99:\n",
        "            print(\"Data proses rendah: \" + str(i)+\" MB\")\n",
        "            a = \"Data proses rendah\"\n",
        "            kategori.append(a)\n",
        "        elif i<149.99:\n",
        "            print(\"Data proses sedang: \"+str(i)+\" MB\")\n",
        "            a = \"Data proses sedang\"\n",
        "            kategori.append(a)\n",
        "        elif i<199.99:\n",
        "            print(\"Data proses tinggi: \"+str(i)+\" MB\")\n",
        "            a = \"Data proses tinggi\"\n",
        "            kategori.append(a)\n",
        "        else:\n",
        "            print(\"Data proses sangat tinggi: \"+str(i)+\" MB\" )\n",
        "            a = \"Data proses sangat tinggi\"\n",
        "            kategori.append(a)\n",
        "    return(kategori)\n"
      ]
    },
    {
      "cell_type": "code",
      "execution_count": 3,
      "metadata": {},
      "outputs": [
        {
          "name": "stdout",
          "output_type": "stream",
          "text": [
            "Data proses sedang: 140 MB\n",
            "Data proses tinggi: 150 MB\n",
            "Data proses sangat tinggi: 200 MB\n",
            "Data proses sangat tinggi: 300 MB\n",
            "Data proses sangat tinggi: 400 MB\n",
            "Data proses sangat tinggi: 500 MB\n"
          ]
        },
        {
          "data": {
            "text/plain": [
              "['Data proses sedang',\n",
              " 'Data proses tinggi',\n",
              " 'Data proses sangat tinggi',\n",
              " 'Data proses sangat tinggi',\n",
              " 'Data proses sangat tinggi',\n",
              " 'Data proses sangat tinggi']"
            ]
          },
          "execution_count": 3,
          "metadata": {},
          "output_type": "execute_result"
        }
      ],
      "source": [
        "besar = [140, 150, 200, 300, 400, 500]\n",
        "dataproses(besar) "
      ]
    },
    {
      "cell_type": "code",
      "execution_count": 1,
      "metadata": {},
      "outputs": [],
      "source": [
        "kategori = []\n",
        "def inflasi(dataku):\n",
        "    for inflasi in dataku:\n",
        "        if inflasi < 10:\n",
        "            print(\"Inflasi Ringan\")\n",
        "            a = inflasi\n",
        "            kategori.append(a)\n",
        "        elif inflasi < 30:\n",
        "            print(\"Inflasi sedang\")\n",
        "            a = inflasi\n",
        "            kategori.append(a)\n",
        "        elif inflasi < 100:\n",
        "            print(\"Inflasi Berat\")\n",
        "            a = inflasi\n",
        "            kategori.append(a)\n",
        "        else:\n",
        "            print(\"Hiperinflasi\")\n",
        "            a = inflasi\n",
        "            kategori.append(a)\n"
      ]
    },
    {
      "cell_type": "code",
      "execution_count": 20,
      "metadata": {},
      "outputs": [
        {
          "name": "stdout",
          "output_type": "stream",
          "text": [
            "Inflasi ringan:5.01\n"
          ]
        },
        {
          "data": {
            "text/plain": [
              "['Inflasi ringan',\n",
              " 'Inflasi ringan',\n",
              " 'Inflasi ringan',\n",
              " 'Inflasi ringan',\n",
              " 'Inflasi ringan',\n",
              " 'Inflasi ringan',\n",
              " 'Inflasi ringan',\n",
              " 'Inflasi ringan',\n",
              " 'Inflasi ringan',\n",
              " 'Inflasi ringan',\n",
              " 'Inflasi ringan',\n",
              " 'Inflasi ringan',\n",
              " 'Inflasi ringan']"
            ]
          },
          "execution_count": 20,
          "metadata": {},
          "output_type": "execute_result"
        }
      ],
      "source": [
        "dataku = [5.01, 4.06, 7.23, 8.01, 10.01, 10.05]\n",
        "inflasi(dataku)\n"
      ]
    },
    {
      "cell_type": "code",
      "execution_count": 7,
      "metadata": {},
      "outputs": [],
      "source": [
        "kategori = []\n",
        "def inflasi(dataku):\n",
        "  for i in dataku:   \n",
        "    if i<10:\n",
        "      print(\"Inflasi ringan:\"+str(i))\n",
        "      a=\"Inflasi ringan\"\n",
        "      kategori.append(a)\n",
        "    elif i<30:\n",
        "      print(\"Inflasi sedang:\"+str(i))\n",
        "      a=\"Inflasi sedang\"\n",
        "      kategori.append(a)\n",
        "    elif i<100:\n",
        "      print(\"Inflasi tinggi:\"+str(i))\n",
        "      a=\"Inflasi tinggi\"\n",
        "      kategori.append(a)\n",
        "    else:\n",
        "      print(\"Inflasi sangat tinggi:\"+str(i)+\"MB\")\n",
        "      a=\"Inflasi sangat tinggi\"\n",
        "      kategori.append(a)\n",
        "    return(kategori)\n",
        "\n"
      ]
    },
    {
      "cell_type": "code",
      "execution_count": 21,
      "metadata": {},
      "outputs": [],
      "source": [
        "kategori = []\n",
        "def inflasi(dataku):\n",
        "  for i in dataku:   \n",
        "    if i<10:\n",
        "      print(\"Inflasi ringan:\"+str(i))\n",
        "      a=\"Inflasi ringan\"\n",
        "      kategori.append(a)\n",
        "    elif i<30:\n",
        "      print(\"Inflasi sedang:\"+str(i))\n",
        "      a=\"Inflasi sedang\"\n",
        "      kategori.append(a)\n",
        "    elif i<100:\n",
        "      print(\"Inflasi tinggi:\"+str(i))\n",
        "      a=\"Inflasi tinggi\"\n",
        "      kategori.append(a)\n",
        "    else:\n",
        "      print(\"Inflasi sangat tinggi:\"+str(i)+\"MB\")\n",
        "      a=\"Inflasi sangat tinggi\"\n",
        "      kategori.append(a)\n",
        "    return(kategori)\n"
      ]
    },
    {
      "cell_type": "code",
      "execution_count": 27,
      "metadata": {},
      "outputs": [
        {
          "name": "stdout",
          "output_type": "stream",
          "text": [
            "Inflasi ringan:5.01\n"
          ]
        },
        {
          "data": {
            "text/plain": [
              "['Inflasi ringan',\n",
              " 'Inflasi ringan',\n",
              " 'Inflasi ringan',\n",
              " 'Inflasi ringan',\n",
              " 'Inflasi ringan',\n",
              " 'Inflasi ringan']"
            ]
          },
          "execution_count": 27,
          "metadata": {},
          "output_type": "execute_result"
        }
      ],
      "source": [
        "dataku = [5.01, 4.06, 7.23, 8.01, 10.01, 10.05]\n",
        "inflasi(dataku)\n"
      ]
    },
    {
      "cell_type": "code",
      "execution_count": 17,
      "metadata": {},
      "outputs": [
        {
          "name": "stdout",
          "output_type": "stream",
          "text": [
            "Inflasi ringan:5.01\n"
          ]
        },
        {
          "data": {
            "text/plain": [
              "['Inflasi ringan',\n",
              " 'Inflasi ringan',\n",
              " 'Inflasi ringan',\n",
              " 'Inflasi ringan',\n",
              " 'Inflasi ringan',\n",
              " 'Inflasi ringan',\n",
              " 'Inflasi ringan',\n",
              " 'Inflasi ringan',\n",
              " 'Inflasi ringan',\n",
              " 'Inflasi ringan']"
            ]
          },
          "execution_count": 17,
          "metadata": {},
          "output_type": "execute_result"
        }
      ],
      "source": [
        "dataku = [5.01, 4.06, 7.23, 8.01, 10.01, 10.05]\n",
        "inflasi(dataku)\n"
      ]
    },
    {
      "cell_type": "code",
      "execution_count": null,
      "metadata": {},
      "outputs": [],
      "source": []
    },
    {
      "cell_type": "code",
      "execution_count": null,
      "metadata": {},
      "outputs": [],
      "source": [
        "kategori = []\n",
        "def ipm(dataku):\n",
        "    for i in dataku:\n",
        "        if i < 60:\n",
        "            print (\"IPM rendah\")\n",
        "            a = \"IPM rendah\"\n",
        "            kategori.append(a)\n",
        "        elif i < 70:\n",
        "            print (\"IPM sedang\")\n",
        "            a = \"IPM sedang\"\n",
        "            kategori.append(a)\n",
        "        elif i < 80:\n",
        "            print (\"IPM tinggi\")\n",
        "            a = \"IPM tinggi\"\n",
        "            kategori.append(a)\n",
        "        else:\n",
        "            print (\"IPM sangat tinggi\")\n",
        "            a = \"IPM sangat tinggi\"\n",
        "            kategori.append(a)\n",
        "    return(kategori)\n"
      ]
    },
    {
      "cell_type": "code",
      "execution_count": null,
      "metadata": {},
      "outputs": [],
      "source": [
        "kategori = []\n",
        "def inflasi(dataku):\n",
        "  for i in dataku:   \n",
        "    if i<10:\n",
        "      print(\"Inflasi ringan:\"+str(i))\n",
        "      a=\"Inflasi ringan\"\n",
        "      kategori.append(a)\n",
        "    elif i<30:\n",
        "      print(\"Inflasi sedang:\"+str(i))\n",
        "      a=\"Inflasi sedang\"\n",
        "      kategori.append(a)\n",
        "    elif i<100:\n",
        "      print(\"Inflasi tinggi:\"+str(i))\n",
        "      a=\"Inflasi tinggi\"\n",
        "      kategori.append(a)\n",
        "    else:\n",
        "      print(\"Inflasi sangat tinggi:\"+str(i)+\"MB\")\n",
        "      a=\"Inflasi sangat tinggi\"\n",
        "      kategori.append(a)\n",
        "  return (kategori)\n"
      ]
    },
    {
      "cell_type": "code",
      "execution_count": 29,
      "metadata": {},
      "outputs": [],
      "source": [
        "kategori = []\n",
        "def inflasi(dataku):\n",
        "    for inflasi in dataku:\n",
        "        if inflasi < 10:\n",
        "            print(\"Inflasi Ringan\")\n",
        "            a = \"Inflasi Ringan\"\n",
        "            kategori.append(a)\n",
        "        elif inflasi < 30:\n",
        "            print(\"Inflasi Sedang\")\n",
        "            a = \"Inflasi Sedang\"\n",
        "            kategori.append(a)\n",
        "        elif inflasi < 100:\n",
        "            print(\"Inflasi Berat\")\n",
        "            a = \"Inflasi Berat\"\n",
        "            kategori.append(a)\n",
        "        else:\n",
        "            print(\"Hiperinflasi\")\n",
        "            a = \"Hiperinflasi\"\n",
        "            kategori.append(a)\n",
        "    return(kategori)\n"
      ]
    },
    {
      "cell_type": "code",
      "execution_count": 30,
      "metadata": {},
      "outputs": [
        {
          "name": "stdout",
          "output_type": "stream",
          "text": [
            "Inflasi Ringan\n",
            "Inflasi Ringan\n",
            "Inflasi Ringan\n",
            "Inflasi Ringan\n",
            "Inflasi Sedang\n",
            "Inflasi Sedang\n"
          ]
        },
        {
          "data": {
            "text/plain": [
              "['Inflasi Ringan',\n",
              " 'Inflasi Ringan',\n",
              " 'Inflasi Ringan',\n",
              " 'Inflasi Ringan',\n",
              " 'Inflasi Sedang',\n",
              " 'Inflasi Sedang']"
            ]
          },
          "execution_count": 30,
          "metadata": {},
          "output_type": "execute_result"
        }
      ],
      "source": [
        "dataku = [5.01, 4.06, 7.23, 8.01, 10.01, 10.05]\n",
        "inflasi(dataku)"
      ]
    },
    {
      "cell_type": "code",
      "execution_count": null,
      "metadata": {},
      "outputs": [],
      "source": []
    }
  ],
  "metadata": {
    "celltoolbar": "Slideshow",
    "colab": {
      "collapsed_sections": [],
      "name": "2. Decision making dan Looping dalam python.ipynb",
      "provenance": []
    },
    "interpreter": {
      "hash": "770021e68aae5e5bc49f7a3b6edb919a4a251fef8e7696fd47196c25263b13c4"
    },
    "kernelspec": {
      "display_name": "Python 3.8.5 64-bit ('base': conda)",
      "name": "python3"
    },
    "language_info": {
      "codemirror_mode": {
        "name": "ipython",
        "version": 3
      },
      "file_extension": ".py",
      "mimetype": "text/x-python",
      "name": "python",
      "nbconvert_exporter": "python",
      "pygments_lexer": "ipython3",
      "version": "3.8.5"
    }
  },
  "nbformat": 4,
  "nbformat_minor": 2
}
