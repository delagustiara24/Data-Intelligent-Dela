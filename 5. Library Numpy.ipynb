{
 "cells": [
  {
   "cell_type": "markdown",
   "metadata": {},
   "source": [
    "# Variabel\n",
    "\n",
    "Diketahui beberapa list berikut:   \n",
    "1. ipk = [3.05, 3.45, 3.33, 2.90, 3.10, 3.23, 3.80, 3.74, 3.67, 3.39, 3.41, 3.51, 3.21, 3.55, 3.34, 3.67, 3.77, 3.00, 3.25, 2.78]   \n",
    "2. sks = [88, 89, 90, 100, 80, 78, 90, 90, 92, 97, 95, 80, 88, 102, 87, 84, 85, 89, 101, 80]\n",
    "3. konsentrasi = konsentrasi = [\"AK\", \"AK\", \"DS\", \"DS\", \"AK\", \"AK\", \"MK\", \"MK\", \"DS\", \"DS\", \"IN\", \"IN\", \"BS\", \"BS\", \"MK\", \"MK\", \"BS\", \"BS\", \"IN\", \"IN\"]"
   ]
  },
  {
   "cell_type": "code",
   "execution_count": null,
   "metadata": {},
   "outputs": [],
   "source": [
    "# definisi variabel\n",
    "ipk = [3.05, 3.45, 3.33, 2.90, 3.10, 3.23, 3.80, 3.74, 3.67, 3.39, 3.41, 3.51, 3.21, 3.55, 3.34, 3.67, 3.77, 3.00, 3.25, 2.78]\n",
    "sks = [88, 89, 90, 100, 80, 78, 90, 90, 92, 97, 95, 80, 88, 102, 87, 84, 85, 89, 101, 80]\n",
    "konsentrasi = [\"AK\", \"AK\", \"DS\", \"DS\", \"AK\", \"AK\", \"MK\", \"MK\", \"DS\", \"DS\", \"IN\", \"IN\", \"BS\", \"BS\", \"MK\", \"MK\", \"BS\", \"BS\", \"IN\", \"IN\"]"
   ]
  },
  {
   "cell_type": "code",
   "execution_count": null,
   "metadata": {},
   "outputs": [],
   "source": [
    "# panjang dari setiap variabel\n",
    "len(ipk)"
   ]
  },
  {
   "cell_type": "code",
   "execution_count": null,
   "metadata": {},
   "outputs": [],
   "source": [
    "# diperoleh nilai mata kuliah baru dengan bobot yang tersimpan dalam variabel bobot berikut\n",
    "bobot = [3.0, 3.5, 4.0, 4.0, 4.0, 3.0, 3.5, 2.5, 2.8, 2.8, 3.0, 3.5, 3.8, 3.8, 3.8, 2.5, 4.0, 4.0, 3.8, 4.0]\n",
    "print(bobot)"
   ]
  },
  {
   "cell_type": "code",
   "execution_count": null,
   "metadata": {},
   "outputs": [],
   "source": [
    "len(bobot)"
   ]
  },
  {
   "cell_type": "code",
   "execution_count": null,
   "metadata": {},
   "outputs": [],
   "source": [
    "# sks mata kuliah tersebut adalah 3. Hitung total bobot dengan mengalikan list bobot dengan 3. Simpan dalam variabel tot_bobot\n",
    "tot_bobot = bobot*3\n"
   ]
  },
  {
   "cell_type": "code",
   "execution_count": null,
   "metadata": {},
   "outputs": [],
   "source": [
    "# print out tot_bobot\n",
    "print(tot_bobot)"
   ]
  },
  {
   "cell_type": "code",
   "execution_count": null,
   "metadata": {},
   "outputs": [],
   "source": [
    "len(tot_bobot)"
   ]
  },
  {
   "cell_type": "markdown",
   "metadata": {
    "collapsed": true
   },
   "source": [
    "### apakah hasilnya sesuai yang diinginkan? "
   ]
  },
  {
   "cell_type": "markdown",
   "metadata": {},
   "source": [
    "# Menggunakan package numpy\n",
    "\n",
    "Digunakan untuk manipulasi array secara mudah dan cepat. Daftar fungsi yang dapat digunakan dalam library numpy dapat diakses di [Numpy Array Manipulation](https://www.tutorialspoint.com/numpy/numpy_array_manipulation.htm). NumPy bekerja dengan array yang disebut ndarray. Dimensi array adalah tingkatan kedalaman dari suatu array. \n",
    "\n"
   ]
  },
  {
   "cell_type": "code",
   "execution_count": 2,
   "metadata": {},
   "outputs": [],
   "source": [
    "# import numpy sebagai np\n",
    "import numpy as np"
   ]
  },
  {
   "cell_type": "markdown",
   "metadata": {},
   "source": [
    "### 1. Membuat N-Dimensional Array"
   ]
  },
  {
   "cell_type": "code",
   "execution_count": 3,
   "metadata": {},
   "outputs": [
    {
     "name": "stdout",
     "output_type": "stream",
     "text": [
      "23\n"
     ]
    }
   ],
   "source": [
    "# Membuat 0-D Array\n",
    "\n",
    "a = np.array(23)\n",
    "print(a)"
   ]
  },
  {
   "cell_type": "code",
   "execution_count": 4,
   "metadata": {},
   "outputs": [
    {
     "name": "stdout",
     "output_type": "stream",
     "text": [
      "[1 4 6 9]\n"
     ]
    }
   ],
   "source": [
    "# Membuat 1-D array\n",
    "\n",
    "b = np.array([1, 4, 6, 9])\n",
    "print(b)"
   ]
  },
  {
   "cell_type": "code",
   "execution_count": 5,
   "metadata": {},
   "outputs": [
    {
     "name": "stdout",
     "output_type": "stream",
     "text": [
      "[[ 2  3  5]\n",
      " [ 7 11 13]]\n"
     ]
    }
   ],
   "source": [
    "# Membuat 2-D array\n",
    "\n",
    "c = np.array([[2, 3, 5], [7, 11, 13]])\n",
    "print(c)"
   ]
  },
  {
   "cell_type": "code",
   "execution_count": 7,
   "metadata": {},
   "outputs": [
    {
     "name": "stdout",
     "output_type": "stream",
     "text": [
      "[[[1 2 3]\n",
      "  [4 5 6]\n",
      "  [7 8 9]]]\n"
     ]
    }
   ],
   "source": [
    "# Membuat 3-D array\n",
    "\n",
    "d = np.array([[[1, 2, 3], [4, 5, 6], [7, 8, 9]]])\n",
    "print(d)"
   ]
  },
  {
   "cell_type": "code",
   "execution_count": 21,
   "metadata": {},
   "outputs": [
    {
     "ename": "NameError",
     "evalue": "name 'np' is not defined",
     "output_type": "error",
     "traceback": [
      "\u001b[1;31m---------------------------------------------------------------------------\u001b[0m",
      "\u001b[1;31mNameError\u001b[0m                                 Traceback (most recent call last)",
      "\u001b[1;32m<ipython-input-21-5918404c6abf>\u001b[0m in \u001b[0;36m<module>\u001b[1;34m\u001b[0m\n\u001b[0;32m      1\u001b[0m \u001b[1;31m# Membuat n-D array dengan numpy.array(array, ndmin = n)\u001b[0m\u001b[1;33m\u001b[0m\u001b[1;33m\u001b[0m\u001b[1;33m\u001b[0m\u001b[0m\n\u001b[0;32m      2\u001b[0m \u001b[1;33m\u001b[0m\u001b[0m\n\u001b[1;32m----> 3\u001b[1;33m \u001b[0me\u001b[0m \u001b[1;33m=\u001b[0m \u001b[0mnp\u001b[0m\u001b[1;33m.\u001b[0m\u001b[0marray\u001b[0m\u001b[1;33m(\u001b[0m\u001b[1;33m[\u001b[0m\u001b[1;33m[\u001b[0m\u001b[1;36m1\u001b[0m\u001b[1;33m,\u001b[0m \u001b[1;36m2\u001b[0m\u001b[1;33m,\u001b[0m \u001b[1;36m3\u001b[0m\u001b[1;33m]\u001b[0m\u001b[1;33m,\u001b[0m \u001b[1;33m[\u001b[0m\u001b[1;36m4\u001b[0m\u001b[1;33m,\u001b[0m \u001b[1;36m5\u001b[0m\u001b[1;33m,\u001b[0m \u001b[1;36m6\u001b[0m\u001b[1;33m]\u001b[0m\u001b[1;33m]\u001b[0m\u001b[1;33m,\u001b[0m \u001b[0mndmin\u001b[0m \u001b[1;33m=\u001b[0m \u001b[1;36m5\u001b[0m\u001b[1;33m)\u001b[0m\u001b[1;33m\u001b[0m\u001b[1;33m\u001b[0m\u001b[0m\n\u001b[0m\u001b[0;32m      4\u001b[0m \u001b[0mprint\u001b[0m\u001b[1;33m(\u001b[0m\u001b[0me\u001b[0m\u001b[1;33m)\u001b[0m\u001b[1;33m\u001b[0m\u001b[1;33m\u001b[0m\u001b[0m\n",
      "\u001b[1;31mNameError\u001b[0m: name 'np' is not defined"
     ]
    }
   ],
   "source": [
    "# Membuat n-D array dengan numpy.array(array, ndmin = n)\n",
    "\n",
    "e = np.array([[1, 2, 3], [4, 5, 6]], ndmin = 5)\n",
    "print(e)"
   ]
  },
  {
   "cell_type": "code",
   "execution_count": 8,
   "metadata": {},
   "outputs": [
    {
     "name": "stdout",
     "output_type": "stream",
     "text": [
      "0\n",
      "1\n",
      "2\n",
      "3\n",
      "5\n"
     ]
    }
   ],
   "source": [
    "# Mengecek dimensi array dengan ndim\n",
    "\n",
    "print(a.ndim)\n",
    "print(b.ndim)\n",
    "print(c.ndim)\n",
    "print(d.ndim)\n",
    "print(e.ndim)"
   ]
  },
  {
   "cell_type": "markdown",
   "metadata": {},
   "source": [
    "### 2. Indeks Array\n",
    "\n",
    "Indeks array pada dasarnya digunakan untuk memanggil elemen di dalam array. "
   ]
  },
  {
   "cell_type": "code",
   "execution_count": null,
   "metadata": {},
   "outputs": [],
   "source": [
    "# Memanggil elemen pertama pada 1-D array\n",
    "print(b[0])"
   ]
  },
  {
   "cell_type": "code",
   "execution_count": null,
   "metadata": {},
   "outputs": [],
   "source": [
    "# Memanggil array pertama pada 2-D array\n",
    "arr = np.array([[11, 12, 13], [14, 15, 16], [17, 18, 19]])\n",
    "print(arr[0])"
   ]
  },
  {
   "cell_type": "code",
   "execution_count": null,
   "metadata": {},
   "outputs": [],
   "source": [
    "# Memanggil elemen kedua pada array ketiga 2-D array\n",
    "\n",
    "print(arr[2, 1])"
   ]
  },
  {
   "cell_type": "markdown",
   "metadata": {},
   "source": [
    "### 3. Slicing Array\n",
    "\n",
    "Slicing (memotong) maksudnya adalah mengambil elemen dari satu indeks ke indeks lain. Dengan kata lain, mengambil beberapa elemen. Slicing dapat dilakukan dengan menuliskan `[mulai : akhir]` atau `[mulai : akhir : langkah]`.   \n",
    "\n",
    "- Jika `mulai` tidak dituliskan, maka dianggap 0\n",
    "- Jika `akhir` tidak dituliskan, maka dianggap hingga panjang array\n",
    "- Jika `langkah` tidak dituliskan, maka dianggap 1"
   ]
  },
  {
   "cell_type": "code",
   "execution_count": 9,
   "metadata": {},
   "outputs": [
    {
     "data": {
      "text/plain": [
       "array([15, 17, 20, 23, 34])"
      ]
     },
     "execution_count": 9,
     "metadata": {},
     "output_type": "execute_result"
    }
   ],
   "source": [
    "arr = np.array([12, 15, 17, 20, 23, 34, 56, 78, 100, 56, 88])\n",
    "\n",
    "# Mengambil elemen kedua hingga keenam (15, 17, 20, 23, 34)\n",
    "arr[1:6]"
   ]
  },
  {
   "cell_type": "code",
   "execution_count": 10,
   "metadata": {},
   "outputs": [
    {
     "data": {
      "text/plain": [
       "array([[10, 11],\n",
       "       [13, 14]])"
      ]
     },
     "execution_count": 10,
     "metadata": {},
     "output_type": "execute_result"
    }
   ],
   "source": [
    "arr = np.array([[10, 11, 12], [13, 14, 15], [16, 17, 18], [19, 20, 21]], ndmin=2)\n",
    "\n",
    "# Mengambil array pertama dan kedua (indeks 0, 1) beserta elemen pertama dan kedua (indeks 0, 1)\n",
    "arr[0:2, 0:2]"
   ]
  },
  {
   "cell_type": "markdown",
   "metadata": {},
   "source": [
    "### 4. Menggabungkan\n",
    "\n",
    "Menggabungkan (join) array. Gunakan `np.concatenate`"
   ]
  },
  {
   "cell_type": "code",
   "execution_count": null,
   "metadata": {},
   "outputs": [],
   "source": [
    "arr1 = np.array([1, 2, 3, 4])\n",
    "arr2 = np.array([34, 56, 78, 90])\n",
    "\n",
    "arr = np.concatenate((arr1, arr2))\n",
    "print(arr)"
   ]
  },
  {
   "cell_type": "code",
   "execution_count": null,
   "metadata": {},
   "outputs": [],
   "source": [
    "arr1 = np.array([[1, 2], [3, 4]])\n",
    "\n",
    "arr2 = np.array([[5, 6], [7, 8]])\n",
    "\n",
    "# Jika axis = 0\n",
    "arr3 = np.concatenate((arr1, arr2), axis=0)\n",
    "print(arr3)\n",
    "\n",
    "print(\"\\n\")\n",
    "\n",
    "# Jika axis = 1\n",
    "arr4 = np.concatenate((arr1, arr2), axis=1)\n",
    "print(arr4)"
   ]
  },
  {
   "cell_type": "markdown",
   "metadata": {},
   "source": [
    "#### Menggabungkan array dengan stack\n",
    "\n",
    "Kita dapat melakukan penggabungan array pada axis yang baru dengan fungsi stack."
   ]
  },
  {
   "cell_type": "code",
   "execution_count": null,
   "metadata": {},
   "outputs": [],
   "source": [
    "# Cobalah menggabungkan dua array berdimensi 1 berikut dengan stack\n",
    "arr1 = np.array([1, 2, 3])\n",
    "\n",
    "arr2 = np.array([4, 5, 6])\n",
    "\n",
    "arr = np.stack((arr1, arr2), axis = 0)\n",
    "\n",
    "print(arr)"
   ]
  },
  {
   "cell_type": "code",
   "execution_count": null,
   "metadata": {},
   "outputs": [],
   "source": [
    "# Coba bandingkan apabila penggabungan dilakukan dengan menggunakan concatenate. Apa yang terjadi?\n",
    "arr1 = np.array([1, 2, 3])\n",
    "\n",
    "arr2 = np.array([4, 5, 6])\n",
    "\n",
    "arr = np.concatenate((arr1, arr2), axis = 0)\n",
    "\n",
    "print(arr)"
   ]
  },
  {
   "cell_type": "markdown",
   "metadata": {},
   "source": [
    "### 5. Random\n",
    "\n",
    "Untuk merandim bilangan, kita import modul random dari numpy. "
   ]
  },
  {
   "cell_type": "code",
   "execution_count": null,
   "metadata": {},
   "outputs": [],
   "source": [
    "from numpy import random"
   ]
  },
  {
   "cell_type": "code",
   "execution_count": null,
   "metadata": {},
   "outputs": [],
   "source": [
    "# Merandom bilangan bulat randint(low, high=None, size=None, dtype='l')\n",
    "\n",
    "\n",
    "x = random.randint(10, 200, size = (4, 3))\n",
    "\n",
    "print(x)"
   ]
  },
  {
   "cell_type": "code",
   "execution_count": null,
   "metadata": {},
   "outputs": [],
   "source": [
    "x.ndim"
   ]
  },
  {
   "cell_type": "code",
   "execution_count": null,
   "metadata": {},
   "outputs": [],
   "source": [
    "# Merandom bilangan diantara 0 dan 1 rand(10)\n",
    "x = random.rand(10)\n",
    "\n",
    "print(x)"
   ]
  },
  {
   "cell_type": "code",
   "execution_count": null,
   "metadata": {},
   "outputs": [],
   "source": [
    "? random.rand()"
   ]
  },
  {
   "cell_type": "markdown",
   "metadata": {},
   "source": [
    "# Latihan"
   ]
  },
  {
   "cell_type": "markdown",
   "metadata": {},
   "source": [
    "## Isikan bagian None dengan suatu jawaban"
   ]
  },
  {
   "cell_type": "code",
   "execution_count": 39,
   "metadata": {},
   "outputs": [],
   "source": [
    "import numpy as np"
   ]
  },
  {
   "cell_type": "code",
   "execution_count": 12,
   "metadata": {},
   "outputs": [
    {
     "name": "stdout",
     "output_type": "stream",
     "text": [
      "<class 'list'>\n"
     ]
    }
   ],
   "source": [
    "# Variabel tuple dari kasus terkonfirmasi positif dan sembuh\n",
    "kasus = [[145, 100], [120, 111], [100, 80], [300, 242], [100, 233], [333, 368], [289, 228], [129, 125], [248, 137]]\n",
    "print(type(kasus))"
   ]
  },
  {
   "cell_type": "code",
   "execution_count": 13,
   "metadata": {},
   "outputs": [
    {
     "name": "stdout",
     "output_type": "stream",
     "text": [
      "[[145 100]\n",
      " [120 111]\n",
      " [100  80]\n",
      " [300 242]\n",
      " [100 233]\n",
      " [333 368]\n",
      " [289 228]\n",
      " [129 125]\n",
      " [248 137]]\n"
     ]
    }
   ],
   "source": [
    "# ubah list kasus menjadi suatu array, simpan dalam np_kasus\n",
    "np_kasus = np.array(kasus)\n",
    "print(np_kasus)"
   ]
  },
  {
   "cell_type": "code",
   "execution_count": 14,
   "metadata": {},
   "outputs": [
    {
     "name": "stdout",
     "output_type": "stream",
     "text": [
      "[[145, 100], [120, 111], [100, 80], [300, 242], [100, 233], [333, 368], [289, 228], [129, 125], [248, 137]]\n"
     ]
    }
   ],
   "source": [
    "# Berapakah ukuran dimensi array kasus?\n",
    "print(kasus)"
   ]
  },
  {
   "cell_type": "code",
   "execution_count": 15,
   "metadata": {},
   "outputs": [
    {
     "name": "stdout",
     "output_type": "stream",
     "text": [
      "[100 233]\n"
     ]
    }
   ],
   "source": [
    "# tampilkan tuple kasus ke-5\n",
    "print(np_kasus[4])"
   ]
  },
  {
   "cell_type": "code",
   "execution_count": 16,
   "metadata": {},
   "outputs": [
    {
     "name": "stdout",
     "output_type": "stream",
     "text": [
      "[100 111  80 242 233 368 228 125 137]\n"
     ]
    }
   ],
   "source": [
    "# tampilkan semua kasus sembuh: 100, 111, 80 242 233 368 228 125 137\n",
    "print(np_kasus[0:,1])"
   ]
  },
  {
   "cell_type": "code",
   "execution_count": 17,
   "metadata": {},
   "outputs": [
    {
     "data": {
      "text/plain": [
       "array([[145, 100],\n",
       "       [120, 111],\n",
       "       [100,  80],\n",
       "       [300, 242],\n",
       "       [100, 233],\n",
       "       [333, 368],\n",
       "       [289, 228],\n",
       "       [129, 125],\n",
       "       [248, 137],\n",
       "       [190, 233]])"
      ]
     },
     "execution_count": 17,
     "metadata": {},
     "output_type": "execute_result"
    }
   ],
   "source": [
    "# tambahkan kasus terkonfirmasi 190, sembuh 233 pada np_kasus\n",
    "np.append(np_kasus, [[190, 233]], axis=0)"
   ]
  },
  {
   "cell_type": "code",
   "execution_count": 3,
   "metadata": {},
   "outputs": [],
   "source": [
    "def tabung(r, t):\n",
    "    import math\n",
    "    '''\n",
    "    Fungsi untuk menghitung volume dan luas permukaan tabung\n",
    "    '''\n",
    "    l_lingkaran = math.pi*r*r\n",
    "    volume = l_lingkaran*t\n",
    "    l_permukaan = 2*math.pi*r*(r+t)\n",
    "    return(volume, l_permukaan)"
   ]
  },
  {
   "cell_type": "code",
   "execution_count": 4,
   "metadata": {},
   "outputs": [
    {
     "data": {
      "text/plain": [
       "(1539.3804002589986, 747.6990515543707)"
      ]
     },
     "execution_count": 4,
     "metadata": {},
     "output_type": "execute_result"
    }
   ],
   "source": [
    "tabung (7, 10)"
   ]
  },
  {
   "cell_type": "code",
   "execution_count": 5,
   "metadata": {},
   "outputs": [],
   "source": [
    "def manhattan(x1, y1, x2, y2):\n",
    "    '''\n",
    "    Fungsi menghitung jarak manhattan antara (x1, y1) dengan (x2, y2)\n",
    "    '''\n",
    "    abs1 = abs(x1 - x2)\n",
    "    abs2 = abs(y1 - y2)\n",
    "    jarak = abs1 + abs2\n",
    "    return(jarak)"
   ]
  },
  {
   "cell_type": "code",
   "execution_count": 6,
   "metadata": {},
   "outputs": [
    {
     "data": {
      "text/plain": [
       "16"
      ]
     },
     "execution_count": 6,
     "metadata": {},
     "output_type": "execute_result"
    }
   ],
   "source": [
    "manhattan(-2, 18, 6, 10)"
   ]
  },
  {
   "cell_type": "code",
   "execution_count": 7,
   "metadata": {},
   "outputs": [],
   "source": [
    "def jarak(x1, y1, x2, y2):\n",
    "    '''\n",
    "    Fungsi untuk menghitung jarak euclidean titik (x1, y1) dengan (x2, y2)\n",
    "    '''\n",
    "    import math\n",
    "    kurang1 = (x1 - x2)**2\n",
    "    kurang2 = (y1 - y2)**2\n",
    "    jarak = math.sqrt(kurang1 + kurang2)\n",
    "    return(jarak)"
   ]
  },
  {
   "cell_type": "code",
   "execution_count": 8,
   "metadata": {},
   "outputs": [
    {
     "data": {
      "text/plain": [
       "34.0"
      ]
     },
     "execution_count": 8,
     "metadata": {},
     "output_type": "execute_result"
    }
   ],
   "source": [
    "jarak(-10, 9, 20, -7)"
   ]
  },
  {
   "cell_type": "code",
   "execution_count": 35,
   "metadata": {},
   "outputs": [],
   "source": [
    "indonia = [0.05, 0.06, 0.06, 0.07, 0.08]"
   ]
  },
  {
   "cell_type": "code",
   "execution_count": 36,
   "metadata": {},
   "outputs": [
    {
     "ename": "NameError",
     "evalue": "name 'np' is not defined",
     "output_type": "error",
     "traceback": [
      "\u001b[1;31m---------------------------------------------------------------------------\u001b[0m",
      "\u001b[1;31mNameError\u001b[0m                                 Traceback (most recent call last)",
      "\u001b[1;32m<ipython-input-36-a1a35c96a320>\u001b[0m in \u001b[0;36m<module>\u001b[1;34m\u001b[0m\n\u001b[1;32m----> 1\u001b[1;33m \u001b[0mnp\u001b[0m\u001b[1;33m.\u001b[0m\u001b[0marray\u001b[0m\u001b[1;33m(\u001b[0m\u001b[1;33m[\u001b[0m\u001b[1;36m0.05\u001b[0m\u001b[1;33m,\u001b[0m \u001b[1;36m0.06\u001b[0m\u001b[1;33m,\u001b[0m \u001b[1;36m0.06\u001b[0m\u001b[1;33m,\u001b[0m \u001b[1;36m0.07\u001b[0m\u001b[1;33m,\u001b[0m \u001b[1;36m0.08\u001b[0m\u001b[1;33m]\u001b[0m\u001b[1;33m)\u001b[0m\u001b[1;33m\u001b[0m\u001b[1;33m\u001b[0m\u001b[0m\n\u001b[0m",
      "\u001b[1;31mNameError\u001b[0m: name 'np' is not defined"
     ]
    }
   ],
   "source": [
    "np.array([0.05, 0.06, 0.06, 0.07, 0.08])"
   ]
  },
  {
   "cell_type": "code",
   "execution_count": 33,
   "metadata": {},
   "outputs": [
    {
     "ename": "NameError",
     "evalue": "name 'np' is not defined",
     "output_type": "error",
     "traceback": [
      "\u001b[1;31m---------------------------------------------------------------------------\u001b[0m",
      "\u001b[1;31mNameError\u001b[0m                                 Traceback (most recent call last)",
      "\u001b[1;32m<ipython-input-33-da38dcae8b0b>\u001b[0m in \u001b[0;36m<module>\u001b[1;34m\u001b[0m\n\u001b[1;32m----> 1\u001b[1;33m \u001b[0mnp\u001b[0m\u001b[1;33m.\u001b[0m\u001b[0marray\u001b[0m\u001b[1;33m(\u001b[0m\u001b[0mindonia\u001b[0m\u001b[1;33m)\u001b[0m\u001b[1;33m\u001b[0m\u001b[1;33m\u001b[0m\u001b[0m\n\u001b[0m",
      "\u001b[1;31mNameError\u001b[0m: name 'np' is not defined"
     ]
    }
   ],
   "source": [
    "np.array(indonia)"
   ]
  },
  {
   "cell_type": "code",
   "execution_count": 40,
   "metadata": {},
   "outputs": [
    {
     "data": {
      "text/plain": [
       "array([[11, 12],\n",
       "       [14, 15]])"
      ]
     },
     "execution_count": 40,
     "metadata": {},
     "output_type": "execute_result"
    }
   ],
   "source": [
    "arr = np.array([[10, 11, 12], [13, 14, 15], [16, 17, 18], [19, 20, 21]], ndmin=2)\n",
    "arr[0:2, 1:3]"
   ]
  },
  {
   "cell_type": "code",
   "execution_count": 44,
   "metadata": {},
   "outputs": [
    {
     "data": {
      "text/plain": [
       "array([[[1, 2, 3],\n",
       "        [4, 5, 6]]])"
      ]
     },
     "execution_count": 44,
     "metadata": {},
     "output_type": "execute_result"
    }
   ],
   "source": [
    "np.array([[1,2,3], [4,5,6]], ndmin=3)"
   ]
  },
  {
   "cell_type": "code",
   "execution_count": 45,
   "metadata": {},
   "outputs": [],
   "source": [
    "indonia = [0.05, 0.06, 0.07, 0.08]"
   ]
  },
  {
   "cell_type": "code",
   "execution_count": 46,
   "metadata": {},
   "outputs": [
    {
     "data": {
      "text/plain": [
       "array([0.05, 0.06, 0.07, 0.08])"
      ]
     },
     "execution_count": 46,
     "metadata": {},
     "output_type": "execute_result"
    }
   ],
   "source": [
    "np.array (indonia)"
   ]
  },
  {
   "cell_type": "code",
   "execution_count": 47,
   "metadata": {},
   "outputs": [
    {
     "data": {
      "text/plain": [
       "array([0.05, 0.06, 0.07, 0.08])"
      ]
     },
     "execution_count": 47,
     "metadata": {},
     "output_type": "execute_result"
    }
   ],
   "source": [
    "np.array ([0.05, 0.06, 0.07, 0.08])\n"
   ]
  },
  {
   "cell_type": "markdown",
   "metadata": {},
   "source": [
    "indonia = [0.05, 0.06, 0.07, 0.08]"
   ]
  },
  {
   "cell_type": "code",
   "execution_count": null,
   "metadata": {},
   "outputs": [],
   "source": [
    "arr"
   ]
  },
  {
   "cell_type": "code",
   "execution_count": 54,
   "metadata": {},
   "outputs": [
    {
     "data": {
      "text/plain": [
       "array([[11, 12],\n",
       "       [14, 15]])"
      ]
     },
     "execution_count": 54,
     "metadata": {},
     "output_type": "execute_result"
    }
   ],
   "source": [
    "arr = np.array([[10, 11, 12], [13, 14, 15], [16, 17, 18], [19, 20, 21]], ndmin=2)\n",
    "arr[0:2, 1:4]"
   ]
  }
 ],
 "metadata": {
  "interpreter": {
   "hash": "770021e68aae5e5bc49f7a3b6edb919a4a251fef8e7696fd47196c25263b13c4"
  },
  "kernelspec": {
   "display_name": "Python 3.8.5 64-bit ('base': conda)",
   "name": "python3"
  },
  "language_info": {
   "codemirror_mode": {
    "name": "ipython",
    "version": 3
   },
   "file_extension": ".py",
   "mimetype": "text/x-python",
   "name": "python",
   "nbconvert_exporter": "python",
   "pygments_lexer": "ipython3",
   "version": "3.8.5"
  }
 },
 "nbformat": 4,
 "nbformat_minor": 2
}
