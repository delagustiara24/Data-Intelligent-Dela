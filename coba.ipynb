{
 "cells": [
  {
   "cell_type": "markdown",
   "metadata": {},
   "source": [
    "## Clustering K-Means"
   ]
  },
  {
   "cell_type": "code",
   "execution_count": 1,
   "metadata": {},
   "outputs": [],
   "source": [
    "import pandas as pd\n",
    "import numpy as np\n",
    "import matplotlib.pyplot as plt\n",
    "import seaborn as sns"
   ]
  },
  {
   "cell_type": "code",
   "execution_count": 2,
   "metadata": {},
   "outputs": [],
   "source": [
    "# Membaca Data \n",
    "pariwisata = pd.read_excel(\"pariwisata.xlsx\")"
   ]
  },
  {
   "cell_type": "code",
   "execution_count": 3,
   "metadata": {},
   "outputs": [
    {
     "data": {
      "text/html": [
       "<div>\n",
       "<style scoped>\n",
       "    .dataframe tbody tr th:only-of-type {\n",
       "        vertical-align: middle;\n",
       "    }\n",
       "\n",
       "    .dataframe tbody tr th {\n",
       "        vertical-align: top;\n",
       "    }\n",
       "\n",
       "    .dataframe thead th {\n",
       "        text-align: right;\n",
       "    }\n",
       "</style>\n",
       "<table border=\"1\" class=\"dataframe\">\n",
       "  <thead>\n",
       "    <tr style=\"text-align: right;\">\n",
       "      <th></th>\n",
       "      <th>Provinsi</th>\n",
       "      <th>jum_asing</th>\n",
       "      <th>jum_lokal</th>\n",
       "      <th>jum_nb_asing</th>\n",
       "      <th>jum_nb_lokal</th>\n",
       "      <th>hunian_b</th>\n",
       "      <th>hunian_nb</th>\n",
       "    </tr>\n",
       "  </thead>\n",
       "  <tbody>\n",
       "    <tr>\n",
       "      <th>0</th>\n",
       "      <td>ACEH</td>\n",
       "      <td>9.21</td>\n",
       "      <td>312.73</td>\n",
       "      <td>10803.0</td>\n",
       "      <td>1030136.0</td>\n",
       "      <td>43.18</td>\n",
       "      <td>28.48</td>\n",
       "    </tr>\n",
       "    <tr>\n",
       "      <th>1</th>\n",
       "      <td>SUMATERA UTARA</td>\n",
       "      <td>201.88</td>\n",
       "      <td>2736.09</td>\n",
       "      <td>21104.0</td>\n",
       "      <td>4850322.0</td>\n",
       "      <td>48.86</td>\n",
       "      <td>36.54</td>\n",
       "    </tr>\n",
       "    <tr>\n",
       "      <th>2</th>\n",
       "      <td>SUMATERA BARAT</td>\n",
       "      <td>51.83</td>\n",
       "      <td>1470.99</td>\n",
       "      <td>3786.0</td>\n",
       "      <td>1167212.0</td>\n",
       "      <td>56.00</td>\n",
       "      <td>24.75</td>\n",
       "    </tr>\n",
       "    <tr>\n",
       "      <th>3</th>\n",
       "      <td>RIAU</td>\n",
       "      <td>35.33</td>\n",
       "      <td>4646.98</td>\n",
       "      <td>65845.0</td>\n",
       "      <td>1413345.0</td>\n",
       "      <td>48.69</td>\n",
       "      <td>30.71</td>\n",
       "    </tr>\n",
       "    <tr>\n",
       "      <th>4</th>\n",
       "      <td>JAMBI</td>\n",
       "      <td>6.02</td>\n",
       "      <td>502.86</td>\n",
       "      <td>2391.0</td>\n",
       "      <td>429609.7</td>\n",
       "      <td>45.49</td>\n",
       "      <td>23.13</td>\n",
       "    </tr>\n",
       "  </tbody>\n",
       "</table>\n",
       "</div>"
      ],
      "text/plain": [
       "         Provinsi  jum_asing  jum_lokal  jum_nb_asing  jum_nb_lokal  hunian_b  \\\n",
       "0            ACEH       9.21     312.73       10803.0     1030136.0     43.18   \n",
       "1  SUMATERA UTARA     201.88    2736.09       21104.0     4850322.0     48.86   \n",
       "2  SUMATERA BARAT      51.83    1470.99        3786.0     1167212.0     56.00   \n",
       "3            RIAU      35.33    4646.98       65845.0     1413345.0     48.69   \n",
       "4           JAMBI       6.02     502.86        2391.0      429609.7     45.49   \n",
       "\n",
       "   hunian_nb  \n",
       "0      28.48  \n",
       "1      36.54  \n",
       "2      24.75  \n",
       "3      30.71  \n",
       "4      23.13  "
      ]
     },
     "execution_count": 3,
     "metadata": {},
     "output_type": "execute_result"
    }
   ],
   "source": [
    "# Menampilkan sampel data \n",
    "pariwisata.head()"
   ]
  },
  {
   "cell_type": "code",
   "execution_count": 4,
   "metadata": {},
   "outputs": [
    {
     "data": {
      "text/html": [
       "<div>\n",
       "<style scoped>\n",
       "    .dataframe tbody tr th:only-of-type {\n",
       "        vertical-align: middle;\n",
       "    }\n",
       "\n",
       "    .dataframe tbody tr th {\n",
       "        vertical-align: top;\n",
       "    }\n",
       "\n",
       "    .dataframe thead th {\n",
       "        text-align: right;\n",
       "    }\n",
       "</style>\n",
       "<table border=\"1\" class=\"dataframe\">\n",
       "  <thead>\n",
       "    <tr style=\"text-align: right;\">\n",
       "      <th></th>\n",
       "      <th>Provinsi</th>\n",
       "      <th>jum_asing</th>\n",
       "      <th>jum_lokal</th>\n",
       "      <th>jum_nb_asing</th>\n",
       "      <th>jum_nb_lokal</th>\n",
       "      <th>hunian_b</th>\n",
       "      <th>hunian_nb</th>\n",
       "    </tr>\n",
       "  </thead>\n",
       "  <tbody>\n",
       "    <tr>\n",
       "      <th>30</th>\n",
       "      <td>MALUKU</td>\n",
       "      <td>7.57</td>\n",
       "      <td>130.06</td>\n",
       "      <td>4173.0</td>\n",
       "      <td>416005.9</td>\n",
       "      <td>38.10</td>\n",
       "      <td>24.46</td>\n",
       "    </tr>\n",
       "    <tr>\n",
       "      <th>31</th>\n",
       "      <td>MALUKU UTARA</td>\n",
       "      <td>0.66</td>\n",
       "      <td>93.65</td>\n",
       "      <td>516.0</td>\n",
       "      <td>308029.4</td>\n",
       "      <td>50.44</td>\n",
       "      <td>23.37</td>\n",
       "    </tr>\n",
       "    <tr>\n",
       "      <th>32</th>\n",
       "      <td>PAPUA BARAT</td>\n",
       "      <td>19.25</td>\n",
       "      <td>243.80</td>\n",
       "      <td>1772.0</td>\n",
       "      <td>237191.0</td>\n",
       "      <td>51.16</td>\n",
       "      <td>29.42</td>\n",
       "    </tr>\n",
       "    <tr>\n",
       "      <th>33</th>\n",
       "      <td>PAPUA</td>\n",
       "      <td>12.58</td>\n",
       "      <td>449.56</td>\n",
       "      <td>2557.0</td>\n",
       "      <td>448181.0</td>\n",
       "      <td>50.34</td>\n",
       "      <td>32.58</td>\n",
       "    </tr>\n",
       "    <tr>\n",
       "      <th>34</th>\n",
       "      <td>INDONESIA</td>\n",
       "      <td>11307.43</td>\n",
       "      <td>74066.92</td>\n",
       "      <td>3283275.0</td>\n",
       "      <td>57370362.0</td>\n",
       "      <td>54.81</td>\n",
       "      <td>31.48</td>\n",
       "    </tr>\n",
       "  </tbody>\n",
       "</table>\n",
       "</div>"
      ],
      "text/plain": [
       "        Provinsi  jum_asing  jum_lokal  jum_nb_asing  jum_nb_lokal  hunian_b  \\\n",
       "30        MALUKU       7.57     130.06        4173.0      416005.9     38.10   \n",
       "31  MALUKU UTARA       0.66      93.65         516.0      308029.4     50.44   \n",
       "32   PAPUA BARAT      19.25     243.80        1772.0      237191.0     51.16   \n",
       "33         PAPUA      12.58     449.56        2557.0      448181.0     50.34   \n",
       "34     INDONESIA   11307.43   74066.92     3283275.0    57370362.0     54.81   \n",
       "\n",
       "    hunian_nb  \n",
       "30      24.46  \n",
       "31      23.37  \n",
       "32      29.42  \n",
       "33      32.58  \n",
       "34      31.48  "
      ]
     },
     "execution_count": 4,
     "metadata": {},
     "output_type": "execute_result"
    }
   ],
   "source": [
    "pariwisata.tail()"
   ]
  },
  {
   "cell_type": "code",
   "execution_count": 5,
   "metadata": {},
   "outputs": [],
   "source": [
    "# Menghapus baris 34 \"INDONESIA\"\n",
    "pariwisata=pariwisata.drop(34, axis=0)"
   ]
  },
  {
   "cell_type": "code",
   "execution_count": 6,
   "metadata": {},
   "outputs": [
    {
     "data": {
      "text/html": [
       "<div>\n",
       "<style scoped>\n",
       "    .dataframe tbody tr th:only-of-type {\n",
       "        vertical-align: middle;\n",
       "    }\n",
       "\n",
       "    .dataframe tbody tr th {\n",
       "        vertical-align: top;\n",
       "    }\n",
       "\n",
       "    .dataframe thead th {\n",
       "        text-align: right;\n",
       "    }\n",
       "</style>\n",
       "<table border=\"1\" class=\"dataframe\">\n",
       "  <thead>\n",
       "    <tr style=\"text-align: right;\">\n",
       "      <th></th>\n",
       "      <th>Provinsi</th>\n",
       "      <th>jum_asing</th>\n",
       "      <th>jum_lokal</th>\n",
       "      <th>jum_nb_asing</th>\n",
       "      <th>jum_nb_lokal</th>\n",
       "      <th>hunian_b</th>\n",
       "      <th>hunian_nb</th>\n",
       "    </tr>\n",
       "  </thead>\n",
       "  <tbody>\n",
       "    <tr>\n",
       "      <th>29</th>\n",
       "      <td>SULAWESI BARAT</td>\n",
       "      <td>0.38</td>\n",
       "      <td>93.22</td>\n",
       "      <td>16.0</td>\n",
       "      <td>198274.8</td>\n",
       "      <td>49.91</td>\n",
       "      <td>18.92</td>\n",
       "    </tr>\n",
       "    <tr>\n",
       "      <th>30</th>\n",
       "      <td>MALUKU</td>\n",
       "      <td>7.57</td>\n",
       "      <td>130.06</td>\n",
       "      <td>4173.0</td>\n",
       "      <td>416005.9</td>\n",
       "      <td>38.10</td>\n",
       "      <td>24.46</td>\n",
       "    </tr>\n",
       "    <tr>\n",
       "      <th>31</th>\n",
       "      <td>MALUKU UTARA</td>\n",
       "      <td>0.66</td>\n",
       "      <td>93.65</td>\n",
       "      <td>516.0</td>\n",
       "      <td>308029.4</td>\n",
       "      <td>50.44</td>\n",
       "      <td>23.37</td>\n",
       "    </tr>\n",
       "    <tr>\n",
       "      <th>32</th>\n",
       "      <td>PAPUA BARAT</td>\n",
       "      <td>19.25</td>\n",
       "      <td>243.80</td>\n",
       "      <td>1772.0</td>\n",
       "      <td>237191.0</td>\n",
       "      <td>51.16</td>\n",
       "      <td>29.42</td>\n",
       "    </tr>\n",
       "    <tr>\n",
       "      <th>33</th>\n",
       "      <td>PAPUA</td>\n",
       "      <td>12.58</td>\n",
       "      <td>449.56</td>\n",
       "      <td>2557.0</td>\n",
       "      <td>448181.0</td>\n",
       "      <td>50.34</td>\n",
       "      <td>32.58</td>\n",
       "    </tr>\n",
       "  </tbody>\n",
       "</table>\n",
       "</div>"
      ],
      "text/plain": [
       "          Provinsi  jum_asing  jum_lokal  jum_nb_asing  jum_nb_lokal  \\\n",
       "29  SULAWESI BARAT       0.38      93.22          16.0      198274.8   \n",
       "30          MALUKU       7.57     130.06        4173.0      416005.9   \n",
       "31    MALUKU UTARA       0.66      93.65         516.0      308029.4   \n",
       "32     PAPUA BARAT      19.25     243.80        1772.0      237191.0   \n",
       "33           PAPUA      12.58     449.56        2557.0      448181.0   \n",
       "\n",
       "    hunian_b  hunian_nb  \n",
       "29     49.91      18.92  \n",
       "30     38.10      24.46  \n",
       "31     50.44      23.37  \n",
       "32     51.16      29.42  \n",
       "33     50.34      32.58  "
      ]
     },
     "execution_count": 6,
     "metadata": {},
     "output_type": "execute_result"
    }
   ],
   "source": [
    "pariwisata.tail()"
   ]
  },
  {
   "cell_type": "code",
   "execution_count": 7,
   "metadata": {},
   "outputs": [
    {
     "name": "stdout",
     "output_type": "stream",
     "text": [
      "<class 'pandas.core.frame.DataFrame'>\n",
      "Int64Index: 34 entries, 0 to 33\n",
      "Data columns (total 7 columns):\n",
      " #   Column        Non-Null Count  Dtype  \n",
      "---  ------        --------------  -----  \n",
      " 0   Provinsi      34 non-null     object \n",
      " 1   jum_asing     34 non-null     float64\n",
      " 2   jum_lokal     34 non-null     float64\n",
      " 3   jum_nb_asing  34 non-null     float64\n",
      " 4   jum_nb_lokal  34 non-null     float64\n",
      " 5   hunian_b      34 non-null     float64\n",
      " 6   hunian_nb     34 non-null     float64\n",
      "dtypes: float64(6), object(1)\n",
      "memory usage: 2.1+ KB\n"
     ]
    }
   ],
   "source": [
    "# Informasi data frame \n",
    "pariwisata.info()"
   ]
  },
  {
   "cell_type": "code",
   "execution_count": 8,
   "metadata": {},
   "outputs": [
    {
     "data": {
      "text/plain": [
       "Provinsi        False\n",
       "jum_asing       False\n",
       "jum_lokal       False\n",
       "jum_nb_asing    False\n",
       "jum_nb_lokal    False\n",
       "hunian_b        False\n",
       "hunian_nb       False\n",
       "dtype: bool"
      ]
     },
     "execution_count": 8,
     "metadata": {},
     "output_type": "execute_result"
    }
   ],
   "source": [
    "pariwisata.isnull().any()"
   ]
  },
  {
   "cell_type": "code",
   "execution_count": 9,
   "metadata": {},
   "outputs": [
    {
     "data": {
      "text/plain": [
       "Provinsi        0\n",
       "jum_asing       0\n",
       "jum_lokal       0\n",
       "jum_nb_asing    0\n",
       "jum_nb_lokal    0\n",
       "hunian_b        0\n",
       "hunian_nb       0\n",
       "dtype: int64"
      ]
     },
     "execution_count": 9,
     "metadata": {},
     "output_type": "execute_result"
    }
   ],
   "source": [
    "pariwisata.isnull().sum()"
   ]
  },
  {
   "cell_type": "markdown",
   "metadata": {},
   "source": [
    "## VISUALISASI"
   ]
  },
  {
   "cell_type": "code",
   "execution_count": 10,
   "metadata": {},
   "outputs": [
    {
     "data": {
      "image/png": "[encoded data removed]",
      "text/plain": [
       "<Figure size 720x576 with 1 Axes>"
      ]
     },
     "metadata": {
      "needs_background": "light"
     },
     "output_type": "display_data"
    }
   ],
   "source": [
    "fig, ax = plt.subplots()\n",
    "fig.set_size_inches(10, 8)\n",
    "\n",
    "a = sns.barplot(x=\"hunian_b\",y=\"Provinsi\",data=pariwisata, color=\"green\")\n",
    "\n",
    "a.axes.set_title(\"Tingkat Hunian Hotel Berbintang (%)\", fontsize=16)\n",
    "a.set_xlabel (\"Tingkat Hunian (%)\", fontsize = 12)\n",
    "a.set_ylabel (\"Provinsi\", fontsize = 12)\n",
    "a.tick_params(labelsize = 10)\n",
    "\n",
    "plt.show()\n",
    "\n",
    "#save figure\n",
    "fig.savefig(\"tingkat hunian hotel\")"
   ]
  },
  {
   "cell_type": "code",
   "execution_count": 11,
   "metadata": {},
   "outputs": [
    {
     "data": {
      "text/plain": [
       "<seaborn.axisgrid.FacetGrid at 0x1817a86d970>"
      ]
     },
     "execution_count": 11,
     "metadata": {},
     "output_type": "execute_result"
    },
    {
     "data": {
      "image/png": "[encoded data removed]",
      "text/plain": [
       "<Figure size 360x360 with 1 Axes>"
      ]
     },
     "metadata": {
      "needs_background": "light"
     },
     "output_type": "display_data"
    }
   ],
   "source": [
    "sns.displot(pariwisata.hunian_nb, kde=True)"
   ]
  },
  {
   "cell_type": "markdown",
   "metadata": {},
   "source": [
    "# Clustering"
   ]
  },
  {
   "cell_type": "code",
   "execution_count": 12,
   "metadata": {},
   "outputs": [
    {
     "data": {
      "text/plain": [
       "(34, 7)"
      ]
     },
     "execution_count": 12,
     "metadata": {},
     "output_type": "execute_result"
    }
   ],
   "source": [
    "pariwisata.shape"
   ]
  },
  {
   "cell_type": "code",
   "execution_count": 13,
   "metadata": {},
   "outputs": [
    {
     "data": {
      "text/html": [
       "<div>\n",
       "<style scoped>\n",
       "    .dataframe tbody tr th:only-of-type {\n",
       "        vertical-align: middle;\n",
       "    }\n",
       "\n",
       "    .dataframe tbody tr th {\n",
       "        vertical-align: top;\n",
       "    }\n",
       "\n",
       "    .dataframe thead th {\n",
       "        text-align: right;\n",
       "    }\n",
       "</style>\n",
       "<table border=\"1\" class=\"dataframe\">\n",
       "  <thead>\n",
       "    <tr style=\"text-align: right;\">\n",
       "      <th></th>\n",
       "      <th>jum_asing</th>\n",
       "      <th>jum_lokal</th>\n",
       "      <th>jum_nb_asing</th>\n",
       "      <th>jum_nb_lokal</th>\n",
       "      <th>hunian_b</th>\n",
       "      <th>hunian_nb</th>\n",
       "    </tr>\n",
       "  </thead>\n",
       "  <tbody>\n",
       "    <tr>\n",
       "      <th>0</th>\n",
       "      <td>9.21</td>\n",
       "      <td>312.73</td>\n",
       "      <td>10803.0</td>\n",
       "      <td>1030136.0</td>\n",
       "      <td>43.18</td>\n",
       "      <td>28.48</td>\n",
       "    </tr>\n",
       "    <tr>\n",
       "      <th>1</th>\n",
       "      <td>201.88</td>\n",
       "      <td>2736.09</td>\n",
       "      <td>21104.0</td>\n",
       "      <td>4850322.0</td>\n",
       "      <td>48.86</td>\n",
       "      <td>36.54</td>\n",
       "    </tr>\n",
       "    <tr>\n",
       "      <th>2</th>\n",
       "      <td>51.83</td>\n",
       "      <td>1470.99</td>\n",
       "      <td>3786.0</td>\n",
       "      <td>1167212.0</td>\n",
       "      <td>56.00</td>\n",
       "      <td>24.75</td>\n",
       "    </tr>\n",
       "    <tr>\n",
       "      <th>3</th>\n",
       "      <td>35.33</td>\n",
       "      <td>4646.98</td>\n",
       "      <td>65845.0</td>\n",
       "      <td>1413345.0</td>\n",
       "      <td>48.69</td>\n",
       "      <td>30.71</td>\n",
       "    </tr>\n",
       "    <tr>\n",
       "      <th>4</th>\n",
       "      <td>6.02</td>\n",
       "      <td>502.86</td>\n",
       "      <td>2391.0</td>\n",
       "      <td>429609.7</td>\n",
       "      <td>45.49</td>\n",
       "      <td>23.13</td>\n",
       "    </tr>\n",
       "  </tbody>\n",
       "</table>\n",
       "</div>"
      ],
      "text/plain": [
       "   jum_asing  jum_lokal  jum_nb_asing  jum_nb_lokal  hunian_b  hunian_nb\n",
       "0       9.21     312.73       10803.0     1030136.0     43.18      28.48\n",
       "1     201.88    2736.09       21104.0     4850322.0     48.86      36.54\n",
       "2      51.83    1470.99        3786.0     1167212.0     56.00      24.75\n",
       "3      35.33    4646.98       65845.0     1413345.0     48.69      30.71\n",
       "4       6.02     502.86        2391.0      429609.7     45.49      23.13"
      ]
     },
     "execution_count": 13,
     "metadata": {},
     "output_type": "execute_result"
    }
   ],
   "source": [
    "# Menentukan variabel yang akan di clustering\n",
    "x = pariwisata.iloc[:,1:7]\n",
    "x.head()"
   ]
  },
  {
   "cell_type": "code",
   "execution_count": 14,
   "metadata": {},
   "outputs": [
    {
     "data": {
      "text/plain": [
       "array([[9.210000e+00, 3.127300e+02, 1.080300e+04, 1.030136e+06,\n",
       "        4.318000e+01, 2.848000e+01],\n",
       "       [2.018800e+02, 2.736090e+03, 2.110400e+04, 4.850322e+06,\n",
       "        4.886000e+01, 3.654000e+01],\n",
       "       [5.183000e+01, 1.470990e+03, 3.786000e+03, 1.167212e+06,\n",
       "        5.600000e+01, 2.475000e+01],\n",
       "       [3.533000e+01, 4.646980e+03, 6.584500e+04, 1.413345e+06,\n",
       "        4.869000e+01, 3.071000e+01],\n",
       "       [6.020000e+00, 5.028600e+02, 2.391000e+03, 4.296097e+05,\n",
       "        4.549000e+01, 2.313000e+01],\n",
       "       [1.405000e+01, 2.013760e+03, 1.157000e+03, 1.159986e+06,\n",
       "        5.399000e+01, 3.251000e+01],\n",
       "       [5.600000e-01, 1.718200e+02, 5.590000e+02, 4.461405e+05,\n",
       "        6.406000e+01, 2.904000e+01],\n",
       "       [3.010000e+00, 7.855800e+02, 1.071000e+04, 1.207142e+06,\n",
       "        6.031000e+01, 3.487000e+01],\n",
       "       [9.680000e+00, 4.671600e+02, 1.750000e+02, 2.128804e+05,\n",
       "        3.607000e+01, 2.078000e+01],\n",
       "       [1.595590e+03, 1.504260e+03, 9.761100e+04, 1.056443e+06,\n",
       "        5.231000e+01, 3.573000e+01],\n",
       "       [1.529760e+03, 1.026267e+04, 5.969000e+03, 4.310569e+06,\n",
       "        5.971000e+01, 5.695000e+01],\n",
       "       [5.027200e+02, 1.285051e+04, 3.713400e+04, 7.483742e+06,\n",
       "        5.447000e+01, 2.980000e+01],\n",
       "       [1.221500e+02, 7.247540e+03, 7.861000e+03, 5.539721e+06,\n",
       "        4.746000e+01, 2.767000e+01],\n",
       "       [2.115000e+02, 5.025090e+03, 5.783700e+04, 3.711716e+06,\n",
       "        5.891000e+01, 3.221000e+01],\n",
       "       [2.679700e+02, 7.526000e+03, 5.920500e+04, 9.094596e+06,\n",
       "        5.720000e+01, 3.095000e+01],\n",
       "       [4.642100e+02, 2.821560e+03, 1.429000e+03, 9.439003e+05,\n",
       "        5.157000e+01, 2.657000e+01],\n",
       "       [5.687800e+03, 3.186160e+03, 2.462937e+06, 1.858640e+06,\n",
       "        6.113000e+01, 3.476000e+01],\n",
       "       [1.958000e+02, 5.573700e+02, 2.377460e+05, 9.329965e+05,\n",
       "        4.223000e+01, 2.739000e+01],\n",
       "       [5.859000e+01, 4.496700e+02, 1.128060e+05, 4.564606e+05,\n",
       "        5.217000e+01, 2.352000e+01],\n",
       "       [3.300000e+01, 9.772200e+02, 7.301000e+03, 1.207524e+06,\n",
       "        4.774000e+01, 2.982000e+01],\n",
       "       [6.680000e+00, 3.962800e+02, 1.454000e+03, 9.977132e+05,\n",
       "        5.671000e+01, 2.498000e+01],\n",
       "       [9.410000e+00, 1.073820e+03, 5.050000e+02, 9.429698e+05,\n",
       "        5.072000e+01, 3.095000e+01],\n",
       "       [3.066000e+01, 1.910000e+03, 3.151000e+03, 1.008884e+06,\n",
       "        5.770000e+01, 3.101000e+01],\n",
       "       [2.570000e+00, 7.514000e+01, 2.424000e+03, 3.623283e+05,\n",
       "        4.610000e+01, 2.730000e+01],\n",
       "       [1.647100e+02, 8.293700e+02, 4.220800e+04, 6.322826e+05,\n",
       "        6.440000e+01, 3.970000e+01],\n",
       "       [2.000000e+00, 1.540900e+02, 5.952000e+03, 6.859893e+05,\n",
       "        5.013000e+01, 2.375000e+01],\n",
       "       [4.691000e+01, 2.681400e+03, 1.122800e+04, 1.819646e+06,\n",
       "        5.103000e+01, 3.065000e+01],\n",
       "       [1.400000e+00, 2.922100e+02, 1.011000e+03, 6.374603e+05,\n",
       "        4.134000e+01, 2.401000e+01],\n",
       "       [1.990000e+00, 1.283000e+02, 1.945000e+03, 1.623239e+05,\n",
       "        4.974000e+01, 2.213000e+01],\n",
       "       [3.800000e-01, 9.322000e+01, 1.600000e+01, 1.982748e+05,\n",
       "        4.991000e+01, 1.892000e+01],\n",
       "       [7.570000e+00, 1.300600e+02, 4.173000e+03, 4.160059e+05,\n",
       "        3.810000e+01, 2.446000e+01],\n",
       "       [6.600000e-01, 9.365000e+01, 5.160000e+02, 3.080294e+05,\n",
       "        5.044000e+01, 2.337000e+01],\n",
       "       [1.925000e+01, 2.438000e+02, 1.772000e+03, 2.371910e+05,\n",
       "        5.116000e+01, 2.942000e+01],\n",
       "       [1.258000e+01, 4.495600e+02, 2.557000e+03, 4.481810e+05,\n",
       "        5.034000e+01, 3.258000e+01]])"
      ]
     },
     "execution_count": 14,
     "metadata": {},
     "output_type": "execute_result"
    }
   ],
   "source": [
    "# Mengubah data menjadi array \n",
    "x_array=np.array(x)\n",
    "x_array"
   ]
  },
  {
   "cell_type": "code",
   "execution_count": 15,
   "metadata": {},
   "outputs": [],
   "source": [
    "from sklearn.cluster import KMeans\n",
    "from sklearn.preprocessing import MinMaxScaler"
   ]
  },
  {
   "cell_type": "code",
   "execution_count": 16,
   "metadata": {},
   "outputs": [],
   "source": [
    "# Menstandarkan ukuran (scaling)\n",
    "scaler = MinMaxScaler() \n",
    "x_scaled = scaler.fit_transform(x_array)"
   ]
  },
  {
   "cell_type": "markdown",
   "metadata": {},
   "source": [
    "## Jumlah Cluster : Elbow Method (wws)"
   ]
  },
  {
   "cell_type": "code",
   "execution_count": 18,
   "metadata": {},
   "outputs": [],
   "source": [
    "# function returns WSS score for k values from 1 to kmax\n",
    "def calculate_WSS(points, kmax):\n",
    "  sse = []\n",
    "  for k in range(1, kmax+1):\n",
    "    kmeans = KMeans(n_clusters = k).fit(points)\n",
    "    centroids = kmeans.cluster_centers_\n",
    "    pred_clusters = kmeans.predict(points)\n",
    "    curr_sse = 0\n",
    "    \n",
    "    # calculate square of Euclidean distance of each point from its cluster center and add to current WSS\n",
    "    for i in range(len(points)):\n",
    "      curr_center = centroids[pred_clusters[i]]\n",
    "      curr_sse += (points[i, 0] - curr_center[0]) ** 2 + (points[i, 1] - curr_center[1]) ** 2\n",
    "      \n",
    "    sse.append(curr_sse)\n",
    "  return sse\n"
   ]
  },
  {
   "cell_type": "code",
   "execution_count": 19,
   "metadata": {},
   "outputs": [
    {
     "data": {
      "text/plain": [
       "[2.9880854102444747,\n",
       " 1.5313390318196365,\n",
       " 0.7079544303628379,\n",
       " 0.4286123405740351,\n",
       " 0.4048822371786375,\n",
       " 0.39308848060368856,\n",
       " 0.27172885166434696,\n",
       " 0.316280560180497,\n",
       " 0.31622556841088756,\n",
       " 0.23846800386699432,\n",
       " 0.16607027241042543,\n",
       " 0.2387297463909203,\n",
       " 0.1071832183937034,\n",
       " 0.051510145993795914,\n",
       " 0.038069263260267]"
      ]
     },
     "execution_count": 19,
     "metadata": {},
     "output_type": "execute_result"
    }
   ],
   "source": [
    "wss = calculate_WSS(x_scaled, 15)\n",
    "wss"
   ]
  },
  {
   "cell_type": "code",
   "execution_count": 20,
   "metadata": {},
   "outputs": [
    {
     "data": {
      "image/png": "[encoded data removed]",
      "text/plain": [
       "<Figure size 504x504 with 1 Axes>"
      ]
     },
     "metadata": {
      "needs_background": "light"
     },
     "output_type": "display_data"
    }
   ],
   "source": [
    "xx = np.arange(1, 16, 1)\n",
    "plt.figure(figsize=[7,7])\n",
    "plt.plot(xx, wss, \"b-o\")\n",
    "plt.show()"
   ]
  },
  {
   "cell_type": "markdown",
   "metadata": {},
   "source": [
    "## Jumlah Cluster : SilHouette "
   ]
  },
  {
   "cell_type": "code",
   "execution_count": 28,
   "metadata": {},
   "outputs": [],
   "source": [
    "\n",
    "from sklearn.cluster import KMeans\n",
    "from sklearn.metrics import silhouette_samples, silhouette_score\n",
    "\n",
    "import matplotlib.pyplot as plt\n",
    "import matplotlib.cm as cm\n",
    "import numpy as np\n",
    "\n",
    "range_n_clusters = [2, 3, 4, 5, 6]\n",
    "\n",
    "def silh(X):\n",
    "    for n_clusters in range_n_clusters:\n",
    "        # Create a subplot with 1 row and 2 columns\n",
    "        fig, (ax1, ax2) = plt.subplots(1, 2)\n",
    "        fig.set_size_inches(18, 7)\n",
    "\n",
    "        # The 1st subplot is the silhouette plot\n",
    "        # The silhouette coefficient can range from -1, 1 but in this example all\n",
    "        # lie within [-0.1, 1]\n",
    "        ax1.set_xlim([-0.1, 1])\n",
    "        # The (n_clusters+1)*10 is for inserting blank space between silhouette\n",
    "        # plots of individual clusters, to demarcate them clearly.\n",
    "        ax1.set_ylim([0, len(X) + (n_clusters + 1) * 10])\n",
    "\n",
    "        # Initialize the clusterer with n_clusters value and a random generator\n",
    "        # seed of 10 for reproducibility.\n",
    "        clusterer = KMeans(n_clusters=n_clusters, random_state=10)\n",
    "        cluster_labels = clusterer.fit_predict(X)\n",
    "\n",
    "        # The silhouette_score gives the average value for all the samples.\n",
    "        # This gives a perspective into the density and separation of the formed\n",
    "        # clusters\n",
    "        silhouette_avg = silhouette_score(X, cluster_labels)\n",
    "        print(\n",
    "            \"For n_clusters =\",\n",
    "            n_clusters,\n",
    "            \"The average silhouette_score is :\",\n",
    "            silhouette_avg,\n",
    "        )\n",
    "\n",
    "        # Compute the silhouette scores for each sample\n",
    "        sample_silhouette_values = silhouette_samples(X, cluster_labels)\n",
    "\n",
    "        y_lower = 10\n",
    "        for i in range(n_clusters):\n",
    "            # Aggregate the silhouette scores for samples belonging to\n",
    "            # cluster i, and sort them\n",
    "            ith_cluster_silhouette_values = sample_silhouette_values[cluster_labels == i]\n",
    "\n",
    "            ith_cluster_silhouette_values.sort()\n",
    "\n",
    "            size_cluster_i = ith_cluster_silhouette_values.shape[0]\n",
    "            y_upper = y_lower + size_cluster_i\n",
    "\n",
    "            color = cm.nipy_spectral(float(i) / n_clusters)\n",
    "            ax1.fill_betweenx(\n",
    "                np.arange(y_lower, y_upper),\n",
    "                0,\n",
    "                ith_cluster_silhouette_values,\n",
    "                facecolor=color,\n",
    "                edgecolor=color,\n",
    "                alpha=0.7,\n",
    "            )\n",
    "\n",
    "            # Label the silhouette plots with their cluster numbers at the middle\n",
    "            ax1.text(-0.05, y_lower + 0.5 * size_cluster_i, str(i))\n",
    "\n",
    "            # Compute the new y_lower for next plot\n",
    "            y_lower = y_upper + 10  # 10 for the 0 samples\n",
    "\n",
    "        ax1.set_title(\"The silhouette plot for the various clusters.\")\n",
    "        ax1.set_xlabel(\"The silhouette coefficient values\")\n",
    "        ax1.set_ylabel(\"Cluster label\")\n",
    "\n",
    "        # The vertical line for average silhouette score of all the values\n",
    "        ax1.axvline(x=silhouette_avg, color=\"red\", linestyle=\"--\")\n",
    "\n",
    "        ax1.set_yticks([])  # Clear the yaxis labels / ticks\n",
    "        ax1.set_xticks([-0.1, 0, 0.2, 0.4, 0.6, 0.8, 1])\n",
    "\n",
    "        # 2nd Plot showing the actual clusters formed\n",
    "        colors = cm.nipy_spectral(cluster_labels.astype(float) / n_clusters)\n",
    "        ax2.scatter(\n",
    "            X[:, 0], X[:, 1], marker=\"o\", s=85, lw=0, alpha=0.7, c=colors, edgecolor=\"k\"\n",
    "        )\n",
    "\n",
    "        # Labeling the clusters\n",
    "        centers = clusterer.cluster_centers_\n",
    "        # Draw white circles at cluster centers\n",
    "        ax2.scatter(\n",
    "            centers[:, 0],\n",
    "            centers[:, 1],\n",
    "            marker=\"o\",\n",
    "            c=\"white\",\n",
    "            alpha=1,\n",
    "            s=200,\n",
    "            edgecolor=\"k\",\n",
    "        )\n",
    "\n",
    "        for i, c in enumerate(centers):\n",
    "            ax2.scatter(c[0], c[1], marker=\"$%d$\" % i, alpha=1, s=50, edgecolor=\"k\")\n",
    "\n",
    "        ax2.set_title(\"The visualization of the clustered data.\")\n",
    "        ax2.set_xlabel(\"Feature space for the 1st feature\")\n",
    "        ax2.set_ylabel(\"Feature space for the 2nd feature\")\n",
    "\n",
    "        plt.suptitle(\n",
    "            \"Silhouette analysis for KMeans clustering on sample data with n_clusters = %d\"\n",
    "            % n_clusters,\n",
    "            fontsize=14,\n",
    "            fontweight=\"bold\",\n",
    "        )\n",
    "\n",
    "plt.show()"
   ]
  },
  {
   "cell_type": "code",
   "execution_count": 29,
   "metadata": {},
   "outputs": [
    {
     "name": "stdout",
     "output_type": "stream",
     "text": [
      "For n_clusters = 2 The average silhouette_score is : 0.5055944790171516\n",
      "For n_clusters = 3 The average silhouette_score is : 0.5059330053249264\n",
      "For n_clusters = 4 The average silhouette_score is : 0.2903830989094578\n",
      "For n_clusters = 5 The average silhouette_score is : 0.2920469548285972\n",
      "For n_clusters = 6 The average silhouette_score is : 0.3017282013730017\n"
     ]
    },
    {
     "data": {
      "image/png": "[encoded data removed]",
      "text/plain": [
       "<Figure size 1296x504 with 2 Axes>"
      ]
     },
     "metadata": {
      "needs_background": "light"
     },
     "output_type": "display_data"
    },
    {
     "data": {
      "image/png": "[encoded data removed]",
      "text/plain": [
       "<Figure size 1296x504 with 2 Axes>"
      ]
     },
     "metadata": {
      "needs_background": "light"
     },
     "output_type": "display_data"
    },
    {
     "data": {
      "image/png": "[encoded data removed]",
      "text/plain": [
       "<Figure size 1296x504 with 2 Axes>"
      ]
     },
     "metadata": {
      "needs_background": "light"
     },
     "output_type": "display_data"
    },
    {
     "data": {
      "image/png": "[encoded data removed]",
      "text/plain": [
       "<Figure size 1296x504 with 2 Axes>"
      ]
     },
     "metadata": {
      "needs_background": "light"
     },
     "output_type": "display_data"
    },
    {
     "data": {
      "image/png": "[encoded data removed]",
      "text/plain": [
       "<Figure size 1296x504 with 2 Axes>"
      ]
     },
     "metadata": {
      "needs_background": "light"
     },
     "output_type": "display_data"
    }
   ],
   "source": [
    "silh(x_scaled)"
   ]
  },
  {
   "cell_type": "markdown",
   "metadata": {},
   "source": [
    "## Proses Cluster "
   ]
  },
  {
   "cell_type": "code",
   "execution_count": 33,
   "metadata": {},
   "outputs": [],
   "source": [
    "#menentukan model kmeans\n",
    "\n",
    "kmeans = KMeans(n_clusters=3, random_state= 123)"
   ]
  },
  {
   "cell_type": "code",
   "execution_count": 34,
   "metadata": {},
   "outputs": [
    {
     "data": {
      "text/plain": [
       "KMeans(n_clusters=3, random_state=123)"
      ]
     },
     "execution_count": 34,
     "metadata": {},
     "output_type": "execute_result"
    }
   ],
   "source": [
    "#Menginputkan data \n",
    "kmeans.fit(x_scaled)"
   ]
  },
  {
   "cell_type": "code",
   "execution_count": 35,
   "metadata": {},
   "outputs": [
    {
     "data": {
      "text/plain": [
       "array([1, 1, 1, 1, 1, 1, 1, 1, 1, 1, 0, 0, 0, 0, 0, 1, 2, 1, 1, 1, 1, 1,\n",
       "       1, 1, 1, 1, 1, 1, 1, 1, 1, 1, 1, 1])"
      ]
     },
     "execution_count": 35,
     "metadata": {},
     "output_type": "execute_result"
    }
   ],
   "source": [
    "#menampilkan label cluster \n",
    "kmeans.labels_"
   ]
  },
  {
   "cell_type": "code",
   "execution_count": 36,
   "metadata": {},
   "outputs": [
    {
     "data": {
      "text/plain": [
       "array([[0.09256218, 0.66590807, 0.01363633, 0.65669125, 0.68761031,\n",
       "        0.43639232],\n",
       "       [0.01868089, 0.07230719, 0.00945287, 0.08327072, 0.50492915,\n",
       "        0.24164194],\n",
       "       [1.        , 0.24351702, 1.        , 0.18990869, 0.88457466,\n",
       "        0.41651328]])"
      ]
     },
     "execution_count": 36,
     "metadata": {},
     "output_type": "execute_result"
    }
   ],
   "source": [
    "#menampilkan pusat cluster\n",
    "kmeans.cluster_centers_"
   ]
  },
  {
   "cell_type": "code",
   "execution_count": 37,
   "metadata": {},
   "outputs": [
    {
     "data": {
      "text/html": [
       "<div>\n",
       "<style scoped>\n",
       "    .dataframe tbody tr th:only-of-type {\n",
       "        vertical-align: middle;\n",
       "    }\n",
       "\n",
       "    .dataframe tbody tr th {\n",
       "        vertical-align: top;\n",
       "    }\n",
       "\n",
       "    .dataframe thead th {\n",
       "        text-align: right;\n",
       "    }\n",
       "</style>\n",
       "<table border=\"1\" class=\"dataframe\">\n",
       "  <thead>\n",
       "    <tr style=\"text-align: right;\">\n",
       "      <th></th>\n",
       "      <th>Provinsi</th>\n",
       "      <th>jum_asing</th>\n",
       "      <th>jum_lokal</th>\n",
       "      <th>jum_nb_asing</th>\n",
       "      <th>jum_nb_lokal</th>\n",
       "      <th>hunian_b</th>\n",
       "      <th>hunian_nb</th>\n",
       "      <th>cluster</th>\n",
       "    </tr>\n",
       "  </thead>\n",
       "  <tbody>\n",
       "    <tr>\n",
       "      <th>0</th>\n",
       "      <td>ACEH</td>\n",
       "      <td>9.21</td>\n",
       "      <td>312.73</td>\n",
       "      <td>10803.0</td>\n",
       "      <td>1030136.0</td>\n",
       "      <td>43.18</td>\n",
       "      <td>28.48</td>\n",
       "      <td>1</td>\n",
       "    </tr>\n",
       "    <tr>\n",
       "      <th>1</th>\n",
       "      <td>SUMATERA UTARA</td>\n",
       "      <td>201.88</td>\n",
       "      <td>2736.09</td>\n",
       "      <td>21104.0</td>\n",
       "      <td>4850322.0</td>\n",
       "      <td>48.86</td>\n",
       "      <td>36.54</td>\n",
       "      <td>1</td>\n",
       "    </tr>\n",
       "    <tr>\n",
       "      <th>2</th>\n",
       "      <td>SUMATERA BARAT</td>\n",
       "      <td>51.83</td>\n",
       "      <td>1470.99</td>\n",
       "      <td>3786.0</td>\n",
       "      <td>1167212.0</td>\n",
       "      <td>56.00</td>\n",
       "      <td>24.75</td>\n",
       "      <td>1</td>\n",
       "    </tr>\n",
       "    <tr>\n",
       "      <th>3</th>\n",
       "      <td>RIAU</td>\n",
       "      <td>35.33</td>\n",
       "      <td>4646.98</td>\n",
       "      <td>65845.0</td>\n",
       "      <td>1413345.0</td>\n",
       "      <td>48.69</td>\n",
       "      <td>30.71</td>\n",
       "      <td>1</td>\n",
       "    </tr>\n",
       "    <tr>\n",
       "      <th>4</th>\n",
       "      <td>JAMBI</td>\n",
       "      <td>6.02</td>\n",
       "      <td>502.86</td>\n",
       "      <td>2391.0</td>\n",
       "      <td>429609.7</td>\n",
       "      <td>45.49</td>\n",
       "      <td>23.13</td>\n",
       "      <td>1</td>\n",
       "    </tr>\n",
       "  </tbody>\n",
       "</table>\n",
       "</div>"
      ],
      "text/plain": [
       "         Provinsi  jum_asing  jum_lokal  jum_nb_asing  jum_nb_lokal  hunian_b  \\\n",
       "0            ACEH       9.21     312.73       10803.0     1030136.0     43.18   \n",
       "1  SUMATERA UTARA     201.88    2736.09       21104.0     4850322.0     48.86   \n",
       "2  SUMATERA BARAT      51.83    1470.99        3786.0     1167212.0     56.00   \n",
       "3            RIAU      35.33    4646.98       65845.0     1413345.0     48.69   \n",
       "4           JAMBI       6.02     502.86        2391.0      429609.7     45.49   \n",
       "\n",
       "   hunian_nb  cluster  \n",
       "0      28.48        1  \n",
       "1      36.54        1  \n",
       "2      24.75        1  \n",
       "3      30.71        1  \n",
       "4      23.13        1  "
      ]
     },
     "execution_count": 37,
     "metadata": {},
     "output_type": "execute_result"
    }
   ],
   "source": [
    "#menambahkan kolom cluster ke data frame pariwisata \n",
    "pariwisata['cluster']=kmeans.labels_\n",
    "pariwisata.head()"
   ]
  },
  {
   "cell_type": "markdown",
   "metadata": {},
   "source": [
    "# Profilisasi"
   ]
  },
  {
   "cell_type": "code",
   "execution_count": 38,
   "metadata": {},
   "outputs": [],
   "source": [
    "#membentuk grup berdasarkan kolom cluster\n",
    "grup = pariwisata.groupby('cluster')"
   ]
  },
  {
   "cell_type": "code",
   "execution_count": 40,
   "metadata": {},
   "outputs": [
    {
     "data": {
      "text/html": [
       "<div>\n",
       "<style scoped>\n",
       "    .dataframe tbody tr th:only-of-type {\n",
       "        vertical-align: middle;\n",
       "    }\n",
       "\n",
       "    .dataframe tbody tr th {\n",
       "        vertical-align: top;\n",
       "    }\n",
       "\n",
       "    .dataframe thead th {\n",
       "        text-align: right;\n",
       "    }\n",
       "</style>\n",
       "<table border=\"1\" class=\"dataframe\">\n",
       "  <thead>\n",
       "    <tr style=\"text-align: right;\">\n",
       "      <th></th>\n",
       "      <th>jum_asing</th>\n",
       "      <th>jum_lokal</th>\n",
       "      <th>jum_nb_asing</th>\n",
       "      <th>jum_nb_lokal</th>\n",
       "      <th>hunian_b</th>\n",
       "      <th>hunian_nb</th>\n",
       "    </tr>\n",
       "    <tr>\n",
       "      <th>cluster</th>\n",
       "      <th></th>\n",
       "      <th></th>\n",
       "      <th></th>\n",
       "      <th></th>\n",
       "      <th></th>\n",
       "      <th></th>\n",
       "    </tr>\n",
       "  </thead>\n",
       "  <tbody>\n",
       "    <tr>\n",
       "      <th>0</th>\n",
       "      <td>526.820000</td>\n",
       "      <td>8582.362000</td>\n",
       "      <td>3.360120e+04</td>\n",
       "      <td>6028068.800</td>\n",
       "      <td>55.550000</td>\n",
       "      <td>35.516000</td>\n",
       "    </tr>\n",
       "    <tr>\n",
       "      <th>1</th>\n",
       "      <td>106.626071</td>\n",
       "      <td>998.891071</td>\n",
       "      <td>2.329768e+04</td>\n",
       "      <td>906120.625</td>\n",
       "      <td>50.374643</td>\n",
       "      <td>28.109643</td>\n",
       "    </tr>\n",
       "    <tr>\n",
       "      <th>2</th>\n",
       "      <td>5687.800000</td>\n",
       "      <td>3186.160000</td>\n",
       "      <td>2.462937e+06</td>\n",
       "      <td>1858640.000</td>\n",
       "      <td>61.130000</td>\n",
       "      <td>34.760000</td>\n",
       "    </tr>\n",
       "  </tbody>\n",
       "</table>\n",
       "</div>"
      ],
      "text/plain": [
       "           jum_asing    jum_lokal  jum_nb_asing  jum_nb_lokal   hunian_b  \\\n",
       "cluster                                                                    \n",
       "0         526.820000  8582.362000  3.360120e+04   6028068.800  55.550000   \n",
       "1         106.626071   998.891071  2.329768e+04    906120.625  50.374643   \n",
       "2        5687.800000  3186.160000  2.462937e+06   1858640.000  61.130000   \n",
       "\n",
       "         hunian_nb  \n",
       "cluster             \n",
       "0        35.516000  \n",
       "1        28.109643  \n",
       "2        34.760000  "
      ]
     },
     "execution_count": 40,
     "metadata": {},
     "output_type": "execute_result"
    }
   ],
   "source": [
    "profil = pd.DataFrame(grup.mean())\n",
    "profil"
   ]
  },
  {
   "cell_type": "code",
   "execution_count": 44,
   "metadata": {},
   "outputs": [],
   "source": [
    "profil['cluster']=profil.index"
   ]
  },
  {
   "cell_type": "code",
   "execution_count": 45,
   "metadata": {},
   "outputs": [
    {
     "data": {
      "text/html": [
       "<div>\n",
       "<style scoped>\n",
       "    .dataframe tbody tr th:only-of-type {\n",
       "        vertical-align: middle;\n",
       "    }\n",
       "\n",
       "    .dataframe tbody tr th {\n",
       "        vertical-align: top;\n",
       "    }\n",
       "\n",
       "    .dataframe thead th {\n",
       "        text-align: right;\n",
       "    }\n",
       "</style>\n",
       "<table border=\"1\" class=\"dataframe\">\n",
       "  <thead>\n",
       "    <tr style=\"text-align: right;\">\n",
       "      <th></th>\n",
       "      <th>jum_asing</th>\n",
       "      <th>jum_lokal</th>\n",
       "      <th>jum_nb_asing</th>\n",
       "      <th>jum_nb_lokal</th>\n",
       "      <th>hunian_b</th>\n",
       "      <th>hunian_nb</th>\n",
       "      <th>cluster</th>\n",
       "    </tr>\n",
       "    <tr>\n",
       "      <th>cluster</th>\n",
       "      <th></th>\n",
       "      <th></th>\n",
       "      <th></th>\n",
       "      <th></th>\n",
       "      <th></th>\n",
       "      <th></th>\n",
       "      <th></th>\n",
       "    </tr>\n",
       "  </thead>\n",
       "  <tbody>\n",
       "    <tr>\n",
       "      <th>0</th>\n",
       "      <td>526.820000</td>\n",
       "      <td>8582.362000</td>\n",
       "      <td>3.360120e+04</td>\n",
       "      <td>6028068.800</td>\n",
       "      <td>55.550000</td>\n",
       "      <td>35.516000</td>\n",
       "      <td>0</td>\n",
       "    </tr>\n",
       "    <tr>\n",
       "      <th>1</th>\n",
       "      <td>106.626071</td>\n",
       "      <td>998.891071</td>\n",
       "      <td>2.329768e+04</td>\n",
       "      <td>906120.625</td>\n",
       "      <td>50.374643</td>\n",
       "      <td>28.109643</td>\n",
       "      <td>1</td>\n",
       "    </tr>\n",
       "    <tr>\n",
       "      <th>2</th>\n",
       "      <td>5687.800000</td>\n",
       "      <td>3186.160000</td>\n",
       "      <td>2.462937e+06</td>\n",
       "      <td>1858640.000</td>\n",
       "      <td>61.130000</td>\n",
       "      <td>34.760000</td>\n",
       "      <td>2</td>\n",
       "    </tr>\n",
       "  </tbody>\n",
       "</table>\n",
       "</div>"
      ],
      "text/plain": [
       "           jum_asing    jum_lokal  jum_nb_asing  jum_nb_lokal   hunian_b  \\\n",
       "cluster                                                                    \n",
       "0         526.820000  8582.362000  3.360120e+04   6028068.800  55.550000   \n",
       "1         106.626071   998.891071  2.329768e+04    906120.625  50.374643   \n",
       "2        5687.800000  3186.160000  2.462937e+06   1858640.000  61.130000   \n",
       "\n",
       "         hunian_nb  cluster  \n",
       "cluster                      \n",
       "0        35.516000        0  \n",
       "1        28.109643        1  \n",
       "2        34.760000        2  "
      ]
     },
     "execution_count": 45,
     "metadata": {},
     "output_type": "execute_result"
    }
   ],
   "source": [
    "profil"
   ]
  },
  {
   "cell_type": "code",
   "execution_count": 47,
   "metadata": {},
   "outputs": [
    {
     "data": {
      "text/plain": [
       "(array([0, 1, 2]), [Text(0, 0, '0'), Text(1, 0, '1'), Text(2, 0, '2')])"
      ]
     },
     "execution_count": 47,
     "metadata": {},
     "output_type": "execute_result"
    },
    {
     "data": {
      "image/png": "[encoded data removed]",
      "text/plain": [
       "<Figure size 432x288 with 1 Axes>"
      ]
     },
     "metadata": {
      "needs_background": "light"
     },
     "output_type": "display_data"
    }
   ],
   "source": [
    "#membuat visualisasi \n",
    "profil.plot(x='cluster',y=['jum_asing','jum_lokal'],kind='bar')\n",
    "plt.xticks(rotation=0)"
   ]
  },
  {
   "cell_type": "markdown",
   "metadata": {},
   "source": [
    "profilisasi cluster :\n",
    "1. kluster 0 : tinggi, jumlah wisatawan lokal yang menginap di hotel non bintang dan bintang tinggi.\n",
    "2. kluster 1 : rendah, jumlah wisatawan lokal yang menginap di hotel non bintang dan bintang rendah.\n",
    "3. kluster 2 : sedang, , jumlah wisatawan lokal yang menginap di hotel non bintang dan bintang sedang."
   ]
  },
  {
   "cell_type": "code",
   "execution_count": 49,
   "metadata": {},
   "outputs": [
    {
     "data": {
      "text/plain": [
       "(array([0, 1, 2]), [Text(0, 0, '0'), Text(1, 0, '1'), Text(2, 0, '2')])"
      ]
     },
     "execution_count": 49,
     "metadata": {},
     "output_type": "execute_result"
    },
    {
     "data": {
      "image/png": "[encoded data removed]",
      "text/plain": [
       "<Figure size 432x288 with 1 Axes>"
      ]
     },
     "metadata": {
      "needs_background": "light"
     },
     "output_type": "display_data"
    }
   ],
   "source": [
    "profil.plot(x='cluster',y=['jum_nb_asing','jum_nb_lokal'],kind='bar')\n",
    "plt.xticks(rotation=0)"
   ]
  },
  {
   "cell_type": "code",
   "execution_count": 50,
   "metadata": {},
   "outputs": [
    {
     "data": {
      "text/plain": [
       "(array([0, 1, 2]), [Text(0, 0, '0'), Text(1, 0, '1'), Text(2, 0, '2')])"
      ]
     },
     "execution_count": 50,
     "metadata": {},
     "output_type": "execute_result"
    },
    {
     "data": {
      "image/png": "[encoded data removed]",
      "text/plain": [
       "<Figure size 432x288 with 1 Axes>"
      ]
     },
     "metadata": {
      "needs_background": "light"
     },
     "output_type": "display_data"
    }
   ],
   "source": [
    "profil.plot(x='cluster',y=['hunian_b','hunian_nb'],kind='bar')\n",
    "plt.xticks(rotation=0)"
   ]
  },
  {
   "cell_type": "markdown",
   "metadata": {},
   "source": []
  },
  {
   "cell_type": "code",
   "execution_count": 41,
   "metadata": {},
   "outputs": [
    {
     "data": {
      "text/html": [
       "<div>\n",
       "<style scoped>\n",
       "    .dataframe tbody tr th:only-of-type {\n",
       "        vertical-align: middle;\n",
       "    }\n",
       "\n",
       "    .dataframe tbody tr th {\n",
       "        vertical-align: top;\n",
       "    }\n",
       "\n",
       "    .dataframe thead th {\n",
       "        text-align: right;\n",
       "    }\n",
       "</style>\n",
       "<table border=\"1\" class=\"dataframe\">\n",
       "  <thead>\n",
       "    <tr style=\"text-align: right;\">\n",
       "      <th></th>\n",
       "      <th>Provinsi</th>\n",
       "      <th>jum_asing</th>\n",
       "      <th>jum_lokal</th>\n",
       "      <th>jum_nb_asing</th>\n",
       "      <th>jum_nb_lokal</th>\n",
       "      <th>hunian_b</th>\n",
       "      <th>hunian_nb</th>\n",
       "      <th>cluster</th>\n",
       "    </tr>\n",
       "  </thead>\n",
       "  <tbody>\n",
       "    <tr>\n",
       "      <th>10</th>\n",
       "      <td>DKI JAKARTA</td>\n",
       "      <td>1529.76</td>\n",
       "      <td>10262.67</td>\n",
       "      <td>5969.0</td>\n",
       "      <td>4310569.0</td>\n",
       "      <td>59.71</td>\n",
       "      <td>56.95</td>\n",
       "      <td>0</td>\n",
       "    </tr>\n",
       "    <tr>\n",
       "      <th>11</th>\n",
       "      <td>JAWA BARAT</td>\n",
       "      <td>502.72</td>\n",
       "      <td>12850.51</td>\n",
       "      <td>37134.0</td>\n",
       "      <td>7483742.0</td>\n",
       "      <td>54.47</td>\n",
       "      <td>29.80</td>\n",
       "      <td>0</td>\n",
       "    </tr>\n",
       "    <tr>\n",
       "      <th>12</th>\n",
       "      <td>JAWA TENGAH</td>\n",
       "      <td>122.15</td>\n",
       "      <td>7247.54</td>\n",
       "      <td>7861.0</td>\n",
       "      <td>5539721.0</td>\n",
       "      <td>47.46</td>\n",
       "      <td>27.67</td>\n",
       "      <td>0</td>\n",
       "    </tr>\n",
       "    <tr>\n",
       "      <th>13</th>\n",
       "      <td>DI YOGYAKARTA</td>\n",
       "      <td>211.50</td>\n",
       "      <td>5025.09</td>\n",
       "      <td>57837.0</td>\n",
       "      <td>3711716.0</td>\n",
       "      <td>58.91</td>\n",
       "      <td>32.21</td>\n",
       "      <td>0</td>\n",
       "    </tr>\n",
       "    <tr>\n",
       "      <th>14</th>\n",
       "      <td>JAWA TIMUR</td>\n",
       "      <td>267.97</td>\n",
       "      <td>7526.00</td>\n",
       "      <td>59205.0</td>\n",
       "      <td>9094596.0</td>\n",
       "      <td>57.20</td>\n",
       "      <td>30.95</td>\n",
       "      <td>0</td>\n",
       "    </tr>\n",
       "  </tbody>\n",
       "</table>\n",
       "</div>"
      ],
      "text/plain": [
       "         Provinsi  jum_asing  jum_lokal  jum_nb_asing  jum_nb_lokal  hunian_b  \\\n",
       "10    DKI JAKARTA    1529.76   10262.67        5969.0     4310569.0     59.71   \n",
       "11     JAWA BARAT     502.72   12850.51       37134.0     7483742.0     54.47   \n",
       "12    JAWA TENGAH     122.15    7247.54        7861.0     5539721.0     47.46   \n",
       "13  DI YOGYAKARTA     211.50    5025.09       57837.0     3711716.0     58.91   \n",
       "14     JAWA TIMUR     267.97    7526.00       59205.0     9094596.0     57.20   \n",
       "\n",
       "    hunian_nb  cluster  \n",
       "10      56.95        0  \n",
       "11      29.80        0  \n",
       "12      27.67        0  \n",
       "13      32.21        0  \n",
       "14      30.95        0  "
      ]
     },
     "execution_count": 41,
     "metadata": {},
     "output_type": "execute_result"
    }
   ],
   "source": [
    "#Anggota cluster 0\n",
    "pariwisata[pariwisata.cluster==0]"
   ]
  },
  {
   "cell_type": "code",
   "execution_count": 42,
   "metadata": {},
   "outputs": [
    {
     "data": {
      "text/html": [
       "<div>\n",
       "<style scoped>\n",
       "    .dataframe tbody tr th:only-of-type {\n",
       "        vertical-align: middle;\n",
       "    }\n",
       "\n",
       "    .dataframe tbody tr th {\n",
       "        vertical-align: top;\n",
       "    }\n",
       "\n",
       "    .dataframe thead th {\n",
       "        text-align: right;\n",
       "    }\n",
       "</style>\n",
       "<table border=\"1\" class=\"dataframe\">\n",
       "  <thead>\n",
       "    <tr style=\"text-align: right;\">\n",
       "      <th></th>\n",
       "      <th>Provinsi</th>\n",
       "      <th>jum_asing</th>\n",
       "      <th>jum_lokal</th>\n",
       "      <th>jum_nb_asing</th>\n",
       "      <th>jum_nb_lokal</th>\n",
       "      <th>hunian_b</th>\n",
       "      <th>hunian_nb</th>\n",
       "      <th>cluster</th>\n",
       "    </tr>\n",
       "  </thead>\n",
       "  <tbody>\n",
       "    <tr>\n",
       "      <th>0</th>\n",
       "      <td>ACEH</td>\n",
       "      <td>9.21</td>\n",
       "      <td>312.73</td>\n",
       "      <td>10803.0</td>\n",
       "      <td>1030136.0</td>\n",
       "      <td>43.18</td>\n",
       "      <td>28.48</td>\n",
       "      <td>1</td>\n",
       "    </tr>\n",
       "    <tr>\n",
       "      <th>1</th>\n",
       "      <td>SUMATERA UTARA</td>\n",
       "      <td>201.88</td>\n",
       "      <td>2736.09</td>\n",
       "      <td>21104.0</td>\n",
       "      <td>4850322.0</td>\n",
       "      <td>48.86</td>\n",
       "      <td>36.54</td>\n",
       "      <td>1</td>\n",
       "    </tr>\n",
       "    <tr>\n",
       "      <th>2</th>\n",
       "      <td>SUMATERA BARAT</td>\n",
       "      <td>51.83</td>\n",
       "      <td>1470.99</td>\n",
       "      <td>3786.0</td>\n",
       "      <td>1167212.0</td>\n",
       "      <td>56.00</td>\n",
       "      <td>24.75</td>\n",
       "      <td>1</td>\n",
       "    </tr>\n",
       "    <tr>\n",
       "      <th>3</th>\n",
       "      <td>RIAU</td>\n",
       "      <td>35.33</td>\n",
       "      <td>4646.98</td>\n",
       "      <td>65845.0</td>\n",
       "      <td>1413345.0</td>\n",
       "      <td>48.69</td>\n",
       "      <td>30.71</td>\n",
       "      <td>1</td>\n",
       "    </tr>\n",
       "    <tr>\n",
       "      <th>4</th>\n",
       "      <td>JAMBI</td>\n",
       "      <td>6.02</td>\n",
       "      <td>502.86</td>\n",
       "      <td>2391.0</td>\n",
       "      <td>429609.7</td>\n",
       "      <td>45.49</td>\n",
       "      <td>23.13</td>\n",
       "      <td>1</td>\n",
       "    </tr>\n",
       "    <tr>\n",
       "      <th>5</th>\n",
       "      <td>SUMATERA SELATAN</td>\n",
       "      <td>14.05</td>\n",
       "      <td>2013.76</td>\n",
       "      <td>1157.0</td>\n",
       "      <td>1159986.0</td>\n",
       "      <td>53.99</td>\n",
       "      <td>32.51</td>\n",
       "      <td>1</td>\n",
       "    </tr>\n",
       "    <tr>\n",
       "      <th>6</th>\n",
       "      <td>BENGKULU</td>\n",
       "      <td>0.56</td>\n",
       "      <td>171.82</td>\n",
       "      <td>559.0</td>\n",
       "      <td>446140.5</td>\n",
       "      <td>64.06</td>\n",
       "      <td>29.04</td>\n",
       "      <td>1</td>\n",
       "    </tr>\n",
       "    <tr>\n",
       "      <th>7</th>\n",
       "      <td>LAMPUNG</td>\n",
       "      <td>3.01</td>\n",
       "      <td>785.58</td>\n",
       "      <td>10710.0</td>\n",
       "      <td>1207142.0</td>\n",
       "      <td>60.31</td>\n",
       "      <td>34.87</td>\n",
       "      <td>1</td>\n",
       "    </tr>\n",
       "    <tr>\n",
       "      <th>8</th>\n",
       "      <td>KEP. BANGKA BELITUNG</td>\n",
       "      <td>9.68</td>\n",
       "      <td>467.16</td>\n",
       "      <td>175.0</td>\n",
       "      <td>212880.4</td>\n",
       "      <td>36.07</td>\n",
       "      <td>20.78</td>\n",
       "      <td>1</td>\n",
       "    </tr>\n",
       "    <tr>\n",
       "      <th>9</th>\n",
       "      <td>KEP. RIAU</td>\n",
       "      <td>1595.59</td>\n",
       "      <td>1504.26</td>\n",
       "      <td>97611.0</td>\n",
       "      <td>1056443.0</td>\n",
       "      <td>52.31</td>\n",
       "      <td>35.73</td>\n",
       "      <td>1</td>\n",
       "    </tr>\n",
       "    <tr>\n",
       "      <th>15</th>\n",
       "      <td>BANTEN</td>\n",
       "      <td>464.21</td>\n",
       "      <td>2821.56</td>\n",
       "      <td>1429.0</td>\n",
       "      <td>943900.3</td>\n",
       "      <td>51.57</td>\n",
       "      <td>26.57</td>\n",
       "      <td>1</td>\n",
       "    </tr>\n",
       "    <tr>\n",
       "      <th>17</th>\n",
       "      <td>NUSA TENGGARA BARAT</td>\n",
       "      <td>195.80</td>\n",
       "      <td>557.37</td>\n",
       "      <td>237746.0</td>\n",
       "      <td>932996.5</td>\n",
       "      <td>42.23</td>\n",
       "      <td>27.39</td>\n",
       "      <td>1</td>\n",
       "    </tr>\n",
       "    <tr>\n",
       "      <th>18</th>\n",
       "      <td>NUSA TENGGARA TIMUR</td>\n",
       "      <td>58.59</td>\n",
       "      <td>449.67</td>\n",
       "      <td>112806.0</td>\n",
       "      <td>456460.6</td>\n",
       "      <td>52.17</td>\n",
       "      <td>23.52</td>\n",
       "      <td>1</td>\n",
       "    </tr>\n",
       "    <tr>\n",
       "      <th>19</th>\n",
       "      <td>KALIMANTAN BARAT</td>\n",
       "      <td>33.00</td>\n",
       "      <td>977.22</td>\n",
       "      <td>7301.0</td>\n",
       "      <td>1207524.0</td>\n",
       "      <td>47.74</td>\n",
       "      <td>29.82</td>\n",
       "      <td>1</td>\n",
       "    </tr>\n",
       "    <tr>\n",
       "      <th>20</th>\n",
       "      <td>KALIMANTAN TENGAH</td>\n",
       "      <td>6.68</td>\n",
       "      <td>396.28</td>\n",
       "      <td>1454.0</td>\n",
       "      <td>997713.2</td>\n",
       "      <td>56.71</td>\n",
       "      <td>24.98</td>\n",
       "      <td>1</td>\n",
       "    </tr>\n",
       "    <tr>\n",
       "      <th>21</th>\n",
       "      <td>KALIMANTAN SELATAN</td>\n",
       "      <td>9.41</td>\n",
       "      <td>1073.82</td>\n",
       "      <td>505.0</td>\n",
       "      <td>942969.8</td>\n",
       "      <td>50.72</td>\n",
       "      <td>30.95</td>\n",
       "      <td>1</td>\n",
       "    </tr>\n",
       "    <tr>\n",
       "      <th>22</th>\n",
       "      <td>KALIMANTAN TIMUR</td>\n",
       "      <td>30.66</td>\n",
       "      <td>1910.00</td>\n",
       "      <td>3151.0</td>\n",
       "      <td>1008884.0</td>\n",
       "      <td>57.70</td>\n",
       "      <td>31.01</td>\n",
       "      <td>1</td>\n",
       "    </tr>\n",
       "    <tr>\n",
       "      <th>23</th>\n",
       "      <td>KALIMANTAN UTARA</td>\n",
       "      <td>2.57</td>\n",
       "      <td>75.14</td>\n",
       "      <td>2424.0</td>\n",
       "      <td>362328.3</td>\n",
       "      <td>46.10</td>\n",
       "      <td>27.30</td>\n",
       "      <td>1</td>\n",
       "    </tr>\n",
       "    <tr>\n",
       "      <th>24</th>\n",
       "      <td>SULAWESI UTARA</td>\n",
       "      <td>164.71</td>\n",
       "      <td>829.37</td>\n",
       "      <td>42208.0</td>\n",
       "      <td>632282.6</td>\n",
       "      <td>64.40</td>\n",
       "      <td>39.70</td>\n",
       "      <td>1</td>\n",
       "    </tr>\n",
       "    <tr>\n",
       "      <th>25</th>\n",
       "      <td>SULAWESI TENGAH</td>\n",
       "      <td>2.00</td>\n",
       "      <td>154.09</td>\n",
       "      <td>5952.0</td>\n",
       "      <td>685989.3</td>\n",
       "      <td>50.13</td>\n",
       "      <td>23.75</td>\n",
       "      <td>1</td>\n",
       "    </tr>\n",
       "    <tr>\n",
       "      <th>26</th>\n",
       "      <td>SULAWESI SELATAN</td>\n",
       "      <td>46.91</td>\n",
       "      <td>2681.40</td>\n",
       "      <td>11228.0</td>\n",
       "      <td>1819646.0</td>\n",
       "      <td>51.03</td>\n",
       "      <td>30.65</td>\n",
       "      <td>1</td>\n",
       "    </tr>\n",
       "    <tr>\n",
       "      <th>27</th>\n",
       "      <td>SULAWESI TENGGARA</td>\n",
       "      <td>1.40</td>\n",
       "      <td>292.21</td>\n",
       "      <td>1011.0</td>\n",
       "      <td>637460.3</td>\n",
       "      <td>41.34</td>\n",
       "      <td>24.01</td>\n",
       "      <td>1</td>\n",
       "    </tr>\n",
       "    <tr>\n",
       "      <th>28</th>\n",
       "      <td>GORONTALO</td>\n",
       "      <td>1.99</td>\n",
       "      <td>128.30</td>\n",
       "      <td>1945.0</td>\n",
       "      <td>162323.9</td>\n",
       "      <td>49.74</td>\n",
       "      <td>22.13</td>\n",
       "      <td>1</td>\n",
       "    </tr>\n",
       "    <tr>\n",
       "      <th>29</th>\n",
       "      <td>SULAWESI BARAT</td>\n",
       "      <td>0.38</td>\n",
       "      <td>93.22</td>\n",
       "      <td>16.0</td>\n",
       "      <td>198274.8</td>\n",
       "      <td>49.91</td>\n",
       "      <td>18.92</td>\n",
       "      <td>1</td>\n",
       "    </tr>\n",
       "    <tr>\n",
       "      <th>30</th>\n",
       "      <td>MALUKU</td>\n",
       "      <td>7.57</td>\n",
       "      <td>130.06</td>\n",
       "      <td>4173.0</td>\n",
       "      <td>416005.9</td>\n",
       "      <td>38.10</td>\n",
       "      <td>24.46</td>\n",
       "      <td>1</td>\n",
       "    </tr>\n",
       "    <tr>\n",
       "      <th>31</th>\n",
       "      <td>MALUKU UTARA</td>\n",
       "      <td>0.66</td>\n",
       "      <td>93.65</td>\n",
       "      <td>516.0</td>\n",
       "      <td>308029.4</td>\n",
       "      <td>50.44</td>\n",
       "      <td>23.37</td>\n",
       "      <td>1</td>\n",
       "    </tr>\n",
       "    <tr>\n",
       "      <th>32</th>\n",
       "      <td>PAPUA BARAT</td>\n",
       "      <td>19.25</td>\n",
       "      <td>243.80</td>\n",
       "      <td>1772.0</td>\n",
       "      <td>237191.0</td>\n",
       "      <td>51.16</td>\n",
       "      <td>29.42</td>\n",
       "      <td>1</td>\n",
       "    </tr>\n",
       "    <tr>\n",
       "      <th>33</th>\n",
       "      <td>PAPUA</td>\n",
       "      <td>12.58</td>\n",
       "      <td>449.56</td>\n",
       "      <td>2557.0</td>\n",
       "      <td>448181.0</td>\n",
       "      <td>50.34</td>\n",
       "      <td>32.58</td>\n",
       "      <td>1</td>\n",
       "    </tr>\n",
       "  </tbody>\n",
       "</table>\n",
       "</div>"
      ],
      "text/plain": [
       "                Provinsi  jum_asing  jum_lokal  jum_nb_asing  jum_nb_lokal  \\\n",
       "0                   ACEH       9.21     312.73       10803.0     1030136.0   \n",
       "1         SUMATERA UTARA     201.88    2736.09       21104.0     4850322.0   \n",
       "2         SUMATERA BARAT      51.83    1470.99        3786.0     1167212.0   \n",
       "3                   RIAU      35.33    4646.98       65845.0     1413345.0   \n",
       "4                  JAMBI       6.02     502.86        2391.0      429609.7   \n",
       "5       SUMATERA SELATAN      14.05    2013.76        1157.0     1159986.0   \n",
       "6               BENGKULU       0.56     171.82         559.0      446140.5   \n",
       "7                LAMPUNG       3.01     785.58       10710.0     1207142.0   \n",
       "8   KEP. BANGKA BELITUNG       9.68     467.16         175.0      212880.4   \n",
       "9              KEP. RIAU    1595.59    1504.26       97611.0     1056443.0   \n",
       "15                BANTEN     464.21    2821.56        1429.0      943900.3   \n",
       "17   NUSA TENGGARA BARAT     195.80     557.37      237746.0      932996.5   \n",
       "18   NUSA TENGGARA TIMUR      58.59     449.67      112806.0      456460.6   \n",
       "19      KALIMANTAN BARAT      33.00     977.22        7301.0     1207524.0   \n",
       "20     KALIMANTAN TENGAH       6.68     396.28        1454.0      997713.2   \n",
       "21    KALIMANTAN SELATAN       9.41    1073.82         505.0      942969.8   \n",
       "22      KALIMANTAN TIMUR      30.66    1910.00        3151.0     1008884.0   \n",
       "23      KALIMANTAN UTARA       2.57      75.14        2424.0      362328.3   \n",
       "24        SULAWESI UTARA     164.71     829.37       42208.0      632282.6   \n",
       "25       SULAWESI TENGAH       2.00     154.09        5952.0      685989.3   \n",
       "26      SULAWESI SELATAN      46.91    2681.40       11228.0     1819646.0   \n",
       "27     SULAWESI TENGGARA       1.40     292.21        1011.0      637460.3   \n",
       "28             GORONTALO       1.99     128.30        1945.0      162323.9   \n",
       "29        SULAWESI BARAT       0.38      93.22          16.0      198274.8   \n",
       "30                MALUKU       7.57     130.06        4173.0      416005.9   \n",
       "31          MALUKU UTARA       0.66      93.65         516.0      308029.4   \n",
       "32           PAPUA BARAT      19.25     243.80        1772.0      237191.0   \n",
       "33                 PAPUA      12.58     449.56        2557.0      448181.0   \n",
       "\n",
       "    hunian_b  hunian_nb  cluster  \n",
       "0      43.18      28.48        1  \n",
       "1      48.86      36.54        1  \n",
       "2      56.00      24.75        1  \n",
       "3      48.69      30.71        1  \n",
       "4      45.49      23.13        1  \n",
       "5      53.99      32.51        1  \n",
       "6      64.06      29.04        1  \n",
       "7      60.31      34.87        1  \n",
       "8      36.07      20.78        1  \n",
       "9      52.31      35.73        1  \n",
       "15     51.57      26.57        1  \n",
       "17     42.23      27.39        1  \n",
       "18     52.17      23.52        1  \n",
       "19     47.74      29.82        1  \n",
       "20     56.71      24.98        1  \n",
       "21     50.72      30.95        1  \n",
       "22     57.70      31.01        1  \n",
       "23     46.10      27.30        1  \n",
       "24     64.40      39.70        1  \n",
       "25     50.13      23.75        1  \n",
       "26     51.03      30.65        1  \n",
       "27     41.34      24.01        1  \n",
       "28     49.74      22.13        1  \n",
       "29     49.91      18.92        1  \n",
       "30     38.10      24.46        1  \n",
       "31     50.44      23.37        1  \n",
       "32     51.16      29.42        1  \n",
       "33     50.34      32.58        1  "
      ]
     },
     "execution_count": 42,
     "metadata": {},
     "output_type": "execute_result"
    }
   ],
   "source": [
    "#Anggota cluster 1\n",
    "pariwisata[pariwisata.cluster==1]"
   ]
  },
  {
   "cell_type": "code",
   "execution_count": 43,
   "metadata": {},
   "outputs": [
    {
     "data": {
      "text/html": [
       "<div>\n",
       "<style scoped>\n",
       "    .dataframe tbody tr th:only-of-type {\n",
       "        vertical-align: middle;\n",
       "    }\n",
       "\n",
       "    .dataframe tbody tr th {\n",
       "        vertical-align: top;\n",
       "    }\n",
       "\n",
       "    .dataframe thead th {\n",
       "        text-align: right;\n",
       "    }\n",
       "</style>\n",
       "<table border=\"1\" class=\"dataframe\">\n",
       "  <thead>\n",
       "    <tr style=\"text-align: right;\">\n",
       "      <th></th>\n",
       "      <th>Provinsi</th>\n",
       "      <th>jum_asing</th>\n",
       "      <th>jum_lokal</th>\n",
       "      <th>jum_nb_asing</th>\n",
       "      <th>jum_nb_lokal</th>\n",
       "      <th>hunian_b</th>\n",
       "      <th>hunian_nb</th>\n",
       "      <th>cluster</th>\n",
       "    </tr>\n",
       "  </thead>\n",
       "  <tbody>\n",
       "    <tr>\n",
       "      <th>16</th>\n",
       "      <td>BALI</td>\n",
       "      <td>5687.8</td>\n",
       "      <td>3186.16</td>\n",
       "      <td>2462937.0</td>\n",
       "      <td>1858640.0</td>\n",
       "      <td>61.13</td>\n",
       "      <td>34.76</td>\n",
       "      <td>2</td>\n",
       "    </tr>\n",
       "  </tbody>\n",
       "</table>\n",
       "</div>"
      ],
      "text/plain": [
       "   Provinsi  jum_asing  jum_lokal  jum_nb_asing  jum_nb_lokal  hunian_b  \\\n",
       "16     BALI     5687.8    3186.16     2462937.0     1858640.0     61.13   \n",
       "\n",
       "    hunian_nb  cluster  \n",
       "16      34.76        2  "
      ]
     },
     "execution_count": 43,
     "metadata": {},
     "output_type": "execute_result"
    }
   ],
   "source": [
    "#Anggota cluster 2\n",
    "pariwisata[pariwisata.cluster==2]"
   ]
  },
  {
   "cell_type": "markdown",
   "metadata": {},
   "source": [
    "profilisasi cluster :\n",
    "1. kluster 0 : tinggi, jumlah wisatawan lokal yang menginap di hotel non bintang dan bintang tinggi.\n",
    "2. kluster 1 : rendah, jumlah wisatawan lokal yang menginap di hotel non bintang dan bintang rendah.\n",
    "3. kluster 2 : sedang, , jumlah wisatawan lokal yang menginap di hotel non bintang dan bintang sedang."
   ]
  },
  {
   "cell_type": "code",
   "execution_count": null,
   "metadata": {},
   "outputs": [],
   "source": []
  }
 ],
 "metadata": {
  "interpreter": {
   "hash": "42588fd11209419b7c81abe23e31a1d2101f60811b02170c268e57ebb57d5d9a"
  },
  "kernelspec": {
   "display_name": "Python 3.8.5 64-bit ('base': conda)",
   "language": "python",
   "name": "python3"
  },
  "language_info": {
   "codemirror_mode": {
    "name": "ipython",
    "version": 3
   },
   "file_extension": ".py",
   "mimetype": "text/x-python",
   "name": "python",
   "nbconvert_exporter": "python",
   "pygments_lexer": "ipython3",
   "version": "3.8.5"
  },
  "orig_nbformat": 4
 },
 "nbformat": 4,
 "nbformat_minor": 2
}
