{
 "cells": [
  {
   "cell_type": "markdown",
   "metadata": {},
   "source": [
    "## Membuat fungsi\n",
    "\n",
    "Suatu fungsi adalah satu blok kode yang terorganisir dan dapat digunakan kembali. Fungsi akan berjalan jika dipanggil. Kita dapat memasukkan suatu data ke dalam fungsi, disebut dengan parameter. Fungsi tersebut, akan mengeluarkan data sebagai hasil. \n",
    "\n",
    "Python memberikan kita fungsi bulit-in, seperti: print() yang digunakan untuk menampilkan suatu variabel.   \n",
    "\n",
    "Mendefinisikan fungsi:  \n",
    "1. Blok fungsi dimulai dengan kata kunci `def` dan diikuti dengan `nama fungsi` dan kurung `( () )`  \n",
    "2. Input/argumen harus diletakkan di dalam tanda kurung. Selain itu, fungsi kurung digunakan untuk mendefinisikan parameter di dalamnya.  \n",
    "3. Fungsi terdiri dari header dan body. Header terdiri dari nama dan parameter (input), sedangkan body terdiri dari statement-statement yang merupakan blok kode. \n",
    "3. Statement pertama dapat merupakan statement opsional: dokumen string atau docstring.  \n",
    "3. Blok suatu kode di setiap fungsi dimulai dengan tanda titik dua (:) dan menjorok *(indented)*.  \n",
    "4. Statement `return (ekspresi)` keluar suatu fungsi, secara opsional mengembalikan suatu ekspresi ke pemanggil fungsi. Suatu statement return dengan tanpa argumen sama saja sebagai return None.   \n",
    "\n",
    "Sintaks fungsi:  \n",
    "```\n",
    "def nama_fungsi( parameters ):\n",
    "   \"function_docstring\"\n",
    "   \n",
    "   kode program\n",
    "   kode program\n",
    "   kode program \n",
    "   ...\n",
    "   \n",
    "   return (expression)\n",
    "```"
   ]
  },
  {
   "cell_type": "markdown",
   "metadata": {},
   "source": [
    "## 1. Fungsi tanpa parameter input dan satu return"
   ]
  },
  {
   "cell_type": "code",
   "execution_count": 1,
   "metadata": {},
   "outputs": [],
   "source": [
    "def cetak():\n",
    "    print(\"Mata kuliah data intelligent dengan python\")"
   ]
  },
  {
   "cell_type": "code",
   "execution_count": 2,
   "metadata": {},
   "outputs": [
    {
     "name": "stdout",
     "output_type": "stream",
     "text": [
      "Mata kuliah data intelligent dengan python\n"
     ]
    }
   ],
   "source": [
    "cetak()"
   ]
  },
  {
   "cell_type": "code",
   "execution_count": 3,
   "metadata": {},
   "outputs": [],
   "source": [
    "def kuadrat():\n",
    "    \"Return nilai kuadrat 8\"\n",
    "    nilai = 8**2\n",
    "    return(nilai)"
   ]
  },
  {
   "cell_type": "code",
   "execution_count": 4,
   "metadata": {},
   "outputs": [
    {
     "data": {
      "text/plain": [
       "64"
      ]
     },
     "execution_count": 4,
     "metadata": {},
     "output_type": "execute_result"
    }
   ],
   "source": [
    "kuadrat()"
   ]
  },
  {
   "cell_type": "markdown",
   "metadata": {},
   "source": [
    "### Latihan 1\n",
    "Buatlah fungsi dengan nama: aku(), berikan doscstring, badan fungsi adalah nilai_aku (isi dengan sebarang nilai: str, int, float), contoh: nilai_aku = \"Orang yang rajin meng-coding\""
   ]
  },
  {
   "cell_type": "code",
   "execution_count": 5,
   "metadata": {},
   "outputs": [],
   "source": [
    "# Contoh\n",
    "def aku():\n",
    "    \"Return nilai aku\"\n",
    "    nilai_aku = str(1) + \" Orang yang rajin meng-coding\" \n",
    "    return(nilai_aku)"
   ]
  },
  {
   "cell_type": "code",
   "execution_count": 6,
   "metadata": {},
   "outputs": [
    {
     "data": {
      "text/plain": [
       "'1 Orang yang rajin meng-coding'"
      ]
     },
     "execution_count": 6,
     "metadata": {},
     "output_type": "execute_result"
    }
   ],
   "source": [
    "aku()"
   ]
  },
  {
   "cell_type": "markdown",
   "metadata": {},
   "source": [
    "## 2. Fungsi dengan satu parameter input"
   ]
  },
  {
   "cell_type": "code",
   "execution_count": 7,
   "metadata": {},
   "outputs": [],
   "source": [
    "# Contoh\n",
    "def kuadrat(angka):\n",
    "    \"Return nilai kuadrat dari angka\"\n",
    "    nilai = angka**2\n",
    "    return(nilai)"
   ]
  },
  {
   "cell_type": "code",
   "execution_count": 8,
   "metadata": {},
   "outputs": [
    {
     "data": {
      "text/plain": [
       "10100.25"
      ]
     },
     "execution_count": 8,
     "metadata": {},
     "output_type": "execute_result"
    }
   ],
   "source": [
    "kuadrat(100.5)"
   ]
  },
  {
   "cell_type": "markdown",
   "metadata": {},
   "source": [
    "### Latihan 2\n",
    "Buatlah parameter (input) untuk fungsi aku()"
   ]
  },
  {
   "cell_type": "code",
   "execution_count": 9,
   "metadata": {},
   "outputs": [],
   "source": [
    "# Contoh\n",
    "def aku(bahasa):\n",
    "    \"Return nilai aku\"\n",
    "    nilai_aku = \"Orang yang rajin meng-coding \" + bahasa\n",
    "    return(nilai_aku)"
   ]
  },
  {
   "cell_type": "code",
   "execution_count": 10,
   "metadata": {},
   "outputs": [
    {
     "data": {
      "text/plain": [
       "'Orang yang rajin meng-coding python'"
      ]
     },
     "execution_count": 10,
     "metadata": {},
     "output_type": "execute_result"
    }
   ],
   "source": [
    "aku(\"python\")"
   ]
  },
  {
   "cell_type": "code",
   "execution_count": 11,
   "metadata": {},
   "outputs": [
    {
     "data": {
      "text/plain": [
       "'Orang yang rajin meng-coding R'"
      ]
     },
     "execution_count": 11,
     "metadata": {},
     "output_type": "execute_result"
    }
   ],
   "source": [
    "aku(\"R\")"
   ]
  },
  {
   "cell_type": "markdown",
   "metadata": {},
   "source": [
    "## 3. Fungsi dengan lebih dari satu parameter"
   ]
  },
  {
   "cell_type": "code",
   "execution_count": 12,
   "metadata": {},
   "outputs": [],
   "source": [
    "# Perhatikan return dalam fungsi berikut\n",
    "\n",
    "def uii(nama, nim):\n",
    "    print(\"Nama:\", nama)\n",
    "    print(\"NIM :\", nim)\n",
    "    return"
   ]
  },
  {
   "cell_type": "code",
   "execution_count": 13,
   "metadata": {},
   "outputs": [
    {
     "name": "stdout",
     "output_type": "stream",
     "text": [
      "Nama: Arum\n",
      "NIM : 146110504\n"
     ]
    }
   ],
   "source": [
    "uii(\"Arum\", \"146110504\")"
   ]
  },
  {
   "cell_type": "markdown",
   "metadata": {},
   "source": [
    "## 4. Fungsi dengan lebih dari satu return\n",
    "\n",
    "Ditampilkan dalam bentuk tuple. \n",
    " "
   ]
  },
  {
   "cell_type": "code",
   "execution_count": 14,
   "metadata": {},
   "outputs": [
    {
     "name": "stdout",
     "output_type": "stream",
     "text": [
      "('apel', 'jeruk', 'pisang')\n"
     ]
    }
   ],
   "source": [
    "# Tuple\n",
    "buah = (\"apel\", \"jeruk\", \"pisang\")\n",
    "print(buah)"
   ]
  },
  {
   "cell_type": "code",
   "execution_count": 15,
   "metadata": {},
   "outputs": [
    {
     "name": "stdout",
     "output_type": "stream",
     "text": [
      "apel\n",
      "pisang\n"
     ]
    }
   ],
   "source": [
    "a, b, c = buah\n",
    "print(a)\n",
    "print(c)"
   ]
  },
  {
   "cell_type": "code",
   "execution_count": 16,
   "metadata": {},
   "outputs": [],
   "source": [
    "# Gunakan tuple untuk return yang lebih dari satu\n",
    "\n",
    "def ukuran(a, b):\n",
    "    \"Return keliling dan luas persegi panjang\"\n",
    "    keliling = 2*(a+b)\n",
    "    luas = a*b\n",
    "    return(keliling, luas)\n",
    "    "
   ]
  },
  {
   "cell_type": "code",
   "execution_count": 17,
   "metadata": {},
   "outputs": [
    {
     "data": {
      "text/plain": [
       "(24, 32)"
      ]
     },
     "execution_count": 17,
     "metadata": {},
     "output_type": "execute_result"
    }
   ],
   "source": [
    "ukuran(4, 8)"
   ]
  },
  {
   "cell_type": "code",
   "execution_count": 18,
   "metadata": {},
   "outputs": [],
   "source": [
    "kel, lu = ukuran(4,8)"
   ]
  },
  {
   "cell_type": "code",
   "execution_count": 19,
   "metadata": {},
   "outputs": [
    {
     "name": "stdout",
     "output_type": "stream",
     "text": [
      "24\n"
     ]
    }
   ],
   "source": [
    "print(kel)"
   ]
  },
  {
   "cell_type": "markdown",
   "metadata": {},
   "source": [
    "### Latihan 3\n",
    "\n",
    "Buatlah fungsi pembungaan berikut:  \n",
    "1. Bunga tunggal         \n",
    "    Bunga efektif: $i_e = \\frac{i}{1+i*(t-1)}$         \n",
    "    Nilai akumulasi: $At = k*(1+it)$         \n",
    "2. Bunga majemuk   \n",
    "    Bunga efektif: $i_e = i$       \n",
    "    Nilai akumulasi: $At = k*(1+i)^t$   \n",
    "  \n",
    "Berikan nama fungsi: bunga(), lengkapi dengan docstring, return ke nilai bunga efektif dan akumulasi bunga tunggal dan majemuk"
   ]
  },
  {
   "cell_type": "code",
   "execution_count": 20,
   "metadata": {},
   "outputs": [],
   "source": [
    "# buat fungsi pembungaan\n",
    "\n",
    "def bunga(pil, k, i, t):\n",
    "    '''\n",
    "    return ke nilai akumulasi bunga tunggal dan majemuk\n",
    "    pil = 1 untuk memilih bunga tunggal, pil = lainnya untk bunga majemuk\n",
    "    i = bunga\n",
    "    t = periode (tahun)\n",
    "    k = modal\n",
    "    '''\n",
    "    if pil == 1:\n",
    "        ie = i/(1+i*(t-1))\n",
    "        ak = k*(1+i*t)\n",
    "    else:\n",
    "        ie = i\n",
    "        ak = k*(1+i)**t\n",
    "        \n",
    "    return(ie, ak)"
   ]
  },
  {
   "cell_type": "code",
   "execution_count": 21,
   "metadata": {},
   "outputs": [],
   "source": [
    "# berikan return pada dua obyek berbeda a, b\n",
    "a, b = bunga(2, 100, 0.08, 4)"
   ]
  },
  {
   "cell_type": "code",
   "execution_count": 22,
   "metadata": {},
   "outputs": [
    {
     "name": "stdout",
     "output_type": "stream",
     "text": [
      "0.08 136.04889600000004\n"
     ]
    }
   ],
   "source": [
    "# print output a\n",
    "print(a, b)"
   ]
  },
  {
   "cell_type": "code",
   "execution_count": 23,
   "metadata": {},
   "outputs": [],
   "source": [
    "from random import randint"
   ]
  },
  {
   "cell_type": "markdown",
   "metadata": {},
   "source": [
    "### Latihan 4\n",
    "\n",
    "Buat suatu fungsi mengeluarkan bilangan random dengan aturan berikut:\n",
    "1. Memiliki input x: jumlah bilangan random dan y: batas atas bilangan random (0,y)\n",
    "2. Berikan nama fungsinya toss\n",
    "3. Berikan kategori berikut:     \n",
    "\n",
    "| bilangan random (a) | kategori       \n",
    "|:-------|:-----------   \n",
    "|a>=200 | tinggi    \n",
    "|100<=a<200 | sedang         \n",
    "|a<100 | rendah   \n",
    "\n",
    "contoh output merandom 3 bilangan dengan batas (0,500), dengan kategori seperti poin 3).  \n",
    "\n",
    "`toss(3, 500)`   \n",
    "0 200 tinggi   \n",
    "1 104 sedang    \n",
    "2 20  rendah    "
   ]
  },
  {
   "cell_type": "code",
   "execution_count": 33,
   "metadata": {},
   "outputs": [
    {
     "ename": "SyntaxError",
     "evalue": "invalid syntax (<ipython-input-33-3983d3cde34b>, line 3)",
     "output_type": "error",
     "traceback": [
      "\u001b[1;36m  File \u001b[1;32m\"<ipython-input-33-3983d3cde34b>\"\u001b[1;36m, line \u001b[1;32m3\u001b[0m\n\u001b[1;33m    def toss(x, y)\u001b[0m\n\u001b[1;37m                  ^\u001b[0m\n\u001b[1;31mSyntaxError\u001b[0m\u001b[1;31m:\u001b[0m invalid syntax\n"
     ]
    }
   ],
   "source": [
    "from random import randint\n",
    "\n",
    "def toss(x, y)\n",
    "    print(\"TINGGI:\", nama)\n",
    "    print(\"SEDANG:\", nim)\n",
    "    print(\"RENDAH:\", nim)\n",
    "    if besar>200:\n",
    "    print(\"Data proses sangat tinggi: \" + str(besar)+\" M\")\n",
    "    return"
   ]
  },
  {
   "cell_type": "markdown",
   "metadata": {},
   "source": [
    "## 5. Fungsi lambda\n",
    "\n",
    "Fungsi lambda adalah fungsi anonim yang kecil. Fungsi lambda dapat mengambil sejumlah argumen, tetapi hanya dapat memiliki satu ekspresi [3]. \n",
    "\n",
    "Fungsi-fungsi ini disebut anonim karena mereka tidak dideklarasikan dengan cara standar dengan menggunakan kata kunci `def`. Anda dapat menggunakan kata kunci lambda untuk membuat fungsi anonim kecil [1]. \n",
    "1. Bentuk lambda dapat mengambil sejumlah argumen tetapi hanya menghasilkan satu nilai dalam bentuk ekspresi. Mereka tidak dapat memuat perintah atau beberapa ekspresi.  \n",
    "2. Fungsi anonim tidak dapat panggilan langsung untuk mencetak karena lambda membutuhkan ekspresi.  \n",
    "3. Fungsi Lambda memiliki namespace lokal mereka sendiri dan tidak dapat mengakses variabel selain yang ada di daftar parameter mereka dan yang ada di namespace global.   \n",
    "  \n",
    "Sintak lamba:\n",
    "```\n",
    "lambda argumen-argumen : ekspresi\n",
    "```"
   ]
  },
  {
   "cell_type": "code",
   "execution_count": 24,
   "metadata": {},
   "outputs": [],
   "source": [
    "# Fungsi lambda yang menjumlahkan dengan 5, pada angka yang dituliskan dalam argumen\n",
    "\n",
    "x = lambda a: a + 5"
   ]
  },
  {
   "cell_type": "code",
   "execution_count": 25,
   "metadata": {},
   "outputs": [
    {
     "name": "stdout",
     "output_type": "stream",
     "text": [
      "12\n"
     ]
    }
   ],
   "source": [
    "print(x(7))"
   ]
  },
  {
   "cell_type": "code",
   "execution_count": 26,
   "metadata": {},
   "outputs": [],
   "source": [
    "jumlah = lambda x, y: x+y"
   ]
  },
  {
   "cell_type": "code",
   "execution_count": 27,
   "metadata": {},
   "outputs": [
    {
     "name": "stdout",
     "output_type": "stream",
     "text": [
      "120\n"
     ]
    }
   ],
   "source": [
    "print(jumlah(20, 100))"
   ]
  },
  {
   "cell_type": "markdown",
   "metadata": {},
   "source": [
    "### Latihan 5\n",
    "1. Buatlah lambda untuk modulo suatu bilangan dengan 4. Contoh (6 mod 4) = 2, (12 mod 4) = 0 . \n",
    "2. Buatlah lambda dengan input a, b, dan c dengan rumus $\\frac{1+a^b}{c}$"
   ]
  },
  {
   "cell_type": "code",
   "execution_count": 28,
   "metadata": {},
   "outputs": [],
   "source": [
    "# lambda modulo\n",
    "dd = lambda bil: bil%4"
   ]
  },
  {
   "cell_type": "code",
   "execution_count": 29,
   "metadata": {},
   "outputs": [
    {
     "data": {
      "text/plain": [
       "3"
      ]
     },
     "execution_count": 29,
     "metadata": {},
     "output_type": "execute_result"
    }
   ],
   "source": [
    "# berikan input bilangan 234463\n",
    "dd(234463)"
   ]
  },
  {
   "cell_type": "code",
   "execution_count": 30,
   "metadata": {},
   "outputs": [],
   "source": [
    "# lambda \n",
    "aa = lambda a, b, c: (1+a**b)/c\n"
   ]
  },
  {
   "cell_type": "code",
   "execution_count": 31,
   "metadata": {},
   "outputs": [
    {
     "data": {
      "text/plain": [
       "3.4"
      ]
     },
     "execution_count": 31,
     "metadata": {},
     "output_type": "execute_result"
    }
   ],
   "source": [
    "# berikan input a = 2, b = 5, c = 4\n",
    "aa(2, 4, 5)"
   ]
  },
  {
   "cell_type": "code",
   "execution_count": 4,
   "metadata": {},
   "outputs": [
    {
     "ename": "NameError",
     "evalue": "name 'np' is not defined",
     "output_type": "error",
     "traceback": [
      "\u001b[1;31m---------------------------------------------------------------------------\u001b[0m",
      "\u001b[1;31mNameError\u001b[0m                                 Traceback (most recent call last)",
      "\u001b[1;32m<ipython-input-4-952554816a4e>\u001b[0m in \u001b[0;36m<module>\u001b[1;34m\u001b[0m\n\u001b[1;32m----> 1\u001b[1;33m \u001b[0me\u001b[0m \u001b[1;33m=\u001b[0m \u001b[0mnp\u001b[0m\u001b[1;33m.\u001b[0m\u001b[0marray\u001b[0m\u001b[1;33m(\u001b[0m\u001b[1;33m[\u001b[0m\u001b[1;33m[\u001b[0m\u001b[1;36m1\u001b[0m\u001b[1;33m,\u001b[0m \u001b[1;36m2\u001b[0m\u001b[1;33m,\u001b[0m \u001b[1;36m3\u001b[0m\u001b[1;33m]\u001b[0m\u001b[1;33m,\u001b[0m \u001b[1;33m[\u001b[0m\u001b[1;36m4\u001b[0m\u001b[1;33m,\u001b[0m \u001b[1;36m5\u001b[0m\u001b[1;33m,\u001b[0m \u001b[1;36m6\u001b[0m\u001b[1;33m]\u001b[0m\u001b[1;33m]\u001b[0m\u001b[1;33m,\u001b[0m \u001b[0mndmin\u001b[0m \u001b[1;33m=\u001b[0m \u001b[1;36m3\u001b[0m\u001b[1;33m)\u001b[0m\u001b[1;33m\u001b[0m\u001b[1;33m\u001b[0m\u001b[0m\n\u001b[0m\u001b[0;32m      2\u001b[0m \u001b[0mprint\u001b[0m\u001b[1;33m(\u001b[0m\u001b[0me\u001b[0m\u001b[1;33m)\u001b[0m\u001b[1;33m\u001b[0m\u001b[1;33m\u001b[0m\u001b[0m\n",
      "\u001b[1;31mNameError\u001b[0m: name 'np' is not defined"
     ]
    }
   ],
   "source": [
    "e = np.array([[1, 2, 3], [4, 5, 6]], ndmin = 3)\n",
    "print(e)"
   ]
  },
  {
   "cell_type": "markdown",
   "metadata": {},
   "source": [
    "Reference:\n",
    "1. tutorial point, 2018, Python Function, https://www.tutorialspoint.com/python/python_functions.htm\n",
    "2. w3schools, 2018, Python Function, https://www.w3schools.com/python/python_functions.asp \n",
    "3. w3schools, 2018, Python Lambda, https://www.w3schools.com/python/python_lambda.asp  \n"
   ]
  }
 ],
 "metadata": {
  "interpreter": {
   "hash": "770021e68aae5e5bc49f7a3b6edb919a4a251fef8e7696fd47196c25263b13c4"
  },
  "kernelspec": {
   "display_name": "Python 3.8.5 64-bit ('base': conda)",
   "name": "python3"
  },
  "language_info": {
   "codemirror_mode": {
    "name": "ipython",
    "version": 3
   },
   "file_extension": ".py",
   "mimetype": "text/x-python",
   "name": "python",
   "nbconvert_exporter": "python",
   "pygments_lexer": "ipython3",
   "version": "3.8.5"
  }
 },
 "nbformat": 4,
 "nbformat_minor": 2
}
